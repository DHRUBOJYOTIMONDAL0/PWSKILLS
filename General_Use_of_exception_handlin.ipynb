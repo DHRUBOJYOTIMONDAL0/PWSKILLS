{
 "cells": [
  {
   "cell_type": "code",
   "execution_count": 2,
   "id": "fa234e10-c33c-4112-bddb-2858828765ab",
   "metadata": {},
   "outputs": [
    {
     "name": "stdout",
     "output_type": "stream",
     "text": [
      "There is some error\n"
     ]
    }
   ],
   "source": [
    "try:\n",
    "    100/0\n",
    "except: # genric exception to print your message \n",
    "    print(\"There is some error\")"
   ]
  },
  {
   "cell_type": "markdown",
   "id": "4d053448",
   "metadata": {},
   "source": []
  },
  {
   "cell_type": "code",
   "execution_count": 3,
   "id": "a910e793-55b7-4a04-8260-a5797bc82e79",
   "metadata": {},
   "outputs": [
    {
     "name": "stdout",
     "output_type": "stream",
     "text": [
      "There is some error division by zero\n"
     ]
    }
   ],
   "source": [
    "try:\n",
    "    100/0\n",
    "except Exception as e: # genric exception to print your message \n",
    "    print(\"There is some error\", e)"
   ]
  },
  {
   "cell_type": "code",
   "execution_count": 4,
   "id": "f55bfa30-224d-40b0-b057-5d5f3395a8ba",
   "metadata": {},
   "outputs": [
    {
     "ename": "ZeroDivisionError",
     "evalue": "division by zero",
     "output_type": "error",
     "traceback": [
      "\u001b[0;31m---------------------------------------------------------------------------\u001b[0m",
      "\u001b[0;31mZeroDivisionError\u001b[0m                         Traceback (most recent call last)",
      "Cell \u001b[0;32mIn[4], line 1\u001b[0m\n\u001b[0;32m----> 1\u001b[0m \u001b[38;5;241;43m200\u001b[39;49m\u001b[38;5;241;43m/\u001b[39;49m\u001b[38;5;241;43m0\u001b[39;49m\n",
      "\u001b[0;31mZeroDivisionError\u001b[0m: division by zero"
     ]
    }
   ],
   "source": [
    "200/0"
   ]
  },
  {
   "cell_type": "code",
   "execution_count": 6,
   "id": "d3958137-c583-4c92-b3f9-11deea5d0ed9",
   "metadata": {},
   "outputs": [
    {
     "name": "stdout",
     "output_type": "stream",
     "text": [
      "Here I am hanling Zero Division Error division by zero\n"
     ]
    }
   ],
   "source": [
    "try:\n",
    "    100/0\n",
    "except ZeroDivisionError as e: # genric exception to print your message \n",
    "    print(\"Here I am hanling Zero Division Error\", e)"
   ]
  },
  {
   "cell_type": "code",
   "execution_count": 7,
   "id": "a2a15db1-bb53-4663-a34a-5ecf7bd47154",
   "metadata": {},
   "outputs": [
    {
     "ename": "TypeError",
     "evalue": "unsupported operand type(s) for /: 'int' and 'str'",
     "output_type": "error",
     "traceback": [
      "\u001b[0;31m---------------------------------------------------------------------------\u001b[0m",
      "\u001b[0;31mTypeError\u001b[0m                                 Traceback (most recent call last)",
      "Cell \u001b[0;32mIn[7], line 1\u001b[0m\n\u001b[0;32m----> 1\u001b[0m \u001b[38;5;241;43m1\u001b[39;49m\u001b[38;5;241;43m/\u001b[39;49m\u001b[38;5;124;43m\"\u001b[39;49m\u001b[38;5;124;43m3\u001b[39;49m\u001b[38;5;124;43m\"\u001b[39;49m\n",
      "\u001b[0;31mTypeError\u001b[0m: unsupported operand type(s) for /: 'int' and 'str'"
     ]
    }
   ],
   "source": [
    "1/\"3\""
   ]
  },
  {
   "cell_type": "code",
   "execution_count": 10,
   "id": "359031d7-aaee-4896-a504-504fffc48797",
   "metadata": {},
   "outputs": [
    {
     "name": "stdout",
     "output_type": "stream",
     "text": [
      "The division is not possible due to error>> division by zero\n"
     ]
    }
   ],
   "source": [
    "# hanling two Exception\n",
    "\n",
    "try:\n",
    "    10/0\n",
    "except(ZeroDivisionError, TypeError) as e:\n",
    "    print(\"The division is not possible due to error>>\", e)"
   ]
  },
  {
   "cell_type": "code",
   "execution_count": 13,
   "id": "d128676f-3dfe-476f-8a45-3ca4c6308ba1",
   "metadata": {},
   "outputs": [
    {
     "name": "stdout",
     "output_type": "stream",
     "text": [
      "The division is not possible due to error>> division by zero\n"
     ]
    }
   ],
   "source": [
    "try:\n",
    "    10/0\n",
    "except ZeroDivisionError as e:\n",
    "    print(\"The division is not possible due to error>>\", e)\n",
    "except ValueError as e:\n",
    "    print(\"This is value erroe>>\", e)"
   ]
  },
  {
   "cell_type": "code",
   "execution_count": 15,
   "id": "a624a292-4c9e-446e-8129-06eaeebb59a7",
   "metadata": {},
   "outputs": [
    {
     "name": "stdout",
     "output_type": "stream",
     "text": [
      "This is Type error>> unsupported operand type(s) for /: 'int' and 'str'\n"
     ]
    }
   ],
   "source": [
    "try:\n",
    "    10/\"Some String\"\n",
    "except ZeroDivisionError as e:\n",
    "    print(\"The division is not possible due to error>>\", e)\n",
    "except TypeError as e:\n",
    "    print(\"This is Type error>>\", e)"
   ]
  },
  {
   "cell_type": "code",
   "execution_count": null,
   "id": "258ee321-d16c-4ef5-963a-62ef0c3687fd",
   "metadata": {},
   "outputs": [],
   "source": []
  }
 ],
 "metadata": {
  "kernelspec": {
   "display_name": "Python 3 (ipykernel)",
   "language": "python",
   "name": "python3"
  },
  "language_info": {
   "codemirror_mode": {
    "name": "ipython",
    "version": 3
   },
   "file_extension": ".py",
   "mimetype": "text/x-python",
   "name": "python",
   "nbconvert_exporter": "python",
   "pygments_lexer": "ipython3",
   "version": "3.13.1"
  }
 },
 "nbformat": 4,
 "nbformat_minor": 5
}
