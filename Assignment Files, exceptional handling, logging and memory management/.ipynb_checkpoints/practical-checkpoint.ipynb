{
 "cells": [
  {
   "cell_type": "code",
   "execution_count": 4,
   "id": "333bdaca-0bd2-4b6d-9d81-ac7bb4fa236c",
   "metadata": {},
   "outputs": [
    {
     "name": "stdout",
     "output_type": "stream",
     "text": [
      "String written to file successfully.\n"
     ]
    }
   ],
   "source": [
    "1. # How can you open a file for writing in Python and write a string to it.\n",
    "\n",
    "# file=open(\"example.txt\",\"w\")\n",
    "# file.write(\"This is my first line\")\n",
    "# file.close()\n",
    "\n",
    "with open('example.txt', 'w') as file:\n",
    "    file.write('Hello, world!')\n",
    "\n",
    "print(\"String written to file successfully.\")"
   ]
  },
  {
   "cell_type": "code",
   "execution_count": 8,
   "id": "9f724701-301e-4b9b-9061-0c8fc6b21202",
   "metadata": {},
   "outputs": [
    {
     "name": "stdout",
     "output_type": "stream",
     "text": [
      "This is my frist line\n",
      "\n",
      "This is my second line\n",
      "\n",
      "This is my third line\n",
      "\n",
      "This is my fourth line\n",
      "\n"
     ]
    }
   ],
   "source": [
    "2. # Write a Python program to read the contents of a file and print each line\n",
    "# file = open(\"file.txt\", \"w\")\n",
    "# file.write(\"This is my frist line\\n\")\n",
    "# file.write(\"This is my second line\\n\")\n",
    "# file.write(\"This is my third line\\n\")\n",
    "# file.write(\"This is my fourth line\\n\")\n",
    "# file.close()\n",
    "\n",
    "file = open(\"file.txt\", \"r\")\n",
    "for i in file:\n",
    "    print(i)"
   ]
  },
  {
   "cell_type": "code",
   "execution_count": 12,
   "id": "740e34e5-b9b0-4c33-b481-9b5aa6753b19",
   "metadata": {},
   "outputs": [
    {
     "name": "stdout",
     "output_type": "stream",
     "text": [
      "Error: The file 'example.txt' does not exist.\n"
     ]
    }
   ],
   "source": [
    "3.# How would you handle a case where the file doesn't exist while trying to open it for reading\n",
    "\n",
    "try:\n",
    "    with open('test.txt', 'r') as file:\n",
    "        for line in file:\n",
    "            print(line.strip())\n",
    "except FileNotFoundError:\n",
    "    print(\"Error: The file 'example.txt' does not exist.\")"
   ]
  },
  {
   "cell_type": "code",
   "execution_count": 13,
   "id": "78fbef66-a647-4218-b450-5d0c25acc730",
   "metadata": {},
   "outputs": [
    {
     "name": "stdout",
     "output_type": "stream",
     "text": [
      "Content copied from source.txt to destination.txt successfully.\n"
     ]
    }
   ],
   "source": [
    " 4. # Write a Python script that reads from one file and writes its content to another file.\n",
    "# Open the source file for reading\n",
    "with open('file.txt', 'r') as source_file:\n",
    "    content = source_file.read()\n",
    "with open('destination.txt', 'w') as destination_file:\n",
    "    destination_file.write(content)\n",
    "print(\"Content copied from source.txt to destination.txt successfully.\")\n"
   ]
  },
  {
   "cell_type": "code",
   "execution_count": 15,
   "id": "5910963e-f5cc-4177-a853-a04bb0373ed8",
   "metadata": {},
   "outputs": [
    {
     "name": "stdout",
     "output_type": "stream",
     "text": [
      "Error: Division by zero is not allowed.\n",
      "Program continues after handling the exception.\n"
     ]
    }
   ],
   "source": [
    "5. # How would you catch and handle division by zero error in Python.\n",
    "try:\n",
    "    result = 10 / 0\n",
    "except ZeroDivisionError:\n",
    "    print(\"Error: Division by zero is not allowed.\")\n",
    "print(\"Program continues after handling the exception.\")\n"
   ]
  },
  {
   "cell_type": "code",
   "execution_count": 17,
   "id": "53b54742-32fc-40dc-8e72-d6e54db9a3b6",
   "metadata": {},
   "outputs": [
    {
     "name": "stdout",
     "output_type": "stream",
     "text": [
      "Program continues after handling the exception.\n"
     ]
    }
   ],
   "source": [
    "6. # Write a Python program that logs an error message to a log file when a division by zero exception occurs.\n",
    "\n",
    "import logging\n",
    "logging.basicConfig(filename='error.log', level=logging.ERROR, format='%(asctime)s - %(levelname)s - %(message)s')\n",
    "try:\n",
    "    result = 10 / 0\n",
    "except ZeroDivisionError:\n",
    "    logging.error(\"Division by zero error occurred.\")\n",
    "print(\"Program continues after handling the exception.\")\n",
    "\n"
   ]
  },
  {
   "cell_type": "code",
   "execution_count": 18,
   "id": "c1aa7946-a203-4490-a48d-dfd2a1ec52b0",
   "metadata": {},
   "outputs": [
    {
     "name": "stdout",
     "output_type": "stream",
     "text": [
      "Log messages have been written to application.log\n"
     ]
    }
   ],
   "source": [
    "7. #  How do you log information at different levels (INFO, ERROR, WARNING) in Python using the logging module,\n",
    "\n",
    "import logging\n",
    "logging.basicConfig(filename='application.log', level=logging.DEBUG, format='%(asctime)s - %(levelname)s - %(message)s')\n",
    "logging.debug(\"This is a debug message.\")\n",
    "logging.info(\"This is an info message.\")\n",
    "logging.warning(\"This is a warning message.\")\n",
    "logging.error(\"This is an error message.\")\n",
    "logging.critical(\"This is a critical message.\")\n",
    "\n",
    "print(\"Log messages have been written to application.log\")\n"
   ]
  },
  {
   "cell_type": "code",
   "execution_count": 19,
   "id": "3f304316-42f9-45c0-b986-587346d021a4",
   "metadata": {},
   "outputs": [
    {
     "name": "stdout",
     "output_type": "stream",
     "text": [
      "Error: The file 'non_existent_file.txt' does not exist.\n",
      "Program continues after handling the exception.\n"
     ]
    }
   ],
   "source": [
    "8. # Write a program to handle a file opening error using exception handling.\n",
    "\n",
    "try:\n",
    "    with open('non_existent_file.txt', 'r') as file:\n",
    "        content = file.read()\n",
    "        print(content)\n",
    "except FileNotFoundError:\n",
    "    print(\"Error: The file 'non_existent_file.txt' does not exist.\")\n",
    "except PermissionError:\n",
    "    print(\"Error: You do not have permission to access 'non_existent_file.txt'.\")\n",
    "except Exception as e:\n",
    "    print(f\"An unexpected error occurred: {e}\")\n",
    "print(\"Program continues after handling the exception.\")\n"
   ]
  },
  {
   "cell_type": "code",
   "execution_count": 20,
   "id": "0af15b6c-29b2-465f-9d89-020c974ca94b",
   "metadata": {},
   "outputs": [
    {
     "name": "stdout",
     "output_type": "stream",
     "text": [
      "['This is my frist line', 'This is my second line', 'This is my third line', 'This is my fourth line']\n"
     ]
    }
   ],
   "source": [
    "9. # How can you read a file line by line and store its content in a list in Python.\n",
    "with open('file.txt', 'r') as file:\n",
    "    lines = [line.strip() for line in file]\n",
    "print(lines)\n"
   ]
  },
  {
   "cell_type": "code",
   "execution_count": 22,
   "id": "424b326f-e126-4a73-bae2-e60924fc0d98",
   "metadata": {},
   "outputs": [
    {
     "name": "stdout",
     "output_type": "stream",
     "text": [
      "Add new text successfully.\n"
     ]
    }
   ],
   "source": [
    "10. # How can you append data to an existing file in Python.\n",
    "with open(\"example.txt\", \"a\") as file:\n",
    "    file.write(\"Hey What's Up\")\n",
    "print(\"Add new text successfully.\")    "
   ]
  },
  {
   "cell_type": "code",
   "execution_count": 24,
   "id": "01f8dc4a-8695-4a24-a935-6167b8b9c3fd",
   "metadata": {},
   "outputs": [
    {
     "name": "stdout",
     "output_type": "stream",
     "text": [
      "Error: The key 'Phone' does not exist in the dictionary.\n",
      "Program continues after handling the exception.\n"
     ]
    }
   ],
   "source": [
    "11. # Write a Python program that uses a try-except block to handle an error when attempting to access a\n",
    "# dictionary key that doesn't exist.\n",
    "\n",
    "my_dict = {'Name': 'Dhrubojyoti', 'Age' : 21, 'City' : 'Kolkata'}\n",
    "try:\n",
    "    value = my_dict['Phone']\n",
    "except KeyError:\n",
    "    print(\"Error: The key 'Phone' does not exist in the dictionary.\")\n",
    "print(\"Program continues after handling the exception.\")"
   ]
  },
  {
   "cell_type": "code",
   "execution_count": 26,
   "id": "8367eddd-7159-4f90-8603-570ef5d32500",
   "metadata": {},
   "outputs": [
    {
     "name": "stdout",
     "output_type": "stream",
     "text": [
      "Error: Division by zero is not allowed.\n",
      "Program continues after handling the exceptions.\n"
     ]
    }
   ],
   "source": [
    "12. # Write a program that demonstrates using multiple except blocks to handle different types of exceptions.\n",
    "\n",
    "def demonstrate_exceptions():\n",
    "    try:\n",
    "        result = 10 / 0\n",
    "        print(f\"Division result: {result}\")\n",
    "        my_dict = {'name': 'Dhrubo'}\n",
    "        value = my_dict['age']\n",
    "        print(f\"Age: {value}\")\n",
    "        with open('test.txt', 'r') as file:\n",
    "            content = file.read()\n",
    "            print(content)\n",
    "\n",
    "    except ZeroDivisionError:\n",
    "        print(\"Error: Division by zero is not allowed.\")\n",
    "    \n",
    "    except KeyError:\n",
    "        print(\"Error: The key does not exist in the dictionary.\")\n",
    "    \n",
    "    except FileNotFoundError:\n",
    "        print(\"Error: The file does not exist.\")\n",
    "    \n",
    "    except Exception as e:\n",
    "        print(f\"An unexpected error occurred: {e}\")\n",
    "demonstrate_exceptions()\n",
    "print(\"Program continues after handling the exceptions.\")\n"
   ]
  },
  {
   "cell_type": "code",
   "execution_count": 28,
   "id": "34cf1e49-53be-4008-8cbd-59597fbe66df",
   "metadata": {},
   "outputs": [
    {
     "name": "stdout",
     "output_type": "stream",
     "text": [
      "Hello, world!Hey What's Up\n"
     ]
    }
   ],
   "source": [
    "13. #  How would you check if a file exists before attempting to read it in Python.\n",
    "import os\n",
    "\n",
    "file_path = 'example.txt'\n",
    "if os.path.exists(file_path):\n",
    "    with open(file_path, 'r') as file:\n",
    "        content = file.read()\n",
    "        print(content)\n",
    "else:\n",
    "    print(\"Error: The file does not exist.\")\n"
   ]
  },
  {
   "cell_type": "code",
   "execution_count": null,
   "id": "e11a75ab-41bc-4b05-a5a9-afea4f5ebac9",
   "metadata": {},
   "outputs": [],
   "source": []
  }
 ],
 "metadata": {
  "kernelspec": {
   "display_name": "Python 3 (ipykernel)",
   "language": "python",
   "name": "python3"
  },
  "language_info": {
   "codemirror_mode": {
    "name": "ipython",
    "version": 3
   },
   "file_extension": ".py",
   "mimetype": "text/x-python",
   "name": "python",
   "nbconvert_exporter": "python",
   "pygments_lexer": "ipython3",
   "version": "3.13.1"
  }
 },
 "nbformat": 4,
 "nbformat_minor": 5
}
