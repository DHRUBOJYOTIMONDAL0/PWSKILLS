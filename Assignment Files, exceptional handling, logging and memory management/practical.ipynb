{
 "cells": [
  {
   "cell_type": "code",
   "execution_count": 15,
   "id": "333bdaca-0bd2-4b6d-9d81-ac7bb4fa236c",
   "metadata": {},
   "outputs": [
    {
     "name": "stdout",
     "output_type": "stream",
     "text": [
      "String written to file successfully.\n"
     ]
    }
   ],
   "source": [
    "1. # How can you open a file for writing in Python and write a string to it.\n",
    "\n",
    "# file=open(\"example.txt\",\"w\")\n",
    "# file.write(\"This is my first line\")\n",
    "# file.close()\n",
    "\n",
    "with open('example.txt', 'w') as file:\n",
    "    file.write('Hello, world!')\n",
    "\n",
    "print(\"String written to file successfully.\")"
   ]
  },
  {
   "cell_type": "code",
   "execution_count": 8,
   "id": "9f724701-301e-4b9b-9061-0c8fc6b21202",
   "metadata": {},
   "outputs": [
    {
     "name": "stdout",
     "output_type": "stream",
     "text": [
      "This is my frist line\n",
      "\n",
      "This is my second line\n",
      "\n",
      "This is my third line\n",
      "\n",
      "This is my fourth line\n",
      "\n"
     ]
    }
   ],
   "source": [
    "2. # Write a Python program to read the contents of a file and print each line\n",
    "# file = open(\"file.txt\", \"w\")\n",
    "# file.write(\"This is my frist line\\n\")\n",
    "# file.write(\"This is my second line\\n\")\n",
    "# file.write(\"This is my third line\\n\")\n",
    "# file.write(\"This is my fourth line\\n\")\n",
    "# file.close()\n",
    "\n",
    "file = open(\"file.txt\", \"r\")\n",
    "for i in file:\n",
    "    print(i)"
   ]
  },
  {
   "cell_type": "code",
   "execution_count": 12,
   "id": "740e34e5-b9b0-4c33-b481-9b5aa6753b19",
   "metadata": {},
   "outputs": [
    {
     "name": "stdout",
     "output_type": "stream",
     "text": [
      "Error: The file 'example.txt' does not exist.\n"
     ]
    }
   ],
   "source": [
    "3.# How would you handle a case where the file doesn't exist while trying to open it for reading\n",
    "\n",
    "try:\n",
    "    with open('test.txt', 'r') as file:\n",
    "        for line in file:\n",
    "            print(line.strip())\n",
    "except FileNotFoundError:\n",
    "    print(\"Error: The file 'example.txt' does not exist.\")"
   ]
  },
  {
   "cell_type": "code",
   "execution_count": 13,
   "id": "78fbef66-a647-4218-b450-5d0c25acc730",
   "metadata": {},
   "outputs": [
    {
     "name": "stdout",
     "output_type": "stream",
     "text": [
      "Content copied from source.txt to destination.txt successfully.\n"
     ]
    }
   ],
   "source": [
    " 4. # Write a Python script that reads from one file and writes its content to another file.\n",
    "# Open the source file for reading\n",
    "with open('file.txt', 'r') as source_file:\n",
    "    content = source_file.read()\n",
    "with open('destination.txt', 'w') as destination_file:\n",
    "    destination_file.write(content)\n",
    "print(\"Content copied from source.txt to destination.txt successfully.\")\n"
   ]
  },
  {
   "cell_type": "code",
   "execution_count": 15,
   "id": "5910963e-f5cc-4177-a853-a04bb0373ed8",
   "metadata": {},
   "outputs": [
    {
     "name": "stdout",
     "output_type": "stream",
     "text": [
      "Error: Division by zero is not allowed.\n",
      "Program continues after handling the exception.\n"
     ]
    }
   ],
   "source": [
    "5. # How would you catch and handle division by zero error in Python.\n",
    "try:\n",
    "    result = 10 / 0\n",
    "except ZeroDivisionError:\n",
    "    print(\"Error: Division by zero is not allowed.\")\n",
    "print(\"Program continues after handling the exception.\")\n"
   ]
  },
  {
   "cell_type": "code",
   "execution_count": 17,
   "id": "53b54742-32fc-40dc-8e72-d6e54db9a3b6",
   "metadata": {},
   "outputs": [
    {
     "name": "stdout",
     "output_type": "stream",
     "text": [
      "Program continues after handling the exception.\n"
     ]
    }
   ],
   "source": [
    "6. # Write a Python program that logs an error message to a log file when a division by zero exception occurs.\n",
    "\n",
    "import logging\n",
    "logging.basicConfig(filename='error.log', level=logging.ERROR, format='%(asctime)s - %(levelname)s - %(message)s')\n",
    "try:\n",
    "    result = 10 / 0\n",
    "except ZeroDivisionError:\n",
    "    logging.error(\"Division by zero error occurred.\")\n",
    "print(\"Program continues after handling the exception.\")\n",
    "\n"
   ]
  },
  {
   "cell_type": "code",
   "execution_count": 30,
   "id": "c1aa7946-a203-4490-a48d-dfd2a1ec52b0",
   "metadata": {},
   "outputs": [
    {
     "name": "stdout",
     "output_type": "stream",
     "text": [
      "Log messages have been written to application.log\n"
     ]
    }
   ],
   "source": [
    "7. #  How do you log information at different levels (INFO, ERROR, WARNING) in Python using the logging module,\n",
    "\n",
    "import logging\n",
    "logging.basicConfig(filename='application.log', level=logging.DEBUG, format='%(asctime)s - %(levelname)s - %(message)s')\n",
    "logging.debug(\"This is a debug message.\")\n",
    "logging.info(\"This is an info message.\")\n",
    "logging.warning(\"This is a warning message.\")\n",
    "logging.error(\"This is an error message.\")\n",
    "logging.critical(\"This is a critical message.\")\n",
    "\n",
    "print(\"Log messages have been written to application.log\")\n"
   ]
  },
  {
   "cell_type": "code",
   "execution_count": 19,
   "id": "3f304316-42f9-45c0-b986-587346d021a4",
   "metadata": {},
   "outputs": [
    {
     "name": "stdout",
     "output_type": "stream",
     "text": [
      "Error: The file 'non_existent_file.txt' does not exist.\n",
      "Program continues after handling the exception.\n"
     ]
    }
   ],
   "source": [
    "8. # Write a program to handle a file opening error using exception handling.\n",
    "\n",
    "try:\n",
    "    with open('non_existent_file.txt', 'r') as file:\n",
    "        content = file.read()\n",
    "        print(content)\n",
    "except FileNotFoundError:\n",
    "    print(\"Error: The file 'non_existent_file.txt' does not exist.\")\n",
    "except PermissionError:\n",
    "    print(\"Error: You do not have permission to access 'non_existent_file.txt'.\")\n",
    "except Exception as e:\n",
    "    print(f\"An unexpected error occurred: {e}\")\n",
    "print(\"Program continues after handling the exception.\")\n"
   ]
  },
  {
   "cell_type": "code",
   "execution_count": 20,
   "id": "0af15b6c-29b2-465f-9d89-020c974ca94b",
   "metadata": {},
   "outputs": [
    {
     "name": "stdout",
     "output_type": "stream",
     "text": [
      "['This is my frist line', 'This is my second line', 'This is my third line', 'This is my fourth line']\n"
     ]
    }
   ],
   "source": [
    "9. # How can you read a file line by line and store its content in a list in Python.\n",
    "with open('file.txt', 'r') as file:\n",
    "    lines = [line.strip() for line in file]\n",
    "print(lines)\n"
   ]
  },
  {
   "cell_type": "code",
   "execution_count": 16,
   "id": "424b326f-e126-4a73-bae2-e60924fc0d98",
   "metadata": {},
   "outputs": [
    {
     "name": "stdout",
     "output_type": "stream",
     "text": [
      "Add new text successfully.\n"
     ]
    }
   ],
   "source": [
    "10. # How can you append data to an existing file in Python.\n",
    "with open(\"example.txt\", \"a\") as file:\n",
    "    file.write(\"\\nHey What's Up\")\n",
    "print(\"Add new text successfully.\")    "
   ]
  },
  {
   "cell_type": "code",
   "execution_count": 24,
   "id": "01f8dc4a-8695-4a24-a935-6167b8b9c3fd",
   "metadata": {},
   "outputs": [
    {
     "name": "stdout",
     "output_type": "stream",
     "text": [
      "Error: The key 'Phone' does not exist in the dictionary.\n",
      "Program continues after handling the exception.\n"
     ]
    }
   ],
   "source": [
    "11. # Write a Python program that uses a try-except block to handle an error when attempting to access a\n",
    "# dictionary key that doesn't exist.\n",
    "\n",
    "my_dict = {'Name': 'Dhrubojyoti', 'Age' : 21, 'City' : 'Kolkata'}\n",
    "try:\n",
    "    value = my_dict['Phone']\n",
    "except KeyError:\n",
    "    print(\"Error: The key 'Phone' does not exist in the dictionary.\")\n",
    "print(\"Program continues after handling the exception.\")"
   ]
  },
  {
   "cell_type": "code",
   "execution_count": 17,
   "id": "f4ad00dc-59e8-41d8-aa68-c890aa0244cd",
   "metadata": {},
   "outputs": [
    {
     "name": "stdout",
     "output_type": "stream",
     "text": [
      "Hello, world!\n",
      "Hey What's Up\n"
     ]
    }
   ],
   "source": [
    "13. #  How would you check if a file exists before attempting to read it in Python.\n",
    "import os\n",
    "\n",
    "file_path = 'example.txt'\n",
    "if os.path.exists(file_path):\n",
    "    with open(file_path, 'r') as file:\n",
    "        content = file.read()\n",
    "        print(content)\n",
    "else:\n",
    "    print(\"Error: The file does not exist.\")"
   ]
  },
  {
   "cell_type": "code",
   "execution_count": 26,
   "id": "8367eddd-7159-4f90-8603-570ef5d32500",
   "metadata": {},
   "outputs": [
    {
     "name": "stdout",
     "output_type": "stream",
     "text": [
      "Error: Division by zero is not allowed.\n",
      "Program continues after handling the exceptions.\n"
     ]
    }
   ],
   "source": [
    "12. # Write a program that demonstrates using multiple except blocks to handle different types of exceptions.\n",
    "\n",
    "def demonstrate_exceptions():\n",
    "    try:\n",
    "        result = 10 / 0\n",
    "        print(f\"Division result: {result}\")\n",
    "        my_dict = {'name': 'Dhrubo'}\n",
    "        value = my_dict['age']\n",
    "        print(f\"Age: {value}\")\n",
    "        with open('test.txt', 'r') as file:\n",
    "            content = file.read()\n",
    "            print(content)\n",
    "\n",
    "    except ZeroDivisionError:\n",
    "        print(\"Error: Division by zero is not allowed.\")\n",
    "    \n",
    "    except KeyError:\n",
    "        print(\"Error: The key does not exist in the dictionary.\")\n",
    "    \n",
    "    except FileNotFoundError:\n",
    "        print(\"Error: The file does not exist.\")\n",
    "    \n",
    "    except Exception as e:\n",
    "        print(f\"An unexpected error occurred: {e}\")\n",
    "demonstrate_exceptions()\n",
    "print(\"Program continues after handling the exceptions.\")\n"
   ]
  },
  {
   "cell_type": "code",
   "execution_count": 31,
   "id": "e11a75ab-41bc-4b05-a5a9-afea4f5ebac9",
   "metadata": {},
   "outputs": [
    {
     "name": "stdout",
     "output_type": "stream",
     "text": [
      "Log messages have been written to application.log\n"
     ]
    }
   ],
   "source": [
    "14. # Write a program that uses the logging module to log both informational and error messages.\n",
    "import logging\n",
    "logging.basicConfig(filename='yo.log', level=logging.DEBUG, format='%(asctime)s - %(levelname)s - %(message)s')\n",
    "logging.info(\"Program started successfully.\")\n",
    "try:\n",
    "    result = 10 / 0\n",
    "except ZeroDivisionError:\n",
    "    logging.error(\"Error: Division by zero is not allowed.\")\n",
    "    logging.info(\"Caught an exception and handled it gracefully.\")\n",
    "logging.info(\"Program continues after handling the exception.\")\n",
    "print(\"Log messages have been written to application.log\")\n"
   ]
  },
  {
   "cell_type": "code",
   "execution_count": 18,
   "id": "c2831331-cd7d-4bce-97f2-08db6d46a340",
   "metadata": {},
   "outputs": [
    {
     "name": "stdout",
     "output_type": "stream",
     "text": [
      "Content of the file:\n",
      "Hello, world!\n",
      "Hey What's Up\n",
      "Program continues after handling the exception.\n"
     ]
    }
   ],
   "source": [
    "15. # Write a Python program that prints the content of a file and handles the case when the file is empty\n",
    "# Define the file path\n",
    "file_path = 'example.txt'\n",
    "\n",
    "try:\n",
    "    with open(file_path, 'r') as file:\n",
    "        content = file.read()\n",
    "        if not content:\n",
    "            print(\"The file is empty.\")\n",
    "        else:\n",
    "            print(\"Content of the file:\")\n",
    "            print(content)\n",
    "            \n",
    "except FileNotFoundError:\n",
    "    print(f\"Error: The file '{file_path}' does not exist.\")\n",
    "except Exception as e:\n",
    "    print(f\"An unexpected error occurred: {e}\")\n",
    "print(\"Program continues after handling the exception.\")\n"
   ]
  },
  {
   "cell_type": "code",
   "execution_count": 42,
   "id": "65709201-2746-4954-9264-4acf9aa7369f",
   "metadata": {
    "scrolled": true
   },
   "outputs": [
    {
     "name": "stdout",
     "output_type": "stream",
     "text": [
      "Requirement already satisfied: memory_profiler in /opt/homebrew/Cellar/jupyterlab/4.3.4_1/libexec/lib/python3.13/site-packages (0.61.0)\n",
      "Requirement already satisfied: psutil in /opt/homebrew/Cellar/jupyterlab/4.3.4_1/libexec/lib/python3.13/site-packages (from memory_profiler) (6.1.1)\n",
      "\n",
      "\u001b[1m[\u001b[0m\u001b[34;49mnotice\u001b[0m\u001b[1;39;49m]\u001b[0m\u001b[39;49m A new release of pip is available: \u001b[0m\u001b[31;49m24.3.1\u001b[0m\u001b[39;49m -> \u001b[0m\u001b[32;49m25.0\u001b[0m\n",
      "\u001b[1m[\u001b[0m\u001b[34;49mnotice\u001b[0m\u001b[1;39;49m]\u001b[0m\u001b[39;49m To update, run: \u001b[0m\u001b[32;49m/opt/homebrew/Cellar/jupyterlab/4.3.4_1/libexec/bin/python -m pip install --upgrade pip\u001b[0m\n",
      "Note: you may need to restart the kernel to use updated packages.\n"
     ]
    }
   ],
   "source": [
    "pip install memory_profiler\n"
   ]
  },
  {
   "cell_type": "code",
   "execution_count": 1,
   "id": "7aa26aff-0eca-492f-8db9-e1401084f51b",
   "metadata": {},
   "outputs": [],
   "source": [
    "from memory_profiler import profile\n",
    "def my_function():\n",
    "    # Example code to profile memory usage\n",
    "    a = [1] * (10**6)\n",
    "    b = [2] * (2 * 10**7)\n",
    "    del b\n",
    "    return a\n",
    "\n",
    "if __name__ == '__main__':\n",
    "    my_function()\n"
   ]
  },
  {
   "cell_type": "code",
   "execution_count": 2,
   "id": "aff255fe-fb2f-4452-a7fc-b9594c60c84e",
   "metadata": {},
   "outputs": [
    {
     "ename": "SyntaxError",
     "evalue": "invalid syntax (1960736259.py, line 1)",
     "output_type": "error",
     "traceback": [
      "\u001b[0;36m  Cell \u001b[0;32mIn[2], line 1\u001b[0;36m\u001b[0m\n\u001b[0;31m    python -m memory_profiler memory_profile_example.py\u001b[0m\n\u001b[0m              ^\u001b[0m\n\u001b[0;31mSyntaxError\u001b[0m\u001b[0;31m:\u001b[0m invalid syntax\n"
     ]
    }
   ],
   "source": [
    "python -m memory_profiler memory_profile_example.py\n"
   ]
  },
  {
   "cell_type": "code",
   "execution_count": 3,
   "id": "5d38d007-a53d-440e-a106-60c5089996bd",
   "metadata": {
    "scrolled": true
   },
   "outputs": [
    {
     "name": "stdout",
     "output_type": "stream",
     "text": [
      "\n",
      "Usage:   \n",
      "  /opt/homebrew/Cellar/jupyterlab/4.3.4_1/libexec/bin/python -m pip <command> [options]\n",
      "\n",
      "no such option: -m\n",
      "Note: you may need to restart the kernel to use updated packages.\n"
     ]
    }
   ],
   "source": [
    "pip -m memory_profiler memory_profile_example.py\n"
   ]
  },
  {
   "cell_type": "code",
   "execution_count": 1,
   "id": "af48435b-b806-426f-9ee1-6c7ddb7f42a0",
   "metadata": {},
   "outputs": [
    {
     "name": "stdout",
     "output_type": "stream",
     "text": [
      "ERROR: Could not find file /var/folders/v4/2l73cb4s50lbfk6w6vtk56yh0000gn/T/ipykernel_2216/1056037734.py\n"
     ]
    }
   ],
   "source": [
    "16. # Demonstrate how to use memory profiling to check the memory usage of a small program\n",
    "from memory_profiler import profile\n",
    "def my_function():\n",
    "    # Example code to profile memory usage\n",
    "    a = [1] * (10**6)\n",
    "    b = [2] * (2 * 10**7)\n",
    "    del b\n",
    "    return a\n",
    "\n",
    "if __name__ == '__main__':\n",
    "    my_function()\n",
    "# This commad not work in mackbook. plese give me solution"
   ]
  },
  {
   "cell_type": "code",
   "execution_count": 2,
   "id": "9933f635-00ad-44ce-afb5-6a51817e82b9",
   "metadata": {},
   "outputs": [
    {
     "name": "stdout",
     "output_type": "stream",
     "text": [
      "Numbers have been written to the file successfully.\n"
     ]
    }
   ],
   "source": [
    "17. # Write a Python program to create and write a list of numbers to a file, one number per line\n",
    "# Define a list of numbers\n",
    "numbers = [1, 2, 3, 4, 5, 6, 7, 8, 9, 10]\n",
    "file_path = 'numbers.txt'\n",
    "\n",
    "try:\n",
    "    with open(file_path, 'w') as file:\n",
    "        for number in numbers:\n",
    "            file.write(f\"{number}\\n\")\n",
    "    print(\"Numbers have been written to the file successfully.\")\n",
    "except Exception as e:\n",
    "    print(f\"An unexpected error occurred: {e}\")\n"
   ]
  },
  {
   "cell_type": "code",
   "execution_count": 4,
   "id": "0876bf40-a069-4944-9dfa-80ea60ebea6d",
   "metadata": {},
   "outputs": [
    {
     "name": "stdout",
     "output_type": "stream",
     "text": [
      "File Create Successfully.\n"
     ]
    }
   ],
   "source": [
    "18. # How would you implement a basic logging setup that logs to a file with rotation after 1MB.\n",
    "import logging\n",
    "from logging.handlers import RotatingFileHandler\n",
    "logger = logging.getLogger(__name__)\n",
    "logger.setLevel(logging.DEBUG)\n",
    "handler = RotatingFileHandler('app.log', maxBytes=1*1024*1024, backupCount=5)\n",
    "handler.setLevel(logging.DEBUG)\n",
    "formatter = logging.Formatter('%(asctime)s - %(levelname)s - %(message)s')\n",
    "handler.setFormatter(formatter)\n",
    "\n",
    "logger.addHandler(handler)\n",
    "logger.debug('This is a debug message')\n",
    "logger.info('This is an informational message')\n",
    "logger.warning('This is a warning message')\n",
    "logger.error('This is an error message')\n",
    "logger.critical('This is a critical message')\n",
    "\n",
    "for i in range(10000):\n",
    "    logger.debug(f'This is debug message {i}')\n",
    "print(\"File Create Successfully.\")"
   ]
  },
  {
   "cell_type": "code",
   "execution_count": 5,
   "id": "aa068f01-4dcd-4aa8-b677-29296c9f1a10",
   "metadata": {},
   "outputs": [
    {
     "name": "stdout",
     "output_type": "stream",
     "text": [
      "Error: List index is out of range.\n",
      "Program continues after handling the exceptions.\n"
     ]
    }
   ],
   "source": [
    "19. # Write a program that handles both IndexError and KeyError using a try-except block\n",
    "def handle_exceptions():\n",
    "    my_list = [1, 2, 3]\n",
    "    my_dict = {'name': 'Alice', 'age': 30}\n",
    "\n",
    "    try:\n",
    "        value_list = my_list[5]\n",
    "        print(f\"List value: {value_list}\")\n",
    "        value_dict = my_dict['country']\n",
    "        print(f\"Dictionary value: {value_dict}\")\n",
    "\n",
    "    except IndexError:\n",
    "        print(\"Error: List index is out of range.\")\n",
    "    \n",
    "    except KeyError:\n",
    "        print(\"Error: The key does not exist in the dictionary.\")\n",
    "    \n",
    "    except Exception as e:\n",
    "        print(f\"An unexpected error occurred: {e}\")\n",
    "handle_exceptions()\n",
    "print(\"Program continues after handling the exceptions.\")\n"
   ]
  },
  {
   "cell_type": "code",
   "execution_count": 19,
   "id": "0c21b7df-ae2d-4510-9eaa-361fc4f0d697",
   "metadata": {},
   "outputs": [
    {
     "name": "stdout",
     "output_type": "stream",
     "text": [
      "Hello, world!\n",
      "Hey What's Up\n"
     ]
    }
   ],
   "source": [
    "20. # How would you open a file and read its contents using a context manager in Python.\n",
    "# Specify the file path\n",
    "file_path = 'example.txt'\n",
    "with open(file_path, 'r') as file:\n",
    "    content = file.read()\n",
    "print(content)\n"
   ]
  },
  {
   "cell_type": "code",
   "execution_count": 20,
   "id": "b97a3278-3599-4c0f-a741-e74fedc7c82c",
   "metadata": {},
   "outputs": [
    {
     "name": "stdout",
     "output_type": "stream",
     "text": [
      "The word 'Hello' occurs 0 times in the file.\n",
      "Program continues after handling the exceptions.\n"
     ]
    }
   ],
   "source": [
    "21. #  Write a Python program that reads a file and prints the number of occurrences of a specific word.\n",
    "# Specify the file path\n",
    "file_path = 'example.txt'\n",
    "\n",
    "# Specify the word to count\n",
    "target_word = 'Hello'\n",
    "word_count = 0\n",
    "\n",
    "try:\n",
    "    with open(file_path, 'r') as file:\n",
    "        for line in file:\n",
    "            words = line.split()\n",
    "            word_count += words.count(target_word)\n",
    "    \n",
    "    print(f\"The word '{target_word}' occurs {word_count} times in the file.\")\n",
    "except FileNotFoundError:\n",
    "    print(f\"Error: The file '{file_path}' does not exist.\")\n",
    "except Exception as e:\n",
    "    print(f\"An unexpected error occurred: {e}\")\n",
    "print(\"Program continues after handling the exceptions.\")\n"
   ]
  },
  {
   "cell_type": "code",
   "execution_count": 21,
   "id": "65c21dde-9721-472b-a02c-16b61131a72b",
   "metadata": {},
   "outputs": [
    {
     "name": "stdout",
     "output_type": "stream",
     "text": [
      "Content of the file:\n",
      "Hello, world!\n",
      "Hey What's Up\n"
     ]
    }
   ],
   "source": [
    "22. # How can you check if a file is empty before attempting to read its contents.\n",
    "import os\n",
    "file_path = 'example.txt'\n",
    "if os.path.getsize(file_path) == 0:\n",
    "    print(\"The file is empty.\")\n",
    "else:\n",
    "    with open(file_path, 'r') as file:\n",
    "        content = file.read()\n",
    "        print(\"Content of the file:\")\n",
    "        print(content)\n"
   ]
  },
  {
   "cell_type": "code",
   "execution_count": 22,
   "id": "b90541d7-c640-44c7-b4cc-150b71a346d6",
   "metadata": {},
   "outputs": [
    {
     "name": "stdout",
     "output_type": "stream",
     "text": [
      "Content of the file:\n",
      "Hello, world!\n",
      "Hey What's Up\n",
      "Program continues after handling the exceptions.\n"
     ]
    }
   ],
   "source": [
    "23. # Write a Python program that writes to a log file when an error occurs during file handling.\n",
    "import logging\n",
    "logging.basicConfig(filename='file_handling.log', level=logging.ERROR, format='%(asctime)s - %(levelname)s - %(message)s')\n",
    "file_path = 'example.txt'\n",
    "\n",
    "try:\n",
    "    with open(file_path, 'r') as file:\n",
    "        # Read the content of the file\n",
    "        content = file.read()\n",
    "        print(\"Content of the file:\")\n",
    "        print(content)\n",
    "\n",
    "except FileNotFoundError:\n",
    "    logging.error(f\"Error: The file '{file_path}' does not exist.\")\n",
    "    print(f\"Error: The file '{file_path}' does not exist.\")\n",
    "except Exception as e:\n",
    "    logging.error(f\"An unexpected error occurred: {e}\")\n",
    "    print(f\"An unexpected error occurred: {e}\")\n",
    "print(\"Program continues after handling the exceptions.\")"
   ]
  },
  {
   "cell_type": "code",
   "execution_count": null,
   "id": "735b4065-2a55-4bbe-abfe-bb8ca27abf57",
   "metadata": {},
   "outputs": [],
   "source": []
  }
 ],
 "metadata": {
  "kernelspec": {
   "display_name": "Python 3 (ipykernel)",
   "language": "python",
   "name": "python3"
  },
  "language_info": {
   "codemirror_mode": {
    "name": "ipython",
    "version": 3
   },
   "file_extension": ".py",
   "mimetype": "text/x-python",
   "name": "python",
   "nbconvert_exporter": "python",
   "pygments_lexer": "ipython3",
   "version": "3.13.1"
  }
 },
 "nbformat": 4,
 "nbformat_minor": 5
}
