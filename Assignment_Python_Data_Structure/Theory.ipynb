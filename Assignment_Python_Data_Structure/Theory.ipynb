{
  "nbformat": 4,
  "nbformat_minor": 0,
  "metadata": {
    "colab": {
      "provenance": []
    },
    "kernelspec": {
      "name": "python3",
      "display_name": "Python 3"
    },
    "language_info": {
      "name": "python"
    }
  },
  "cells": [
    {
      "cell_type": "markdown",
      "source": [
        "1. What are data structures, and why are they important?\n",
        "Ans- Data structures are ways to organize and store data for efficient access and modification. They are important because they optimize data management."
      ],
      "metadata": {
        "id": "Id1tx9T8Q10d"
      }
    },
    {
      "cell_type": "markdown",
      "source": [
        "2. Explain the difference between mutable and immutable data types with examples?\n",
        "Ans- Mutable data types these can be changed after creation.\n",
        "example:- list, set, dictionary.\n",
        "Immmutsble data types these can't be changed after creation.\n",
        "example- tuple."
      ],
      "metadata": {
        "id": "2HYcMKeQRAa8"
      }
    },
    {
      "cell_type": "markdown",
      "source": [
        "3. What are the main differences between lists and tuples in Python.\n",
        "Ans- List are mutable data type but tuple are immutable data type.\n",
        "List are slightly slower due to their mutable nature.\n",
        "Tuple are generally faster because they are immutable."
      ],
      "metadata": {
        "id": "F-7RZQTXSMzg"
      }
    },
    {
      "cell_type": "markdown",
      "source": [
        "4. Describe how dictionaries store data\n",
        "Ans- Dictionaries store data as key-value pairs. Each key maps to a specific value, and this mapping is stored efficiently using a technique called hashing. Hashing allows quick access, insertion, and deletion of items"
      ],
      "metadata": {
        "id": "9_pNsAJSTTxv"
      }
    },
    {
      "cell_type": "markdown",
      "source": [
        "5. Why might you use a set instead of a list in Python.\n",
        "Ans- Sets automatically ensure all elements are unique, removing duplicates."
      ],
      "metadata": {
        "id": "G-g4JAWyTrK2"
      }
    },
    {
      "cell_type": "markdown",
      "source": [
        "6. What is a string in Python, and how is it different from a list?\n",
        "Ans- Strings are immutable, meaning once created, their elements cannot be changed. string upport various operations like concatenation, slicing, and methods for transformation upper,lower.\n",
        "String vs list :- String are immutable but list are mutale.\n",
        "Strings contain characters, while lists can contain elements of any data type."
      ],
      "metadata": {
        "id": "rqZAkJg7T_r9"
      }
    },
    {
      "cell_type": "markdown",
      "source": [
        "7. How do tuples ensure data integrity in Python?\n",
        "Ans- Once a tuple is created, its elements cannot be altered, added, or removed. This immutability prevents accidental or intentional modification, ensuring that the data remains consistent and reliable throughout the program's execution. This is particularly useful when you need to store constant data that should not be changed.\n",
        "\n"
      ],
      "metadata": {
        "id": "LlVC1u5CVCbU"
      }
    },
    {
      "cell_type": "markdown",
      "source": [
        "8. What is a hash table, and how does it relate to dictionaries in Python?\n",
        "Ans- A hash table is a data structure that maps keys to values using a hash function to compute an index into an array of buckets or slots, from which the desired value can be found.\n",
        "In Python, dictionaries are implemented as hash tables. This means that keys in a dictionary are hashed to generate a unique identifier that determines where the corresponding value is stored, allowing for fast access, insertion, and deletion operations. This efficient key-value mapping makes dictionaries powerful for handling and organizing data."
      ],
      "metadata": {
        "id": "L-VRyZo4VPGm"
      }
    },
    {
      "cell_type": "markdown",
      "source": [
        "9. Can lists contain different data types in Python?\n",
        "Ans- Yes, lists in Python can contain different data types. This means you can mix integers, strings, floats, and other data types within the same list"
      ],
      "metadata": {
        "id": "4raFBqqEVnnD"
      }
    },
    {
      "cell_type": "markdown",
      "source": [
        "10. Explain why strings are immutable in Python?\n",
        "Ans- sort\n",
        "Strings in Python are immutable to enhance security and reduce bugs. This immutability ensures consistency, prevents unexpected changes, and allows performance optimizations like memory reuse, making string operations more efficient."
      ],
      "metadata": {
        "id": "4KGWeaEhV_tZ"
      }
    },
    {
      "cell_type": "markdown",
      "source": [
        "11. What advantages do dictionaries offer over lists for certain tasks?\n",
        "Ans- Faster Lookups: Accessing elements in dictionaries is faster than in lists because dictionaries use key-value pairs, allowing for quick retrieval of data.\n",
        "Unique Keys: Dictionaries ensure that each key is unique, which helps prevent duplicates and maintains data integrity."
      ],
      "metadata": {
        "id": "2dIhD2gX8ejN"
      }
    },
    {
      "cell_type": "markdown",
      "source": [],
      "metadata": {
        "id": "i4hkMlTDWTLw"
      }
    },
    {
      "cell_type": "markdown",
      "source": [
        "12. Describe a scenario where using a tuple would be preferable over a list.\n",
        "Ans- Using a tuple would be preferable over a list when you have a collection of items that should not be changed."
      ],
      "metadata": {
        "id": "UZG2cBQq8xad"
      }
    },
    {
      "cell_type": "markdown",
      "source": [
        "13. How do sets handle duplicate values in Python?\n",
        "Ans- sets automatically handle duplicate values by eliminating them. When you add an element to a set that already exists, it is ignored, ensuring that all elements in the set are unique."
      ],
      "metadata": {
        "id": "DEQ8CROd9Ia_"
      }
    },
    {
      "cell_type": "markdown",
      "source": [
        "14. How does the “in” keyword work differently for lists and dictionaries?\n",
        "Ans- t checks if a specific element exists in the list. For example, item in list returns True if item is in the list."
      ],
      "metadata": {
        "id": "jiG_LYQm9Xvv"
      }
    },
    {
      "cell_type": "markdown",
      "source": [
        "15. Can you modify the elements of a tuple? Explain why or why not.\n",
        "Ans- Can you modify the elements of a tuple? Explain why or why not. sort answer\n",
        "No, you cannot modify the elements of a tuple. Tuples are immutable, meaning once they are created, their elements cannot be changed, added, or removed. This immutability provides certain benefits, such as protecting the data from accidental modifications and allowing tuples to be used as keys in dictionaries."
      ],
      "metadata": {
        "id": "CgO0SIlH9t3M"
      }
    },
    {
      "cell_type": "markdown",
      "source": [
        "16. What is a nested dictionary, and give an example of its use case?\n",
        "Ans- A nested dictionary is a dictionary within a dictionary. It allows for more complex data structures by using dictionaries as values within other dictionaries.\n",
        "example- students = {\n",
        "    \"student1\": {\n",
        "        \"name\": \"Dhrubojyoti\",\n",
        "        \"age\": 21,\n",
        "        \"grades\": {\n",
        "            \"math\": \"A\",\n",
        "            \"science\": \"B+\"\n",
        "        }\n",
        "    },\n",
        "    \"student2\": {\n",
        "        \"name\": \"Sayan\",\n",
        "        \"age\": 20,\n",
        "        \"grades\": {\n",
        "            \"math\": \"B\",\n",
        "            \"science\": \"A+\"\n",
        "        }\n",
        "    }\n",
        "}\n"
      ],
      "metadata": {
        "id": "cCHCzeTN98o2"
      }
    },
    {
      "cell_type": "markdown",
      "source": [
        "17. Describe the time complexity of accessing elements in a dictionary.\n",
        "Ans-\n",
        "The average time complexity for accessing elements in a dictionary (hash table) is O(1), due to efficient hashing. However, in the worst case (e.g., hash collisions), it can degrade to O(n), where\n",
        "𝑛\n",
        "n is the number of elements."
      ],
      "metadata": {
        "id": "xyI05LmV-iUG"
      }
    },
    {
      "cell_type": "markdown",
      "source": [
        "18. In what situations are lists preferred over dictionaries?\n",
        "Ans- Ordered Data: You need to maintain the order of elements. Lists preserve the order of insertion.\n",
        "Simple Collections: You have a simple collection of items without the need for key-value pairs.\n",
        "Sequential Access: You need to perform operations that involve sequential access, such as iteration or slicing."
      ],
      "metadata": {
        "id": "mIt9CV60_FZO"
      }
    },
    {
      "cell_type": "markdown",
      "source": [
        "19. Why are dictionaries considered unordered, and how does that affect data retrieval?\n",
        "Ans- Dictionaries are considered unordered because they store key-value pairs without maintaining any specific order."
      ],
      "metadata": {
        "id": "rcf81__I_XvM"
      }
    },
    {
      "cell_type": "markdown",
      "source": [
        "20.  Explain the difference between a list and a dictionary in terms of data retrieval.\n",
        "Ans- List:- Access elements by their index position using an integer. Example: list[2] retrieves the third element.\n",
        "Sequential access allows slicing and iteration.\n",
        "\n",
        "Dictionary:- Access elements by their key using a hash table.\n",
        "Direct key lookup provides faster retrieval for unique keys."
      ],
      "metadata": {
        "id": "M3e3wzYf_ny0"
      }
    }
  ]
}