{
  "nbformat": 4,
  "nbformat_minor": 0,
  "metadata": {
    "colab": {
      "provenance": []
    },
    "kernelspec": {
      "name": "python3",
      "display_name": "Python 3"
    },
    "language_info": {
      "name": "python"
    }
  },
  "cells": [
    {
      "cell_type": "code",
      "source": [
        "# 1. Write a code to create a string with your name and print it.\n",
        "name = \"Dhrubojyoti Mondal\"\n",
        "print(name);"
      ],
      "metadata": {
        "colab": {
          "base_uri": "https://localhost:8080/"
        },
        "id": "OLSmaZ6O7Z7X",
        "outputId": "b382ced3-27bc-4642-f1dd-460f11c2add6"
      },
      "execution_count": null,
      "outputs": [
        {
          "output_type": "stream",
          "name": "stdout",
          "text": [
            "Dhrubojyoti Mondal\n"
          ]
        }
      ]
    },
    {
      "cell_type": "code",
      "source": [
        "# 2. Write a code to find the length of the string \"Hello World\".\n",
        "name = \"Hello World\"\n",
        "totat_length = len(name)\n",
        "print(\"Total length of string is:\", totat_length)\n",
        "#print(len(name))"
      ],
      "metadata": {
        "colab": {
          "base_uri": "https://localhost:8080/"
        },
        "id": "NI_4pZwW7u9Q",
        "outputId": "e219812f-2bc9-46f8-eed6-bd4af7717b07"
      },
      "execution_count": null,
      "outputs": [
        {
          "output_type": "stream",
          "name": "stdout",
          "text": [
            "Total length of string is: 11\n"
          ]
        }
      ]
    },
    {
      "cell_type": "code",
      "source": [
        "# 3. Write a code to slice the first 3 characters from the string \"Python Programming\".\n",
        "name = \"Python Programming\"\n",
        "slice_name = name[:3]\n",
        "#print(name[:3])\n",
        "print(\"Print first 3 characters is:\", slice_name)"
      ],
      "metadata": {
        "colab": {
          "base_uri": "https://localhost:8080/"
        },
        "id": "uNagSJ8X8xuf",
        "outputId": "60718965-8338-440e-ca21-a4edf306fba1"
      },
      "execution_count": null,
      "outputs": [
        {
          "output_type": "stream",
          "name": "stdout",
          "text": [
            "Print first 3 characters is: Pyt\n"
          ]
        }
      ]
    },
    {
      "cell_type": "code",
      "source": [
        "# 4. Write a code to convert the string \"hello\" to uppercase.\n",
        "name = \"hello\"\n",
        "print(name.upper())\n"
      ],
      "metadata": {
        "colab": {
          "base_uri": "https://localhost:8080/"
        },
        "id": "9dwav04a9vfz",
        "outputId": "ff51575d-27f4-4e01-e13a-9a6a8053dc0d"
      },
      "execution_count": null,
      "outputs": [
        {
          "output_type": "stream",
          "name": "stdout",
          "text": [
            "HELLO\n"
          ]
        }
      ]
    },
    {
      "cell_type": "code",
      "source": [
        "# 5. Write a code to replace the word \"apple\" with \"orange\" in the string \"I like apple\". question wrong correct answer \"i like orange\"\n",
        "old_string = \"I like apple\"\n",
        "new_string = old_string.replace(\"apple\", \"orange\")\n",
        "print(new_string)"
      ],
      "metadata": {
        "colab": {
          "base_uri": "https://localhost:8080/"
        },
        "id": "rq9G5aWd-VmM",
        "outputId": "3411a609-b5bb-4c5b-bdd4-d414c28760a6"
      },
      "execution_count": null,
      "outputs": [
        {
          "output_type": "stream",
          "name": "stdout",
          "text": [
            "I like orange\n"
          ]
        }
      ]
    },
    {
      "cell_type": "code",
      "source": [
        "# 6. Write a code to create a list with numbers 1 to 5 and print it.\n",
        "number_list = [1,2,3,4,5]\n",
        "print(number_list)"
      ],
      "metadata": {
        "id": "5PuXlGle_p0v"
      },
      "execution_count": null,
      "outputs": []
    },
    {
      "cell_type": "code",
      "source": [
        "# 7. Write a code to append the number 10 to the list [1, 2, 3, 4]\n",
        "number_list = [1,2,3,4]\n",
        "print(\"Before adding new numnber in list\", number_list)\n",
        "number_list.append(10)\n",
        "print(\"After adding new number in list\", number_list)"
      ],
      "metadata": {
        "colab": {
          "base_uri": "https://localhost:8080/"
        },
        "id": "5neJ8Ud5BDa3",
        "outputId": "879bf4d4-c99b-486b-e18c-b75bd4651cd3"
      },
      "execution_count": null,
      "outputs": [
        {
          "output_type": "stream",
          "name": "stdout",
          "text": [
            "Before adding new numnber in list [1, 2, 3, 4]\n",
            "After adding new number in list [1, 2, 3, 4, 10]\n"
          ]
        }
      ]
    },
    {
      "cell_type": "code",
      "source": [
        "# 8. Write a code to remove the number 3 from the list [1, 2, 3, 4, 5]\n",
        "number_list= [1,2,3,4,5]\n",
        "number_list.remove(3)\n",
        "print(number_list)"
      ],
      "metadata": {
        "colab": {
          "base_uri": "https://localhost:8080/"
        },
        "id": "7gHNbcu6CIGL",
        "outputId": "d91d68c0-674d-466e-9f0b-5332fe4e7758"
      },
      "execution_count": null,
      "outputs": [
        {
          "output_type": "stream",
          "name": "stdout",
          "text": [
            "[1, 2, 4, 5]\n"
          ]
        }
      ]
    },
    {
      "cell_type": "code",
      "source": [
        "# 9. Write a code to access the second element in the list ['a', 'b', 'c', 'd']\n",
        "string_list = ['a','b', 'c', 'd']\n",
        "findSecond_element = string_list[1]\n",
        "print(\"Second element is: \", findSecond_element)"
      ],
      "metadata": {
        "colab": {
          "base_uri": "https://localhost:8080/"
        },
        "id": "8UUQjQAfC3dY",
        "outputId": "01946da6-a033-4d24-f8be-86f032a6026e"
      },
      "execution_count": null,
      "outputs": [
        {
          "output_type": "stream",
          "name": "stdout",
          "text": [
            "Second element is:  b\n"
          ]
        }
      ]
    },
    {
      "cell_type": "code",
      "source": [
        "# 10. Write a code to reverse the list [10, 20, 30, 40, 50].\n",
        "old_list = [10, 20, 30, 40, 50]\n",
        "#old_list.reverse()\n",
        "new_list = old_list[::-1]\n",
        "#print(old_list)\n",
        "print(new_list)"
      ],
      "metadata": {
        "colab": {
          "base_uri": "https://localhost:8080/"
        },
        "id": "O2sAH4wvEFVr",
        "outputId": "a7d8ba40-e91d-449a-d77c-e79006dc859a"
      },
      "execution_count": null,
      "outputs": [
        {
          "output_type": "stream",
          "name": "stdout",
          "text": [
            "[50, 40, 30, 20, 10]\n"
          ]
        }
      ]
    },
    {
      "cell_type": "code",
      "source": [
        "# 11.  Write a code to create a tuple with the elements 10, 20, 30 and print it.\n",
        "new_tuple = (10,20,30)\n",
        "print(type(new_tuple))\n",
        "print(new_tuple)"
      ],
      "metadata": {
        "colab": {
          "base_uri": "https://localhost:8080/"
        },
        "id": "uyiUGEpdE8Hf",
        "outputId": "92716659-bd4b-462c-eb41-c308f8a60078"
      },
      "execution_count": null,
      "outputs": [
        {
          "output_type": "stream",
          "name": "stdout",
          "text": [
            "<class 'tuple'>\n",
            "(10, 20, 30)\n"
          ]
        }
      ]
    },
    {
      "cell_type": "code",
      "source": [
        "# 12. Write a code to access the first element of the tuple ('apple', 'banana', 'cherry')\n",
        "old_tuple = ('apple','bananaq','cheery')\n",
        "new_tuple = old_tuple[0]\n",
        "print(\"Access first element: \", new_tuple)"
      ],
      "metadata": {
        "colab": {
          "base_uri": "https://localhost:8080/"
        },
        "id": "ahsk-PyIFXf7",
        "outputId": "af9fa0a6-cf63-4bf4-b66c-932752b268d1"
      },
      "execution_count": null,
      "outputs": [
        {
          "output_type": "stream",
          "name": "stdout",
          "text": [
            "Access first element:  apple\n"
          ]
        }
      ]
    },
    {
      "cell_type": "code",
      "source": [
        "# 13. Write a code to count how many times the number 2 appears in the tuple (1, 2, 3, 2, 4, 2)\n",
        "number = (1,2,3,2,4,2)\n",
        "count_number = number.count(2)\n",
        "print(count_number,\"times the number present in tuple\")"
      ],
      "metadata": {
        "colab": {
          "base_uri": "https://localhost:8080/"
        },
        "id": "T9wCbaNPTYC5",
        "outputId": "0ca98086-7702-4810-92c0-2d8d3768b394"
      },
      "execution_count": null,
      "outputs": [
        {
          "output_type": "stream",
          "name": "stdout",
          "text": [
            "3 times the number present in tuple\n"
          ]
        }
      ]
    },
    {
      "cell_type": "code",
      "source": [
        "# 14. Write a code to find the index of the element \"cat\" in the tuple ('dog', 'cat', 'rabbit').\n",
        "old_element = ('dog','cat','rabbit')\n",
        "new_element = old_element.index('cat')\n",
        "print(\"The index number of element is: \",new_element)"
      ],
      "metadata": {
        "colab": {
          "base_uri": "https://localhost:8080/"
        },
        "id": "rJR5syB-T7Ql",
        "outputId": "029e7eee-b7ee-4ec6-e17a-c7dba61efc5d"
      },
      "execution_count": null,
      "outputs": [
        {
          "output_type": "stream",
          "name": "stdout",
          "text": [
            "The index number of element is:  1\n"
          ]
        }
      ]
    },
    {
      "cell_type": "code",
      "source": [
        "# 15.  Write a code to check if the element \"banana\" is in the tuple ('apple', 'orange', 'banana')\n",
        "name = ('apple', 'orange', 'banana')\n",
        "if \"banana\" in name:\n",
        "  print(\"banana is present in tuple\")\n",
        "else:\n",
        "  print(\"banana is not present in tuple\")"
      ],
      "metadata": {
        "colab": {
          "base_uri": "https://localhost:8080/"
        },
        "id": "J6QjUnbsa1kJ",
        "outputId": "58e1c960-be16-49a2-da51-e118991ef090"
      },
      "execution_count": 5,
      "outputs": [
        {
          "output_type": "stream",
          "name": "stdout",
          "text": [
            "banana is present in tuple\n"
          ]
        }
      ]
    },
    {
      "cell_type": "code",
      "source": [
        "# 16. Write a code to create a set with the elements 1, 2, 3, 4, 5 and print it\n",
        "new_set = {1,2,3,4,5}\n",
        "print(type(new_set))\n",
        "print(new_set)"
      ],
      "metadata": {
        "colab": {
          "base_uri": "https://localhost:8080/"
        },
        "id": "zcyxt3tLbHvQ",
        "outputId": "a819f97e-e348-4b11-dba8-08a2ad5198a6"
      },
      "execution_count": 8,
      "outputs": [
        {
          "output_type": "stream",
          "name": "stdout",
          "text": [
            "<class 'set'>\n",
            "{1, 2, 3, 4, 5}\n"
          ]
        }
      ]
    },
    {
      "cell_type": "code",
      "source": [
        "# 17. Write a code to add the element 6 to the set {1, 2, 3, 4}\n",
        "\n",
        "new_set = {1, 2, 3, 4}\n",
        "print(\"Before add new element: \", new_set)\n",
        "new_set.add(6)\n",
        "print(\"After add new element: \", new_set)\n"
      ],
      "metadata": {
        "colab": {
          "base_uri": "https://localhost:8080/"
        },
        "id": "xkAN8G8hbscl",
        "outputId": "d4a30bc9-3b4f-4d5d-8027-14576ecc3bdf"
      },
      "execution_count": 12,
      "outputs": [
        {
          "output_type": "stream",
          "name": "stdout",
          "text": [
            "Before add new element:  {1, 2, 3, 4}\n",
            "After add new element:  {1, 2, 3, 4, 6}\n"
          ]
        }
      ]
    },
    {
      "cell_type": "code",
      "source": [
        "# 18.  Write a code to create a tuple with the elements 10, 20, 30 and print it.\n",
        "new_tuple = (10,20,30)\n",
        "print(type(new_tuple), new_tuple)\n"
      ],
      "metadata": {
        "colab": {
          "base_uri": "https://localhost:8080/"
        },
        "id": "nyImzWm0c2nV",
        "outputId": "7aa89446-fe85-4aa1-bd7d-9bd898596009"
      },
      "execution_count": 13,
      "outputs": [
        {
          "output_type": "stream",
          "name": "stdout",
          "text": [
            "<class 'tuple'> (10, 20, 30)\n"
          ]
        }
      ]
    },
    {
      "cell_type": "code",
      "source": [
        "# 19.  Write a code to access the first element of the tuple ('apple', 'banana', 'cherry').\n",
        "old_tuple = ('apple', 'banana', 'cherry')\n",
        "new_tuple = old_tuple[0]\n",
        "print(new_tuple)"
      ],
      "metadata": {
        "colab": {
          "base_uri": "https://localhost:8080/"
        },
        "id": "7OfXc1mndSVm",
        "outputId": "4a00ab12-f358-4bfe-da6a-2ba69f949313"
      },
      "execution_count": 18,
      "outputs": [
        {
          "output_type": "stream",
          "name": "stdout",
          "text": [
            "apple\n"
          ]
        }
      ]
    },
    {
      "cell_type": "code",
      "source": [
        "# 20. Write a code to count how many times the number 2 appears in the tuple (1, 2, 3, 2, 4, 2).\n",
        "number = (1,2,3,2,4,2)\n",
        "count_number = number.count(2)\n",
        "print(count_number,\"times the number present in tuple\")"
      ],
      "metadata": {
        "colab": {
          "base_uri": "https://localhost:8080/"
        },
        "id": "MYZSjdareY9O",
        "outputId": "a2534902-cf21-4879-c4d9-421d6b013c49"
      },
      "execution_count": 19,
      "outputs": [
        {
          "output_type": "stream",
          "name": "stdout",
          "text": [
            "3 times the number present in tuple\n"
          ]
        }
      ]
    },
    {
      "cell_type": "code",
      "source": [
        "# 21. Write a code to find the index of the element \"cat\" in the tuple ('dog', 'cat', 'rabbit')\n",
        "old_tuple = ('dog', 'cat', 'rabbit')\n",
        "new_tuple = old_tuple.index('cat')\n",
        "print(\"the index of cat: \", new_tuple)"
      ],
      "metadata": {
        "colab": {
          "base_uri": "https://localhost:8080/"
        },
        "id": "CYA5j2MpeiOq",
        "outputId": "9370518b-454c-4a15-ac79-177f8056175c"
      },
      "execution_count": 20,
      "outputs": [
        {
          "output_type": "stream",
          "name": "stdout",
          "text": [
            "the index of cat:  1\n"
          ]
        }
      ]
    },
    {
      "cell_type": "code",
      "source": [
        "# 22. Write a code to check if the element \"banana\" is in the tuple ('apple', 'orange', 'banana').\n",
        "name = ('apple', 'orange', 'banana')\n",
        "if \"banana\" in name:\n",
        "  print(\"Banana is present in tuple\")\n",
        "else:\n",
        "  print(\"Banana is not present in tuple\")"
      ],
      "metadata": {
        "colab": {
          "base_uri": "https://localhost:8080/"
        },
        "id": "sp0VpiU4e_kV",
        "outputId": "80a86b98-f2d2-44e0-b68a-195f21fdf04f"
      },
      "execution_count": 22,
      "outputs": [
        {
          "output_type": "stream",
          "name": "stdout",
          "text": [
            "Banana is present in tuple\n"
          ]
        }
      ]
    },
    {
      "cell_type": "code",
      "source": [
        "# 23. Write a code to create a set with the elements 1, 2, 3, 4, 5 and print it.\n",
        "new_set = {1,2,3,4,5}\n",
        "print(type(new_set), new_set)\n"
      ],
      "metadata": {
        "colab": {
          "base_uri": "https://localhost:8080/"
        },
        "id": "qvePiSn6fO5Q",
        "outputId": "da1ecb2e-0d94-4dd2-ef95-ac0b4389cd36"
      },
      "execution_count": 23,
      "outputs": [
        {
          "output_type": "stream",
          "name": "stdout",
          "text": [
            "<class 'set'> {1, 2, 3, 4, 5}\n"
          ]
        }
      ]
    },
    {
      "cell_type": "code",
      "source": [
        "# 24. Write a code to add the element 6 to the set {1, 2, 3, 4}.\n",
        "new_set = {1, 2, 3, 4}\n",
        "print(\"Before add new element: \", new_set)\n",
        "new_set.add(6)\n",
        "print(\"After add new element: \", new_set)"
      ],
      "metadata": {
        "colab": {
          "base_uri": "https://localhost:8080/"
        },
        "id": "3J__WDYAfey_",
        "outputId": "37a34c49-9f7d-427c-d965-d616b5ff3c96"
      },
      "execution_count": 24,
      "outputs": [
        {
          "output_type": "stream",
          "name": "stdout",
          "text": [
            "Before add new element:  {1, 2, 3, 4}\n",
            "After add new element:  {1, 2, 3, 4, 6}\n"
          ]
        }
      ]
    }
  ]
}