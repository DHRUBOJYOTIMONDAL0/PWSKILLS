{
 "cells": [
  {
   "cell_type": "code",
   "execution_count": null,
   "id": "534f659a-bb2a-4280-aede-b65a7d2f1035",
   "metadata": {},
   "outputs": [],
   "source": [
    "text_content= \"\"\"\n",
    "example1\n",
    "example2\n",
    "example3\n",
    "\"\"\"           źZ                                                                                            ZZ   Z ZZZZZZ  "
   ]
  },
  {
   "cell_type": "code",
   "execution_count": 2,
   "id": "4c8fd154-fa54-4193-90f0-d3cbc3c61a7b",
   "metadata": {},
   "outputs": [],
   "source": [
    "text_content= \"\"\"\n",
    "example1\n",
    "example2\n",
    "example3\n",
    "\"\"\"\n",
    "with open(\"example.txt\", \"w\") as file:\n",
    "    file.write(text_content)\n"
   ]
  },
  {
   "cell_type": "code",
   "execution_count": 3,
   "id": "6eb2e3e4-580a-4721-988e-c828f058aa05",
   "metadata": {},
   "outputs": [
    {
     "name": "stdout",
     "output_type": "stream",
     "text": [
      "\n",
      "example1\n",
      "example2\n",
      "example3\n",
      "\n"
     ]
    }
   ],
   "source": [
    "with open(\"example.txt\", \"r\") as file:\n",
    "    data = file.read()\n",
    "print(data)    "
   ]
  },
  {
   "cell_type": "code",
   "execution_count": 4,
   "id": "bc06036f-9606-4ae6-933b-ed19915c307d",
   "metadata": {},
   "outputs": [
    {
     "name": "stdout",
     "output_type": "stream",
     "text": [
      "['Name', 'Courses', 'Fees']\n",
      "['Dhrubo', 'DS', '50000']\n",
      "['Ankur', 'Full Stack', '40000']\n",
      "['Sayan', 'Full Stack', '45000']\n"
     ]
    }
   ],
   "source": [
    "data = [[\"Name\", \"Courses\", \"Fees\"],\n",
    "       [\"Dhrubo\", \"DS\", \"50000\"],\n",
    "       [\"Ankur\", \"Full Stack\", \"40000\"],\n",
    "       [\"Sayan\", \"Full Stack\", \"45000\"]]\n",
    "for i in data:\n",
    "    print(i)"
   ]
  },
  {
   "cell_type": "code",
   "execution_count": 7,
   "id": "9079c1f3-a040-4d14-9b6c-2d7e0a7475d7",
   "metadata": {},
   "outputs": [],
   "source": [
    "import csv\n",
    "with open (\"example_csv.csv\", \"w\") as file:\n",
    "    w = csv.writer(file) # 'w'empty file object \n",
    "    for i in data:\n",
    "        w.writerow(i)"
   ]
  },
  {
   "cell_type": "code",
   "execution_count": 8,
   "id": "d084b70d-eafb-4bf0-8ca3-8d9ac3fb1b63",
   "metadata": {},
   "outputs": [
    {
     "ename": "_IncompleteInputError",
     "evalue": "incomplete input (1168999104.py, line 3)",
     "output_type": "error",
     "traceback": [
      "\u001b[0;36m  Cell \u001b[0;32mIn[8], line 3\u001b[0;36m\u001b[0m\n\u001b[0;31m    for i in r:\u001b[0m\n\u001b[0m               ^\u001b[0m\n\u001b[0;31m_IncompleteInputError\u001b[0m\u001b[0;31m:\u001b[0m incomplete input\n"
     ]
    }
   ],
   "source": [
    "with open (\"example_csv.csv\", \"r\") as file:\n",
    "    r = csv.reader(file)\n",
    "    for i in r:"
   ]
  },
  {
   "cell_type": "code",
   "execution_count": 9,
   "id": "cf2eb43b-8c24-49e7-a8ac-237dabdfc1db",
   "metadata": {},
   "outputs": [
    {
     "ename": "AttributeError",
     "evalue": "module 'csv' has no attribute 'read'",
     "output_type": "error",
     "traceback": [
      "\u001b[0;31m---------------------------------------------------------------------------\u001b[0m",
      "\u001b[0;31mAttributeError\u001b[0m                            Traceback (most recent call last)",
      "Cell \u001b[0;32mIn[9], line 2\u001b[0m\n\u001b[1;32m      1\u001b[0m \u001b[38;5;28;01mwith\u001b[39;00m \u001b[38;5;28mopen\u001b[39m (\u001b[38;5;124m\"\u001b[39m\u001b[38;5;124mexample_csv.csv\u001b[39m\u001b[38;5;124m\"\u001b[39m, \u001b[38;5;124m\"\u001b[39m\u001b[38;5;124mr\u001b[39m\u001b[38;5;124m\"\u001b[39m) \u001b[38;5;28;01mas\u001b[39;00m file:\n\u001b[0;32m----> 2\u001b[0m     r \u001b[38;5;241m=\u001b[39m \u001b[43mcsv\u001b[49m\u001b[38;5;241;43m.\u001b[39;49m\u001b[43mread\u001b[49m\n\u001b[1;32m      3\u001b[0m     \u001b[38;5;28;01mfor\u001b[39;00m i \u001b[38;5;129;01min\u001b[39;00m r:\n\u001b[1;32m      4\u001b[0m         \u001b[38;5;28mprint\u001b[39m(i)\n",
      "\u001b[0;31mAttributeError\u001b[0m: module 'csv' has no attribute 'read'"
     ]
    }
   ],
   "source": [
    "with open (\"example_csv.csv\", \"r\") as file:\n",
    "    r = csv.read\n",
    "    for i in r:\n",
    "        print(i)"
   ]
  },
  {
   "cell_type": "code",
   "execution_count": 10,
   "id": "d962d0c3-4ed5-468d-8650-f263dabe3b71",
   "metadata": {},
   "outputs": [
    {
     "name": "stdout",
     "output_type": "stream",
     "text": [
      "['Name', 'Courses', 'Fees']\n",
      "['Dhrubo', 'DS', '50000']\n",
      "['Ankur', 'Full Stack', '40000']\n",
      "['Sayan', 'Full Stack', '45000']\n"
     ]
    }
   ],
   "source": [
    "with open (\"example_csv.csv\", \"r\") as file:\n",
    "    r = csv.reader(file)\n",
    "    for i in r:\n",
    "        print(i)"
   ]
  },
  {
   "cell_type": "code",
   "execution_count": 11,
   "id": "ff4f3ae6-1eee-40ba-9aeb-52967429cf53",
   "metadata": {},
   "outputs": [
    {
     "ename": "SyntaxError",
     "evalue": "invalid syntax (560489426.py, line 1)",
     "output_type": "error",
     "traceback": [
      "\u001b[0;36m  Cell \u001b[0;32mIn[11], line 1\u001b[0;36m\u001b[0m\n\u001b[0;31m    data =\u001b[0m\n\u001b[0m           ^\u001b[0m\n\u001b[0;31mSyntaxError\u001b[0m\u001b[0;31m:\u001b[0m invalid syntax\n"
     ]
    }
   ],
   "source": [
    "data = "
   ]
  },
  {
   "cell_type": "code",
   "execution_count": 12,
   "id": "00cf9b4e-5598-43ff-bf36-c504fe2cea3a",
   "metadata": {},
   "outputs": [
    {
     "ename": "SyntaxError",
     "evalue": "':' expected after dictionary key (1794642871.py, line 3)",
     "output_type": "error",
     "traceback": [
      "\u001b[0;36m  Cell \u001b[0;32mIn[12], line 3\u001b[0;36m\u001b[0m\n\u001b[0;31m    \"Fee\", 2000}\u001b[0m\n\u001b[0m        ^\u001b[0m\n\u001b[0;31mSyntaxError\u001b[0m\u001b[0;31m:\u001b[0m ':' expected after dictionary key\n"
     ]
    }
   ],
   "source": [
    "data = {\"Name\": \"Dhrubo\",\n",
    "       \"Course\": \"DS\",\n",
    "       \"Fee\", 2000}\n",
    "print(data)"
   ]
  },
  {
   "cell_type": "code",
   "execution_count": 14,
   "id": "3448cb29-bb57-443c-a854-03a879f44ea8",
   "metadata": {},
   "outputs": [
    {
     "name": "stdout",
     "output_type": "stream",
     "text": [
      "{'Name': 'Dhrubo', 'Course': 'DS', 'Fee': 2000}\n",
      "<class 'dict'>\n"
     ]
    }
   ],
   "source": [
    "data = {\"Name\": \"Dhrubo\",\n",
    "       \"Course\": \"DS\",\n",
    "       \"Fee\": 2000}\n",
    "print(data)\n",
    "print(type(data))"
   ]
  },
  {
   "cell_type": "code",
   "execution_count": 16,
   "id": "1a88c850-0780-486d-af3e-3f3abf04edb5",
   "metadata": {},
   "outputs": [],
   "source": [
    "import json\n",
    "with open (\"file_json.json\", \"w\") as f:\n",
    "    json.dump(data, f)"
   ]
  },
  {
   "cell_type": "code",
   "execution_count": 1,
   "id": "17d4af2f-4d2b-4239-bad5-9e3def5a3167",
   "metadata": {},
   "outputs": [
    {
     "ename": "NameError",
     "evalue": "name 'data' is not defined",
     "output_type": "error",
     "traceback": [
      "\u001b[0;31m---------------------------------------------------------------------------\u001b[0m",
      "\u001b[0;31mNameError\u001b[0m                                 Traceback (most recent call last)",
      "Cell \u001b[0;32mIn[1], line 4\u001b[0m\n\u001b[1;32m      2\u001b[0m \u001b[38;5;28;01mwith\u001b[39;00m \u001b[38;5;28mopen\u001b[39m(\u001b[38;5;124m\"\u001b[39m\u001b[38;5;124mexample_csv\u001b[39m\u001b[38;5;124m\"\u001b[39m, \u001b[38;5;124m\"\u001b[39m\u001b[38;5;124mw\u001b[39m\u001b[38;5;124m\"\u001b[39m) \u001b[38;5;28;01mas\u001b[39;00m file:\n\u001b[1;32m      3\u001b[0m     w \u001b[38;5;241m=\u001b[39m csv\u001b[38;5;241m.\u001b[39mwriter(file)\n\u001b[0;32m----> 4\u001b[0m     \u001b[38;5;28;01mfor\u001b[39;00m i \u001b[38;5;129;01min\u001b[39;00m \u001b[43mdata\u001b[49m:\n\u001b[1;32m      5\u001b[0m         w\u001b[38;5;241m.\u001b[39mwriterow(i)\n",
      "\u001b[0;31mNameError\u001b[0m: name 'data' is not defined"
     ]
    }
   ],
   "source": [
    "import csv\n",
    "with open(\"example_csv\", \"w\") as file:\n",
    "    w = csv.writer(file)\n",
    "    for i in data:\n",
    "        w.writerow(i)"
   ]
  },
  {
   "cell_type": "code",
   "execution_count": 3,
   "id": "384c3c0e-53be-47ca-bc41-6277f6441d93",
   "metadata": {},
   "outputs": [
    {
     "ename": "NameError",
     "evalue": "name 'data' is not defined",
     "output_type": "error",
     "traceback": [
      "\u001b[0;31m---------------------------------------------------------------------------\u001b[0m",
      "\u001b[0;31mNameError\u001b[0m                                 Traceback (most recent call last)",
      "Cell \u001b[0;32mIn[3], line 4\u001b[0m\n\u001b[1;32m      2\u001b[0m \u001b[38;5;28;01mwith\u001b[39;00m \u001b[38;5;28mopen\u001b[39m (\u001b[38;5;124m\"\u001b[39m\u001b[38;5;124mexample_csv.csv\u001b[39m\u001b[38;5;124m\"\u001b[39m, \u001b[38;5;124m\"\u001b[39m\u001b[38;5;124mw\u001b[39m\u001b[38;5;124m\"\u001b[39m) \u001b[38;5;28;01mas\u001b[39;00m file:\n\u001b[1;32m      3\u001b[0m     w \u001b[38;5;241m=\u001b[39m csv\u001b[38;5;241m.\u001b[39mwriter(file) \u001b[38;5;66;03m# 'w'empty file object \u001b[39;00m\n\u001b[0;32m----> 4\u001b[0m     \u001b[38;5;28;01mfor\u001b[39;00m i \u001b[38;5;129;01min\u001b[39;00m \u001b[43mdata\u001b[49m:\n\u001b[1;32m      5\u001b[0m         w\u001b[38;5;241m.\u001b[39mwriterow(i)\n",
      "\u001b[0;31mNameError\u001b[0m: name 'data' is not defined"
     ]
    }
   ],
   "source": [
    "import csv\n",
    "with open (\"example_csv.csv\", \"w\") as file:\n",
    "    w = csv.writer(file) # 'w'empty file object \n",
    "    for i in data:\n",
    "        w.writerow(i)"
   ]
  },
  {
   "cell_type": "code",
   "execution_count": 4,
   "id": "2575063e-627b-4e6f-93c6-840194974a5a",
   "metadata": {},
   "outputs": [
    {
     "name": "stdout",
     "output_type": "stream",
     "text": [
      "['Name', 'Courses', 'Fees']\n",
      "['Dhrubo', 'DS', '50000']\n",
      "['Ankur', 'Full Stack', '40000']\n",
      "['Sayan', 'Full Stack', '45000']\n"
     ]
    }
   ],
   "source": [
    "data = [[\"Name\", \"Courses\", \"Fees\"],\n",
    "       [\"Dhrubo\", \"DS\", \"50000\"],\n",
    "       [\"Ankur\", \"Full Stack\", \"40000\"],\n",
    "       [\"Sayan\", \"Full Stack\", \"45000\"]]\n",
    "for i in data:\n",
    "    print(i)"
   ]
  },
  {
   "cell_type": "code",
   "execution_count": 5,
   "id": "0f7ffc36-f740-4bff-a575-fe1781d27bad",
   "metadata": {},
   "outputs": [],
   "source": [
    "import csv\n",
    "with open (\"example_csv.csv\", \"w\") as file:\n",
    "    w = csv.writer(file) # 'w'empty file object \n",
    "    for i in data:\n",
    "        w.writerow(i)"
   ]
  },
  {
   "cell_type": "code",
   "execution_count": null,
   "id": "0acd361a-9cd3-4f2f-980e-269687ef22c9",
   "metadata": {},
   "outputs": [],
   "source": []
  }
 ],
 "metadata": {
  "kernelspec": {
   "display_name": "Python 3 (ipykernel)",
   "language": "python",
   "name": "python3"
  },
  "language_info": {
   "codemirror_mode": {
    "name": "ipython",
    "version": 3
   },
   "file_extension": ".py",
   "mimetype": "text/x-python",
   "name": "python",
   "nbconvert_exporter": "python",
   "pygments_lexer": "ipython3",
   "version": "3.13.1"
  }
 },
 "nbformat": 4,
 "nbformat_minor": 5
}
