{
  "nbformat": 4,
  "nbformat_minor": 0,
  "metadata": {
    "colab": {
      "provenance": []
    },
    "kernelspec": {
      "name": "python3",
      "display_name": "Python 3"
    },
    "language_info": {
      "name": "python"
    }
  },
  "cells": [
    {
      "cell_type": "markdown",
      "source": [],
      "metadata": {
        "id": "Weu5XIe0cFvv"
      }
    },
    {
      "cell_type": "markdown",
      "source": [
        "1. What is Object-Oriented Programming (OOP)?\n",
        "Ans- Object-oriented programming is a programming paradigm that is based on the concept of objects, which can contain data and code that manipulates that data."
      ],
      "metadata": {
        "id": "ir-qNp91q_cR"
      }
    },
    {
      "cell_type": "markdown",
      "source": [
        "# 2. What is a class in OOP?\n",
        "Ans - In Python's Object-Oriented Programming  a class is a blueprint for creating objects. It defines attributes  and methods that the created objects will have"
      ],
      "metadata": {
        "id": "YxdPXjTSbpRY"
      }
    },
    {
      "cell_type": "markdown",
      "source": [
        "3.  What is an object in OOP?\n",
        "Ans- an object is an instance of a class. It represents a specific entity that has attributes  and methods defined by its class. Objects allow you to create multiple instances of a class,"
      ],
      "metadata": {
        "id": "UlxonakPcKN5"
      }
    },
    {
      "cell_type": "markdown",
      "source": [
        "4. What is the difference between abstraction and encapsulation?\n",
        "Ans- Abstraction: It simplifies complexity by hiding unnecessary details and showing only the essential features. It's like using a car without needing to understand the internal workings of its engine.\n",
        "\n",
        "Encapsulation: It bundles data and methods  into a single unit and restricts direct access to some of the object's components. It's like putting the car engine inside a protective cover so only certain parts can be accessed directly."
      ],
      "metadata": {
        "id": "DS4WuH-rcqog"
      }
    },
    {
      "cell_type": "markdown",
      "source": [],
      "metadata": {
        "id": "9YS-UPeIcmRh"
      }
    },
    {
      "cell_type": "markdown",
      "source": [
        "5. What are dunder methods in Python?\n",
        "Ans- Dunder methods, also known as magic methods, in Python are special methods that start and end with double underscores (__). They enable you to define the behavior of objects for built-in operations like initialization, representation, addition, and more."
      ],
      "metadata": {
        "id": "XbHcoHEzc7ym"
      }
    },
    {
      "cell_type": "markdown",
      "source": [
        "6.  Explain the concept of inheritance in OOP?\n",
        "Ans- In Python's Object-Oriented Programming, inheritance allows a class to inherit attributes and methods from another class. It enables code reuse and establishes a relationship between classes, where the subclass can extend or modify the behavior of the superclass."
      ],
      "metadata": {
        "id": "luxblk-TdM6Z"
      }
    },
    {
      "cell_type": "markdown",
      "source": [
        "7. What is polymorphism in OOP?\n",
        "Ans- In Python's Object-Oriented Programming polymorphism allows objects of different classes to be treated as objects of a common superclass. It enables the same method name to be used for different types."
      ],
      "metadata": {
        "id": "NJTyGhM3dey9"
      }
    },
    {
      "cell_type": "markdown",
      "source": [
        "8. How is encapsulation achieved in Python?\n",
        "Ans- Encapsulation in Python is achieved by defining a class that bundles data and methods together. Access to these attributes and methods is controlled through access specifiers like public, protected, and private. Private attributes and methods are prefixed with a double underscore, which restricts direct access from outside the class."
      ],
      "metadata": {
        "id": "kigwFASWdv1L"
      }
    },
    {
      "cell_type": "markdown",
      "source": [
        "9. What is a constructor in Python?\n",
        "Ans- In Python, a constructor is a special method called __init__ that is automatically invoked when an object is created from a class. It initializes the object's attributes and sets up any necessary initial state."
      ],
      "metadata": {
        "id": "c6bT8U8geAuV"
      }
    },
    {
      "cell_type": "markdown",
      "source": [
        "10. What are class and static methods in Python.\n",
        "Ans - Class Methods: Defined using the @classmethod decorator. They take cls as their first parameter, which represents the class itself. They can access and modify class state but cannot modify instance-specific data.\n",
        "\n",
        "Static Methods: Defined using the @staticmethod decorator. They do not take self or cls as their first parameter. They do not have access to class or instance-specific data and are used for utility functions that are logically related to the class but do not need to access class-specific data.\n"
      ],
      "metadata": {
        "id": "ftKWs14zeLyD"
      }
    },
    {
      "cell_type": "markdown",
      "source": [
        "11. What is method overloading in Python?\n",
        "Ans- In Python, method overloading refers to the ability to define multiple methods with the same name but different parameters. However, Python does not support method overloading directly like some other languages."
      ],
      "metadata": {
        "id": "FB8AgZVDe1J7"
      }
    },
    {
      "cell_type": "markdown",
      "source": [
        "12. What is method overriding in OOP?\n",
        "Ans- In Python's Object-Oriented Programming method overriding allows a subclass to provide a specific implementation of a method that is already defined in its superclass. The subclass's method takes precedence and is called instead of the superclass's method when an object of the subclass is used"
      ],
      "metadata": {
        "id": "Hs3-GmGsfowL"
      }
    },
    {
      "cell_type": "markdown",
      "source": [
        "13. What is a property decorator in Python?\n",
        "Ans- In Python, the property decorator (@property) is used to define getter, setter, and deleter methods for class attributes. It allows you to access methods as if they were attributes, providing a way to encapsulate data and control access to it."
      ],
      "metadata": {
        "id": "KddKr-Ewf27l"
      }
    },
    {
      "cell_type": "markdown",
      "source": [
        "14. Why is polymorphism important in OOP?\n",
        "Ans- Polymorphism is important in Object-Oriented Programming because it promotes flexibility and scalability. It allows objects of different classes to be treated as objects of a common superclass, enabling a single interface to represent different underlying forms."
      ],
      "metadata": {
        "id": "pxaCp75tgDTm"
      }
    },
    {
      "cell_type": "markdown",
      "source": [
        "15. What is an abstract class in Python?\n",
        "Ans- An abstract class in Python is a class that cannot be instantiated directly and is meant to be subclassed. It is defined using the abc module and contains one or more abstract methods, which are declared but not implemented in the abstract class. Subclasses are required to provide implementations for these abstract methods."
      ],
      "metadata": {
        "id": "GBbfkkdlgTnu"
      }
    },
    {
      "cell_type": "markdown",
      "source": [
        "16. What are the advantages of OOP?\n",
        "Ans- Modularity: Code is organized into classes and objects, making it easier to manage and maintain.\n",
        "\n",
        "Reusability: Classes and methods can be reused across different programs, reducing redundancy.\n",
        "\n",
        "Scalability: Code can be extended and modified easily without affecting other parts of the program.\n",
        "\n",
        "Encapsulation: Data and methods are bundled together, increasing code security and integrity.\n",
        "\n",
        "Abstraction: Complex systems can be simplified by focusing on high-level concepts and hiding unnecessary details."
      ],
      "metadata": {
        "id": "S1CScB1Eghne"
      }
    },
    {
      "cell_type": "markdown",
      "source": [
        "17. What is the difference between a class variable and an instance variable?\n",
        "Ans- Class Variables: Shared among all instances of a class. Defined within the class but outside any instance methods. Changes to class variables affect all instances.\n",
        "\n",
        "Instance Variables: Specific to each instance of a class. Defined within instance methods, usually in the __init__ method. Changes to instance variables affect only the particular instance."
      ],
      "metadata": {
        "id": "sP1VSgbQgtVJ"
      }
    },
    {
      "cell_type": "markdown",
      "source": [
        "18. What is multiple inheritance in Python?\n",
        "Ans- In Python, multiple inheritance allows a class to inherit attributes and methods from more than one parent class. This enables the subclass to inherit features from multiple sources, promoting code reuse and flexibility."
      ],
      "metadata": {
        "id": "HzncriG3hD_-"
      }
    },
    {
      "cell_type": "markdown",
      "source": [
        "19. F Explain the purpose of ‘’__str__’ and ‘__repr__’ ‘ methods in Python?\n",
        "Ans- __str__ Method: Provides a user-friendly string representation of an object, typically for display to end users. It is called by the str() function and the print() function.\n",
        "\n",
        "__repr__ Method: Provides an unambiguous string representation of an object, useful for developers. It is called by the repr() function and is intended to be a more precise representation that can be used to recreate the object"
      ],
      "metadata": {
        "id": "m2YO35uehb3b"
      }
    },
    {
      "cell_type": "markdown",
      "source": [
        "20. What is the significance of the ‘super()’ function in Python?\n",
        "Ans- In Python, the super() function is significant because it allows a subclass to call methods from its parent class, enabling code reuse and extending functionality. It is commonly used in method overriding to call the parent class's method before or after adding additional behavior in the subclass."
      ],
      "metadata": {
        "id": "qlfCkxj9hqx8"
      }
    },
    {
      "cell_type": "markdown",
      "source": [
        "21. What is the significance of the __del__ method in Python?\n",
        "Ans- In Python, the __del__ method, also known as the destructor method, is called when an object is about to be destroyed. It allows for cleanup activities, such as releasing resources or closing connections, before the object is deleted from memory."
      ],
      "metadata": {
        "id": "5jYC5eJwh1KU"
      }
    },
    {
      "cell_type": "markdown",
      "source": [
        "22. What is the difference between @staticmethod and @classmethod in Python?\n",
        "Ans- @staticmethod: A static method does not take self or cls as its first parameter. It does not have access to the class or instance-specific data. It is used for utility functions that are logically related to the class but do not need access to the class or instance-specific data.\n",
        "\n",
        "@classmethod: A class method takes cls as its first parameter, which represents the class itself. It can access and modify class state but cannot modify instance-specific data."
      ],
      "metadata": {
        "id": "n8hxI7sOh_d0"
      }
    },
    {
      "cell_type": "markdown",
      "source": [
        "23.  How does polymorphism work in Python with inheritance?\n",
        "Ans- In Python, polymorphism works with inheritance by allowing methods in different classes to have the same name but behave differently. This enables objects of different classes to be treated as objects of a common superclass. When a method is called on an object, Python dynamically determines which method implementation to use based on the object's class."
      ],
      "metadata": {
        "id": "iYLf0XRZiQ5a"
      }
    },
    {
      "cell_type": "markdown",
      "source": [
        "24. What is method chaining in Python OOP?\n",
        "Ans- In Python's Object-Oriented Programming method chaining refers to the practice of calling multiple methods on the same object in a single line of code. Each method returns the object itself, allowing subsequent methods to be called on it seamlessly. This technique makes the code more concise and readable."
      ],
      "metadata": {
        "id": "8UUqlzt1icP4"
      }
    },
    {
      "cell_type": "markdown",
      "source": [
        "25. What is the purpose of the __call__ method in Python?\n",
        "In Python, the __call__ method allows an instance of a class to be called as if it were a function. Defining this method in a class enables the instances to be used with the function call syntax, adding flexibility and making the class instances behave like callable objects."
      ],
      "metadata": {
        "id": "6OMEBmWdipG-"
      }
    }
  ]
}