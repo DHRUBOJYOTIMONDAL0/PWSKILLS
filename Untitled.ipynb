{
 "cells": [
  {
   "cell_type": "code",
   "execution_count": 3,
   "id": "3a12301a-6b20-43a5-81f7-57b114e697d6",
   "metadata": {},
   "outputs": [],
   "source": [
    "file = open(\"file.txt\", \"w\")\n",
    "file.write(\"This is my frist line\")\n",
    "file.close()"
   ]
  },
  {
   "cell_type": "code",
   "execution_count": 4,
   "id": "f4edc3fc-408b-4692-ae5f-93908c294933",
   "metadata": {},
   "outputs": [
    {
     "name": "stdout",
     "output_type": "stream",
     "text": [
      "hello\n"
     ]
    }
   ],
   "source": [
    "print(\"hello\")"
   ]
  },
  {
   "cell_type": "code",
   "execution_count": 5,
   "id": "d19da217-8db7-42f0-a508-a29af9b46b75",
   "metadata": {},
   "outputs": [
    {
     "data": {
      "text/plain": [
       "<_io.TextIOWrapper name='file.txt' mode='w' encoding='UTF-8'>"
      ]
     },
     "execution_count": 5,
     "metadata": {},
     "output_type": "execute_result"
    }
   ],
   "source": [
    "file"
   ]
  },
  {
   "cell_type": "code",
   "execution_count": 7,
   "id": "0f4f5c8b-201c-4444-9e4f-2aa3fedd6501",
   "metadata": {},
   "outputs": [],
   "source": [
    "file = open(\"file.txt\", \"r\")"
   ]
  },
  {
   "cell_type": "code",
   "execution_count": 8,
   "id": "4658f4cd-8576-47a7-90ae-aef80cca51e7",
   "metadata": {},
   "outputs": [],
   "source": [
    "file = open(\"file.txt\", \"w\")"
   ]
  },
  {
   "cell_type": "code",
   "execution_count": 10,
   "id": "3aa86613-5f87-41d5-ad56-48d06d55d904",
   "metadata": {},
   "outputs": [],
   "source": [
    "file = open(\"file.txt\", \"w\")\n",
    "file.write(\"This is my frist line\\n\")\n",
    "file.write(\"This is my second line\\n\")\n",
    "file.write(\"This is my third line\\n\")\n",
    "file.write(\"This is my fourth line\\n\")\n",
    "file.close()"
   ]
  },
  {
   "cell_type": "code",
   "execution_count": 11,
   "id": "1f4f0a3d-85c0-46d1-809f-187f233ee7d5",
   "metadata": {},
   "outputs": [],
   "source": [
    "file = open(\"file.txt\", \"w\")\n",
    "file.write(\"This is my fifth line\")\n",
    "file.close()"
   ]
  },
  {
   "cell_type": "code",
   "execution_count": 12,
   "id": "d8f0e0ae-ae00-4438-8d6e-28f5e6050632",
   "metadata": {},
   "outputs": [],
   "source": [
    "file = open(\"file.txt\", \"w\")\n",
    "file.write(\"This is my frist line\\n\")\n",
    "file.write(\"This is my second line\\n\")\n",
    "file.write(\"This is my third line\\n\")\n",
    "file.write(\"This is my fourth line\\n\")\n",
    "file.close()"
   ]
  },
  {
   "cell_type": "code",
   "execution_count": 13,
   "id": "7d0584dc-e5ee-444f-ab25-7ec54d29de45",
   "metadata": {},
   "outputs": [],
   "source": [
    "file = open(\"file.txt\", \"a\")\n",
    "file.write(\"This is my fifth line\")\n",
    "file.close()"
   ]
  },
  {
   "cell_type": "code",
   "execution_count": 14,
   "id": "535173f8-cb45-41b5-82bd-868dc7b73c20",
   "metadata": {},
   "outputs": [
    {
     "ename": "ValueError",
     "evalue": "I/O operation on closed file.",
     "output_type": "error",
     "traceback": [
      "\u001b[0;31m---------------------------------------------------------------------------\u001b[0m",
      "\u001b[0;31mValueError\u001b[0m                                Traceback (most recent call last)",
      "Cell \u001b[0;32mIn[14], line 1\u001b[0m\n\u001b[0;32m----> 1\u001b[0m \u001b[38;5;28;43;01mfor\u001b[39;49;00m\u001b[43m \u001b[49m\u001b[43mi\u001b[49m\u001b[43m \u001b[49m\u001b[38;5;129;43;01min\u001b[39;49;00m\u001b[43m \u001b[49m\u001b[43mfile\u001b[49m\u001b[43m:\u001b[49m\n\u001b[1;32m      2\u001b[0m \u001b[43m    \u001b[49m\u001b[38;5;28;43mprint\u001b[39;49m\u001b[43m(\u001b[49m\u001b[43mi\u001b[49m\u001b[43m)\u001b[49m\n",
      "\u001b[0;31mValueError\u001b[0m: I/O operation on closed file."
     ]
    }
   ],
   "source": [
    "for i in file:\n",
    "    print(i)"
   ]
  },
  {
   "cell_type": "code",
   "execution_count": 15,
   "id": "39aab492-02c6-402b-9a02-1f738299bec7",
   "metadata": {},
   "outputs": [
    {
     "ename": "ValueError",
     "evalue": "I/O operation on closed file.",
     "output_type": "error",
     "traceback": [
      "\u001b[0;31m---------------------------------------------------------------------------\u001b[0m",
      "\u001b[0;31mValueError\u001b[0m                                Traceback (most recent call last)",
      "Cell \u001b[0;32mIn[15], line 1\u001b[0m\n\u001b[0;32m----> 1\u001b[0m \u001b[38;5;28;43;01mfor\u001b[39;49;00m\u001b[43m \u001b[49m\u001b[43mi\u001b[49m\u001b[43m \u001b[49m\u001b[38;5;129;43;01min\u001b[39;49;00m\u001b[43m \u001b[49m\u001b[43mfile\u001b[49m\u001b[43m:\u001b[49m\n\u001b[1;32m      2\u001b[0m \u001b[43m    \u001b[49m\u001b[38;5;28;43mprint\u001b[39;49m\u001b[43m(\u001b[49m\u001b[43mi\u001b[49m\u001b[43m)\u001b[49m\n\u001b[1;32m      3\u001b[0m file\u001b[38;5;241m.\u001b[39mclose()    \n",
      "\u001b[0;31mValueError\u001b[0m: I/O operation on closed file."
     ]
    }
   ],
   "source": [
    "for i in file:\n",
    "    print(i)\n",
    "file.close()    "
   ]
  },
  {
   "cell_type": "code",
   "execution_count": 16,
   "id": "380fedba-956c-4b16-aa90-e78265ae4329",
   "metadata": {},
   "outputs": [
    {
     "data": {
      "text/plain": [
       "<_io.TextIOWrapper name='file.txt' mode='a' encoding='UTF-8'>"
      ]
     },
     "execution_count": 16,
     "metadata": {},
     "output_type": "execute_result"
    }
   ],
   "source": [
    "file"
   ]
  },
  {
   "cell_type": "code",
   "execution_count": 17,
   "id": "416f2a6f-8e12-43d8-bd34-3ec750938cad",
   "metadata": {},
   "outputs": [],
   "source": [
    "file = open(\"file.txt\", \"r\")\n",
    "file.close()"
   ]
  },
  {
   "cell_type": "code",
   "execution_count": 18,
   "id": "6555f342-49bc-46e4-914a-6b894a880e19",
   "metadata": {},
   "outputs": [
    {
     "ename": "SyntaxError",
     "evalue": "invalid syntax (2587859872.py, line 1)",
     "output_type": "error",
     "traceback": [
      "\u001b[0;36m  Cell \u001b[0;32mIn[18], line 1\u001b[0;36m\u001b[0m\n\u001b[0;31m    for i in range file:\u001b[0m\n\u001b[0m                   ^\u001b[0m\n\u001b[0;31mSyntaxError\u001b[0m\u001b[0;31m:\u001b[0m invalid syntax\n"
     ]
    }
   ],
   "source": [
    "for i in range file:\n",
    "print(i)"
   ]
  },
  {
   "cell_type": "code",
   "execution_count": 19,
   "id": "5150cbe5-5268-4059-b11c-761aa414fb68",
   "metadata": {},
   "outputs": [
    {
     "ename": "SyntaxError",
     "evalue": "invalid syntax (1080945077.py, line 1)",
     "output_type": "error",
     "traceback": [
      "\u001b[0;36m  Cell \u001b[0;32mIn[19], line 1\u001b[0;36m\u001b[0m\n\u001b[0;31m    for i in range file:\u001b[0m\n\u001b[0m                   ^\u001b[0m\n\u001b[0;31mSyntaxError\u001b[0m\u001b[0;31m:\u001b[0m invalid syntax\n"
     ]
    }
   ],
   "source": [
    "for i in range file:\n",
    "    print(i)"
   ]
  },
  {
   "cell_type": "code",
   "execution_count": 20,
   "id": "0550c6d8-4cdb-4149-88ca-11d1237236e7",
   "metadata": {},
   "outputs": [
    {
     "ename": "ValueError",
     "evalue": "I/O operation on closed file.",
     "output_type": "error",
     "traceback": [
      "\u001b[0;31m---------------------------------------------------------------------------\u001b[0m",
      "\u001b[0;31mValueError\u001b[0m                                Traceback (most recent call last)",
      "Cell \u001b[0;32mIn[20], line 1\u001b[0m\n\u001b[0;32m----> 1\u001b[0m \u001b[38;5;28;43;01mfor\u001b[39;49;00m\u001b[43m \u001b[49m\u001b[43mi\u001b[49m\u001b[43m \u001b[49m\u001b[38;5;129;43;01min\u001b[39;49;00m\u001b[43m \u001b[49m\u001b[43mfile\u001b[49m\u001b[43m:\u001b[49m\n\u001b[1;32m      2\u001b[0m \u001b[43m    \u001b[49m\u001b[38;5;28;43mprint\u001b[39;49m\u001b[43m(\u001b[49m\u001b[43mi\u001b[49m\u001b[43m)\u001b[49m\n",
      "\u001b[0;31mValueError\u001b[0m: I/O operation on closed file."
     ]
    }
   ],
   "source": [
    "for i in file:\n",
    "    print(i)"
   ]
  },
  {
   "cell_type": "code",
   "execution_count": 21,
   "id": "f8b579bf-0445-4b61-8da1-cd1de8e74d18",
   "metadata": {},
   "outputs": [],
   "source": [
    "file = open(\"file.txt\", 'r')"
   ]
  },
  {
   "cell_type": "code",
   "execution_count": 22,
   "id": "f84d83b0-69e8-4de7-8e82-cda88ce81fcd",
   "metadata": {},
   "outputs": [
    {
     "name": "stdout",
     "output_type": "stream",
     "text": [
      "This is my frist line\n",
      "\n",
      "This is my second line\n",
      "\n",
      "This is my third line\n",
      "\n",
      "This is my fourth line\n",
      "\n",
      "This is my fifth line\n"
     ]
    }
   ],
   "source": [
    "for i in file:\n",
    "    print(i)"
   ]
  },
  {
   "cell_type": "code",
   "execution_count": 23,
   "id": "e81795cd-0a04-4121-b637-1e9b569a5e4b",
   "metadata": {},
   "outputs": [
    {
     "data": {
      "text/plain": [
       "''"
      ]
     },
     "execution_count": 23,
     "metadata": {},
     "output_type": "execute_result"
    }
   ],
   "source": [
    "file.read()"
   ]
  },
  {
   "cell_type": "code",
   "execution_count": 24,
   "id": "c81dbc4c-cf7c-49eb-9b17-58ae9a4f65e4",
   "metadata": {},
   "outputs": [
    {
     "data": {
      "text/plain": [
       "111"
      ]
     },
     "execution_count": 24,
     "metadata": {},
     "output_type": "execute_result"
    }
   ],
   "source": [
    "file.tell()"
   ]
  },
  {
   "cell_type": "code",
   "execution_count": 25,
   "id": "022e19cb-bf79-4fb6-a389-e570b8c6ee91",
   "metadata": {},
   "outputs": [
    {
     "data": {
      "text/plain": [
       "0"
      ]
     },
     "execution_count": 25,
     "metadata": {},
     "output_type": "execute_result"
    }
   ],
   "source": [
    "file.seek(0)"
   ]
  },
  {
   "cell_type": "code",
   "execution_count": 26,
   "id": "9e2a3a8a-048f-4dc6-828c-fb8738598292",
   "metadata": {},
   "outputs": [
    {
     "name": "stdout",
     "output_type": "stream",
     "text": [
      "This is my frist line\n",
      "This is my second line\n",
      "This is my third line\n",
      "This is my fourth line\n",
      "This is my fifth line\n"
     ]
    }
   ],
   "source": [
    "file = open(\"file.txt\", 'r')\n",
    "file.seek(0)\n",
    "print(file.read())\n",
    "file.close()"
   ]
  },
  {
   "cell_type": "code",
   "execution_count": 27,
   "id": "eab73a6d-e4a9-48d8-ac77-ab5970e940c0",
   "metadata": {
    "scrolled": true
   },
   "outputs": [
    {
     "name": "stdout",
     "output_type": "stream",
     "text": [
      "['This is my frist line\\n', 'This is my second line\\n', 'This is my third line\\n', 'This is my fourth line\\n', 'This is my fifth line']\n"
     ]
    }
   ],
   "source": [
    "file = open(\"file.txt\", 'r')\n",
    "print(file.readlines())\n",
    "file.close()"
   ]
  },
  {
   "cell_type": "code",
   "execution_count": 28,
   "id": "bff54043-0cbe-490a-b4c2-5dc5339e3b1d",
   "metadata": {
    "scrolled": true
   },
   "outputs": [
    {
     "ename": "AttributeError",
     "evalue": "module 'os' has no attribute 'mkdiir'",
     "output_type": "error",
     "traceback": [
      "\u001b[0;31m---------------------------------------------------------------------------\u001b[0m",
      "\u001b[0;31mAttributeError\u001b[0m                            Traceback (most recent call last)",
      "Cell \u001b[0;32mIn[28], line 2\u001b[0m\n\u001b[1;32m      1\u001b[0m \u001b[38;5;28;01mimport\u001b[39;00m \u001b[38;5;21;01mos\u001b[39;00m;\n\u001b[0;32m----> 2\u001b[0m \u001b[43mos\u001b[49m\u001b[38;5;241;43m.\u001b[39;49m\u001b[43mmkdiir\u001b[49m(\u001b[38;5;124m\"\u001b[39m\u001b[38;5;124mtest\u001b[39m\u001b[38;5;124m\"\u001b[39m)\n",
      "\u001b[0;31mAttributeError\u001b[0m: module 'os' has no attribute 'mkdiir'"
     ]
    }
   ],
   "source": [
    "import os;\n",
    "os.mkdiir(\"test\")"
   ]
  },
  {
   "cell_type": "code",
   "execution_count": null,
   "id": "8cd9582a-f404-4c16-b0fd-f948588edac3",
   "metadata": {},
   "outputs": [],
   "source": []
  },
  {
   "cell_type": "code",
   "execution_count": 30,
   "id": "2690fe0e-a133-4e73-8dd0-c4807b7ed8dc",
   "metadata": {},
   "outputs": [],
   "source": [
    "os.mkdir(\"test/test1\")"
   ]
  },
  {
   "cell_type": "code",
   "execution_count": 31,
   "id": "4ed5f0e9-45f4-430e-8181-76ff38427a4e",
   "metadata": {},
   "outputs": [
    {
     "data": {
      "text/plain": [
       "['file.txt',\n",
       " '.DS_Store',\n",
       " 'live_class_note',\n",
       " 'test',\n",
       " 'Untitled.ipynb',\n",
       " 'Functions_Assignment',\n",
       " 'All _QUESTIONS',\n",
       " 'Python_Basics_Assignment',\n",
       " '.ipynb_checkpoints',\n",
       " 'PRACTICE_QUESTION',\n",
       " 'Python OOPs Assignment',\n",
       " 'Assignment_Python_Data_Structure',\n",
       " '.git']"
      ]
     },
     "execution_count": 31,
     "metadata": {},
     "output_type": "execute_result"
    }
   ],
   "source": [
    "os.listdir()"
   ]
  }
 ],
 "metadata": {
  "kernelspec": {
   "display_name": "Python 3 (ipykernel)",
   "language": "python",
   "name": "python3"
  },
  "language_info": {
   "codemirror_mode": {
    "name": "ipython",
    "version": 3
   },
   "file_extension": ".py",
   "mimetype": "text/x-python",
   "name": "python",
   "nbconvert_exporter": "python",
   "pygments_lexer": "ipython3",
   "version": "3.13.1"
  }
 },
 "nbformat": 4,
 "nbformat_minor": 5
}
