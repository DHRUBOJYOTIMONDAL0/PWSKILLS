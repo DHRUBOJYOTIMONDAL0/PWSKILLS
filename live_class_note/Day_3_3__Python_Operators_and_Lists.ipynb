{
  "cells": [
    {
      "cell_type": "markdown",
      "id": "f0c6558b-3dcd-4001-a68c-1a626809b437",
      "metadata": {
        "id": "f0c6558b-3dcd-4001-a68c-1a626809b437"
      },
      "source": [
        "## Logical Operators\n",
        "1. And\n",
        "2. or\n",
        "3. not"
      ]
    },
    {
      "cell_type": "code",
      "execution_count": null,
      "id": "1e30a87a-8605-4a02-8527-1851b57a0766",
      "metadata": {
        "id": "1e30a87a-8605-4a02-8527-1851b57a0766",
        "outputId": "f68b84b7-35a2-44a8-e6c6-4c8afbe95e29"
      },
      "outputs": [
        {
          "data": {
            "text/plain": [
              "True"
            ]
          },
          "execution_count": 1,
          "metadata": {},
          "output_type": "execute_result"
        }
      ],
      "source": [
        "True and True"
      ]
    },
    {
      "cell_type": "code",
      "execution_count": null,
      "id": "029bb214-9389-4154-908b-2cd7b0f0bca5",
      "metadata": {
        "id": "029bb214-9389-4154-908b-2cd7b0f0bca5",
        "outputId": "97d0ffac-3c0a-4f96-ff44-a96ed3e4156f"
      },
      "outputs": [
        {
          "data": {
            "text/plain": [
              "True"
            ]
          },
          "execution_count": 2,
          "metadata": {},
          "output_type": "execute_result"
        }
      ],
      "source": [
        "True or False"
      ]
    },
    {
      "cell_type": "code",
      "execution_count": null,
      "id": "97d08556-b26a-4262-ab53-652ab53b5c22",
      "metadata": {
        "id": "97d08556-b26a-4262-ab53-652ab53b5c22",
        "outputId": "8f1bba6a-48f7-4371-a32d-414e198ece48"
      },
      "outputs": [
        {
          "name": "stdout",
          "output_type": "stream",
          "text": [
            "Defined value of START = True\n",
            "Defined value of STOP = False \n",
            "\n",
            "Defined value of START = True\n",
            "Value of STOP by negating START= False \n",
            "\n",
            "Value of START by negating STOP = True\n",
            "Defined value of STOP = False \n",
            "\n"
          ]
        }
      ],
      "source": [
        "# Lets define two variables having boolean values True and False-\n",
        "START = True\n",
        "STOP = False\n",
        "\n",
        "# Print the values as it is\n",
        "print(f\"Defined value of START = {START}\")\n",
        "print(f\"Defined value of STOP = {STOP} \\n\")\n",
        "\n",
        "# if can also be written as -\n",
        "print(f\"Defined value of START = {START}\")\n",
        "print(f\"Value of STOP by negating START= {not START} \\n\")\n",
        "\n",
        "# alternatively -\n",
        "print(f\"Value of START by negating STOP = {not STOP}\")\n",
        "print(f\"Defined value of STOP = {STOP} \\n\")"
      ]
    },
    {
      "cell_type": "code",
      "execution_count": null,
      "id": "547a7b4e-6006-463c-b798-4512b59c0f40",
      "metadata": {
        "id": "547a7b4e-6006-463c-b798-4512b59c0f40",
        "outputId": "a144fc14-9b21-48e5-9100-704e391119bf"
      },
      "outputs": [
        {
          "data": {
            "text/plain": [
              "False"
            ]
          },
          "execution_count": 4,
          "metadata": {},
          "output_type": "execute_result"
        }
      ],
      "source": [
        "not True"
      ]
    },
    {
      "cell_type": "code",
      "execution_count": null,
      "id": "434d1b72-f9b7-493e-a2e6-40b917f1e7d5",
      "metadata": {
        "id": "434d1b72-f9b7-493e-a2e6-40b917f1e7d5",
        "outputId": "11318334-6c36-4dd7-c834-a4d7237025a0"
      },
      "outputs": [
        {
          "data": {
            "text/plain": [
              "True"
            ]
          },
          "execution_count": 8,
          "metadata": {},
          "output_type": "execute_result"
        }
      ],
      "source": [
        "not int(bool(0))"
      ]
    },
    {
      "cell_type": "code",
      "execution_count": null,
      "id": "0647c1af-5715-46fd-875c-e699bb55909d",
      "metadata": {
        "id": "0647c1af-5715-46fd-875c-e699bb55909d",
        "outputId": "9a5e76c6-7e6d-4fda-9d4a-7782d90ef610"
      },
      "outputs": [
        {
          "data": {
            "text/plain": [
              "False"
            ]
          },
          "execution_count": 11,
          "metadata": {},
          "output_type": "execute_result"
        }
      ],
      "source": [
        "not int(bool(1))"
      ]
    },
    {
      "cell_type": "code",
      "execution_count": null,
      "id": "9bb6bbbc-a8be-4ee4-8d62-025cc5dc156f",
      "metadata": {
        "id": "9bb6bbbc-a8be-4ee4-8d62-025cc5dc156f",
        "outputId": "51ee0656-b68b-4860-9b6b-ffef79d1df4f"
      },
      "outputs": [
        {
          "data": {
            "text/plain": [
              "False"
            ]
          },
          "execution_count": 12,
          "metadata": {},
          "output_type": "execute_result"
        }
      ],
      "source": [
        "not 1"
      ]
    },
    {
      "cell_type": "code",
      "execution_count": null,
      "id": "35bc68b1-ff9f-432a-9059-bf2e01abddc9",
      "metadata": {
        "id": "35bc68b1-ff9f-432a-9059-bf2e01abddc9",
        "outputId": "bf24ca0a-be29-4bec-d7e4-b2df627933ec"
      },
      "outputs": [
        {
          "data": {
            "text/plain": [
              "True"
            ]
          },
          "execution_count": 15,
          "metadata": {},
          "output_type": "execute_result"
        }
      ],
      "source": [
        "not 0"
      ]
    },
    {
      "cell_type": "code",
      "execution_count": null,
      "id": "ab058358-e42d-4578-8368-38bdc1d665a6",
      "metadata": {
        "id": "ab058358-e42d-4578-8368-38bdc1d665a6",
        "outputId": "12d5cd17-cd64-44ba-f5c6-c5a42bd2c171"
      },
      "outputs": [
        {
          "data": {
            "text/plain": [
              "False"
            ]
          },
          "execution_count": 17,
          "metadata": {},
          "output_type": "execute_result"
        }
      ],
      "source": [
        "not 1000"
      ]
    },
    {
      "cell_type": "code",
      "execution_count": null,
      "id": "b573261e-b585-476d-a647-2510fce1bbd8",
      "metadata": {
        "id": "b573261e-b585-476d-a647-2510fce1bbd8",
        "outputId": "0cc12931-ea78-4921-f55e-5a63f297065b"
      },
      "outputs": [
        {
          "data": {
            "text/plain": [
              "False"
            ]
          },
          "execution_count": 18,
          "metadata": {},
          "output_type": "execute_result"
        }
      ],
      "source": [
        "not -1"
      ]
    },
    {
      "cell_type": "code",
      "execution_count": null,
      "id": "4a5dda46-77de-4b21-93fa-d4149f422a8d",
      "metadata": {
        "id": "4a5dda46-77de-4b21-93fa-d4149f422a8d",
        "outputId": "aa78b00c-0776-44c5-f2d7-012929ca256b"
      },
      "outputs": [
        {
          "name": "stdout",
          "output_type": "stream",
          "text": [
            "Defined value of START = 1\n",
            "Defined value of STOP = 0 \n",
            "\n",
            "Defined value of START = 1\n",
            "Value of STOP by negating START= 0 \n",
            "\n",
            "Value of START by negating STOP = 1\n",
            "Defined value of STOP = 0 \n",
            "\n"
          ]
        }
      ],
      "source": [
        "START = 1\n",
        "STOP = 0\n",
        "\n",
        "# Print the values as it is\n",
        "print(f\"Defined value of START = {START}\")\n",
        "print(f\"Defined value of STOP = {STOP} \\n\")\n",
        "\n",
        "# if can also be written as -\n",
        "print(f\"Defined value of START = {START}\")\n",
        "print(f\"Value of STOP by negating START= {int(not START)} \\n\")\n",
        "\n",
        "# alternatively -\n",
        "print(f\"Value of START by negating STOP = {int(not STOP)}\")\n",
        "print(f\"Defined value of STOP = {STOP} \\n\")"
      ]
    },
    {
      "cell_type": "code",
      "execution_count": null,
      "id": "279671b9-8e4a-491f-b3b6-1c8ece64b6ba",
      "metadata": {
        "id": "279671b9-8e4a-491f-b3b6-1c8ece64b6ba",
        "outputId": "c66127a9-8018-4652-af17-d6a52ead84f1"
      },
      "outputs": [
        {
          "name": "stdout",
          "output_type": "stream",
          "text": [
            "boolean value of no. 0 is False\n",
            "boolean value of no. 1 is True\n",
            "negation of 0 is True and negation of 1 is False\n",
            "\n",
            "#------------------------#\n",
            "\n"
          ]
        }
      ],
      "source": [
        "zero = 0\n",
        "one = 1\n",
        "\n",
        "print(f\"boolean value of no. {zero} is {bool(zero)}\")\n",
        "print(f\"boolean value of no. {one} is {bool(one)}\")\n",
        "print(f\"negation of {zero} is {not zero} and negation of {one} is {not one}\")\n",
        "print(\"\\n#------------------------#\\n\")"
      ]
    },
    {
      "cell_type": "code",
      "execution_count": null,
      "id": "38f72ca1-6cfc-4c15-a3a9-b3a9baaa37e0",
      "metadata": {
        "id": "38f72ca1-6cfc-4c15-a3a9-b3a9baaa37e0",
        "outputId": "9f68bae3-92d8-470c-c77f-56003b160052"
      },
      "outputs": [
        {
          "data": {
            "text/plain": [
              "False"
            ]
          },
          "execution_count": 28,
          "metadata": {},
          "output_type": "execute_result"
        }
      ],
      "source": [
        "not 5"
      ]
    },
    {
      "cell_type": "code",
      "execution_count": null,
      "id": "0fc6b745-cd56-45ee-8331-0d49394318be",
      "metadata": {
        "id": "0fc6b745-cd56-45ee-8331-0d49394318be",
        "outputId": "59a94db6-729d-4142-deb4-aebfbb490e6e"
      },
      "outputs": [
        {
          "name": "stdout",
          "output_type": "stream",
          "text": [
            "boolean value of no. -5 is True\n",
            "boolean value of no. 5 is True\n",
            "negation of -5 is False and negation of 5 is False\n",
            "\n",
            "#------------------------#\n",
            "\n"
          ]
        }
      ],
      "source": [
        "Some_negative_integer = -5\n",
        "Some_positive_integer = 5\n",
        "\n",
        "print(f\"boolean value of no. {Some_negative_integer} is {bool(Some_negative_integer)}\")\n",
        "print(f\"boolean value of no. {Some_positive_integer} is {bool(Some_positive_integer)}\")\n",
        "print(f\"negation of {Some_negative_integer} is {not Some_negative_integer} \\\n",
        "and negation of {Some_positive_integer} is {not Some_positive_integer}\")\n",
        "\n",
        "print(\"\\n#------------------------#\\n\")"
      ]
    },
    {
      "cell_type": "code",
      "execution_count": null,
      "id": "d5070091-a523-4fa6-8b3d-f65fddcb17d9",
      "metadata": {
        "id": "d5070091-a523-4fa6-8b3d-f65fddcb17d9",
        "outputId": "a93c7ead-8482-4d52-8570-6e4291141351"
      },
      "outputs": [
        {
          "name": "stdout",
          "output_type": "stream",
          "text": [
            "boolean value of no. -5.99 is True\n",
            "boolean value of no. 5.6 is True\n",
            "negation of -5.99 is False and negation of 5.6 is False\n"
          ]
        }
      ],
      "source": [
        "Some_negative_float = -5.99\n",
        "Some_positive_float = 5.6\n",
        "\n",
        "print(f\"boolean value of no. {Some_negative_float} is {bool(Some_negative_float)}\")\n",
        "print(f\"boolean value of no. {Some_positive_float} is {bool(Some_positive_float)}\")\n",
        "print(f\"negation of {Some_negative_float} is {not Some_negative_float} \\\n",
        "and negation of {Some_positive_float} is {not Some_positive_float}\")"
      ]
    },
    {
      "cell_type": "markdown",
      "id": "90d5f14a-dfcb-46d9-9a20-52a9d01be373",
      "metadata": {
        "id": "90d5f14a-dfcb-46d9-9a20-52a9d01be373"
      },
      "source": [
        "## Logical And\n"
      ]
    },
    {
      "cell_type": "code",
      "execution_count": null,
      "id": "0b1fbd07-3094-407c-83c7-2adefa999573",
      "metadata": {
        "id": "0b1fbd07-3094-407c-83c7-2adefa999573",
        "outputId": "c8a93473-3603-4aa1-c931-f94a3050ad41"
      },
      "outputs": [
        {
          "name": "stdout",
          "output_type": "stream",
          "text": [
            "Dish contains VEGETABLES: True\n",
            "Dish contains SALT: False\n",
            "Hence dish prepared was good: False\n",
            "\n"
          ]
        }
      ],
      "source": [
        "VEGETABLES = True\n",
        "SALT = False\n",
        "DISH = VEGETABLES and SALT\n",
        "\n",
        "print(f\"Dish contains VEGETABLES: {VEGETABLES}\")\n",
        "print(f\"Dish contains SALT: {SALT}\")\n",
        "print(f\"Hence dish prepared was good: {DISH}\\n\")"
      ]
    },
    {
      "cell_type": "code",
      "execution_count": null,
      "id": "7411d1ce-9095-4dc7-8b2d-736e46af56db",
      "metadata": {
        "id": "7411d1ce-9095-4dc7-8b2d-736e46af56db",
        "outputId": "9cddc911-8d91-46de-8658-15e89e9c1c11"
      },
      "outputs": [
        {
          "data": {
            "text/plain": [
              "True"
            ]
          },
          "execution_count": 34,
          "metadata": {},
          "output_type": "execute_result"
        }
      ],
      "source": [
        "not(False) * True"
      ]
    },
    {
      "cell_type": "code",
      "execution_count": null,
      "id": "00005a41-3da2-435b-b526-69e82ee478c8",
      "metadata": {
        "id": "00005a41-3da2-435b-b526-69e82ee478c8",
        "outputId": "faded866-3f75-49f7-96b1-d406b8135ec8"
      },
      "outputs": [
        {
          "data": {
            "text/plain": [
              "0"
            ]
          },
          "execution_count": 50,
          "metadata": {},
          "output_type": "execute_result"
        }
      ],
      "source": [
        "False * (not(False))"
      ]
    },
    {
      "cell_type": "code",
      "execution_count": null,
      "id": "eb77690c-99bd-43f7-b82b-a2ba4c121ab9",
      "metadata": {
        "id": "eb77690c-99bd-43f7-b82b-a2ba4c121ab9",
        "outputId": "35ca47c0-6be2-49d1-b8f2-31e35a84b4e1"
      },
      "outputs": [
        {
          "data": {
            "text/plain": [
              "True"
            ]
          },
          "execution_count": 42,
          "metadata": {},
          "output_type": "execute_result"
        }
      ],
      "source": [
        "not(True) * False"
      ]
    },
    {
      "cell_type": "code",
      "execution_count": null,
      "id": "f005a05c-b4cd-4c28-8db2-921639523960",
      "metadata": {
        "id": "f005a05c-b4cd-4c28-8db2-921639523960",
        "outputId": "2d9c54f3-cdce-452e-d1b2-de5e9710ae2a"
      },
      "outputs": [
        {
          "data": {
            "text/plain": [
              "0"
            ]
          },
          "execution_count": 45,
          "metadata": {},
          "output_type": "execute_result"
        }
      ],
      "source": [
        "False * False"
      ]
    },
    {
      "cell_type": "code",
      "execution_count": null,
      "id": "1729e8b0-2465-40c4-8e09-ea694fcd47de",
      "metadata": {
        "id": "1729e8b0-2465-40c4-8e09-ea694fcd47de",
        "outputId": "8aa4432d-5199-4f8b-f64a-04689028bf6b"
      },
      "outputs": [
        {
          "data": {
            "text/plain": [
              "True"
            ]
          },
          "execution_count": 49,
          "metadata": {},
          "output_type": "execute_result"
        }
      ],
      "source": [
        "not False * False"
      ]
    },
    {
      "cell_type": "code",
      "execution_count": null,
      "id": "29120b48-ef57-41b6-9903-375cac47ba2f",
      "metadata": {
        "id": "29120b48-ef57-41b6-9903-375cac47ba2f",
        "outputId": "cfe4a2a5-f812-47a6-facd-e4a1c7fa7db6"
      },
      "outputs": [
        {
          "data": {
            "text/plain": [
              "9"
            ]
          },
          "execution_count": 48,
          "metadata": {},
          "output_type": "execute_result"
        }
      ],
      "source": [
        "(1+2)*3"
      ]
    },
    {
      "cell_type": "code",
      "execution_count": null,
      "id": "a8c1a12e-4f15-40fb-bb3e-a42440e5258d",
      "metadata": {
        "id": "a8c1a12e-4f15-40fb-bb3e-a42440e5258d",
        "outputId": "508fc436-585a-4caa-82d6-e54258bd9c84"
      },
      "outputs": [
        {
          "data": {
            "text/plain": [
              "True"
            ]
          },
          "execution_count": 52,
          "metadata": {},
          "output_type": "execute_result"
        }
      ],
      "source": [
        "not(False)*False == True\n"
      ]
    },
    {
      "cell_type": "code",
      "execution_count": null,
      "id": "25e32fa3-717a-48ec-a2ea-e045ddc8b305",
      "metadata": {
        "id": "25e32fa3-717a-48ec-a2ea-e045ddc8b305",
        "outputId": "a92f3e70-2190-4a6a-8811-9113858d4351"
      },
      "outputs": [
        {
          "name": "stdout",
          "output_type": "stream",
          "text": [
            "0\n"
          ]
        }
      ],
      "source": [
        "print((not(False)) * False)\n"
      ]
    },
    {
      "cell_type": "code",
      "execution_count": null,
      "id": "54defb67-5f25-4520-99a3-d9d577f01f0d",
      "metadata": {
        "id": "54defb67-5f25-4520-99a3-d9d577f01f0d",
        "outputId": "fd25c358-7d09-4546-8df9-03006e41eebb"
      },
      "outputs": [
        {
          "data": {
            "text/plain": [
              "9.2"
            ]
          },
          "execution_count": 58,
          "metadata": {},
          "output_type": "execute_result"
        }
      ],
      "source": [
        "(2*3+40)/5"
      ]
    },
    {
      "cell_type": "code",
      "execution_count": null,
      "id": "c61bb1f8-d320-49ff-bf7a-b395ac57dcf0",
      "metadata": {
        "id": "c61bb1f8-d320-49ff-bf7a-b395ac57dcf0",
        "outputId": "7f974f2e-e027-4942-ac38-8d83e06a9f16"
      },
      "outputs": [
        {
          "data": {
            "text/plain": [
              "True"
            ]
          },
          "execution_count": 61,
          "metadata": {},
          "output_type": "execute_result"
        }
      ],
      "source": [
        "not(False * True)"
      ]
    },
    {
      "cell_type": "code",
      "execution_count": null,
      "id": "b47cde99-2c2e-4cd1-907a-cc5fe45566b2",
      "metadata": {
        "id": "b47cde99-2c2e-4cd1-907a-cc5fe45566b2",
        "outputId": "7655046b-efdf-4353-893e-bcea366c0c5e"
      },
      "outputs": [
        {
          "data": {
            "text/plain": [
              "False"
            ]
          },
          "execution_count": 63,
          "metadata": {},
          "output_type": "execute_result"
        }
      ],
      "source": [
        "not(1)"
      ]
    },
    {
      "cell_type": "code",
      "execution_count": null,
      "id": "625b9829-32d9-4334-94d6-1f25b4bc2e18",
      "metadata": {
        "id": "625b9829-32d9-4334-94d6-1f25b4bc2e18",
        "outputId": "ed00cb81-c0a5-4c7d-d97d-1931a42afa29"
      },
      "outputs": [
        {
          "data": {
            "text/plain": [
              "True"
            ]
          },
          "execution_count": 65,
          "metadata": {},
          "output_type": "execute_result"
        }
      ],
      "source": [
        "not False * True == True"
      ]
    },
    {
      "cell_type": "markdown",
      "id": "bc4944b4-2a89-4011-957c-e5c45e2d95ce",
      "metadata": {
        "id": "bc4944b4-2a89-4011-957c-e5c45e2d95ce"
      },
      "source": [
        "### 4.1.2 Equality Operators\n",
        "\n",
        "Following operations are present in python for equlity check operation-\n",
        "\n",
        "|Operators|Meaning|\n",
        "|-|-|\n",
        "|**is**|***a is b*** returns true if variable/identifiers a and b *points* to the *same object*|\n",
        "|**is not**|***a is not b*** returns true if variable/identifiers a and b *points* to the *different object*|\n",
        "|**==**|***a == b*** returns true if variable/identifiers a and b has same value|\n",
        "|**!=**|***a != b*** returns true if variable/identifiers a and b has different value|"
      ]
    },
    {
      "cell_type": "code",
      "execution_count": null,
      "id": "707ab96b-bf88-46fe-b943-411614852bfa",
      "metadata": {
        "id": "707ab96b-bf88-46fe-b943-411614852bfa"
      },
      "outputs": [],
      "source": [
        "lst_a=[1,2,3,4]\n",
        "lst_b=[1,2,3,4]\n",
        "\n"
      ]
    },
    {
      "cell_type": "code",
      "execution_count": null,
      "id": "6010182f-3b87-42e2-8290-ecaa33a01c61",
      "metadata": {
        "id": "6010182f-3b87-42e2-8290-ecaa33a01c61",
        "outputId": "d02d81fe-d82e-46ad-c8b2-ac39f9376b62"
      },
      "outputs": [
        {
          "name": "stdout",
          "output_type": "stream",
          "text": [
            "140428320195968\n",
            "140428363610688\n"
          ]
        }
      ],
      "source": [
        "print(id(lst_a))\n",
        "print(id(lst_b))\n"
      ]
    },
    {
      "cell_type": "code",
      "execution_count": null,
      "id": "70d155e3-89c4-446e-9a5a-3be206e4a02a",
      "metadata": {
        "id": "70d155e3-89c4-446e-9a5a-3be206e4a02a",
        "outputId": "e6e925f4-e954-4691-8d6a-59bbeb68ad9e"
      },
      "outputs": [
        {
          "data": {
            "text/plain": [
              "False"
            ]
          },
          "execution_count": 69,
          "metadata": {},
          "output_type": "execute_result"
        }
      ],
      "source": [
        "lst_a is lst_b"
      ]
    },
    {
      "cell_type": "code",
      "execution_count": null,
      "id": "feae066a-f81e-46d6-abc3-cc70b06688a1",
      "metadata": {
        "id": "feae066a-f81e-46d6-abc3-cc70b06688a1"
      },
      "outputs": [],
      "source": [
        "lst_a=[1,2,3,4]\n",
        "lst_b=lst_a"
      ]
    },
    {
      "cell_type": "code",
      "execution_count": null,
      "id": "fb0b041d-548a-4ffa-9cc1-54029c440b2f",
      "metadata": {
        "id": "fb0b041d-548a-4ffa-9cc1-54029c440b2f",
        "outputId": "1cd15b46-a415-4c5f-e5bf-c5a8e390e486"
      },
      "outputs": [
        {
          "name": "stdout",
          "output_type": "stream",
          "text": [
            "140428064461056\n",
            "140428064461056\n"
          ]
        }
      ],
      "source": [
        "print(id(lst_a))\n",
        "print(id(lst_b))"
      ]
    },
    {
      "cell_type": "code",
      "execution_count": null,
      "id": "81803c44-3bd2-4e60-80da-b3a933b843de",
      "metadata": {
        "id": "81803c44-3bd2-4e60-80da-b3a933b843de",
        "outputId": "8361b4f2-dab6-48f0-b2c2-ba10d248791e"
      },
      "outputs": [
        {
          "data": {
            "text/plain": [
              "True"
            ]
          },
          "execution_count": 72,
          "metadata": {},
          "output_type": "execute_result"
        }
      ],
      "source": [
        "lst_a is lst_b"
      ]
    },
    {
      "cell_type": "code",
      "execution_count": null,
      "id": "725fcac1-417c-4d3d-b7a7-eb9a18e4b93c",
      "metadata": {
        "id": "725fcac1-417c-4d3d-b7a7-eb9a18e4b93c",
        "outputId": "2d012253-a3d0-44e4-8526-9687ef2387f1"
      },
      "outputs": [
        {
          "data": {
            "text/plain": [
              "True"
            ]
          },
          "execution_count": 73,
          "metadata": {},
          "output_type": "execute_result"
        }
      ],
      "source": [
        "lst_a=[1,2,3,4]\n",
        "lst_b=[1,2,3,4]\n",
        "\n",
        "lst_a is not lst_b"
      ]
    },
    {
      "cell_type": "code",
      "execution_count": null,
      "id": "bac61815-a684-44d9-8df8-3ae1d93f8133",
      "metadata": {
        "id": "bac61815-a684-44d9-8df8-3ae1d93f8133",
        "outputId": "715f7f19-56da-42cb-abbb-f3d39542b280"
      },
      "outputs": [
        {
          "data": {
            "text/plain": [
              "True"
            ]
          },
          "execution_count": 74,
          "metadata": {},
          "output_type": "execute_result"
        }
      ],
      "source": [
        "lst_a == lst_b"
      ]
    },
    {
      "cell_type": "code",
      "execution_count": null,
      "id": "7c34ecf8-4fcb-4fe1-ad9c-41f969c98f7a",
      "metadata": {
        "id": "7c34ecf8-4fcb-4fe1-ad9c-41f969c98f7a"
      },
      "outputs": [],
      "source": [
        "a=2\n",
        "b=2"
      ]
    },
    {
      "cell_type": "code",
      "execution_count": null,
      "id": "749daa12-507c-4e97-aa24-1dd8dbc096bb",
      "metadata": {
        "id": "749daa12-507c-4e97-aa24-1dd8dbc096bb",
        "outputId": "7e61084c-c71f-46f9-9a13-1a2a4ec570d5"
      },
      "outputs": [
        {
          "name": "stdout",
          "output_type": "stream",
          "text": [
            "140428412780816\n",
            "140428412780816\n"
          ]
        }
      ],
      "source": [
        "print(id(a))\n",
        "print(id(b))"
      ]
    },
    {
      "cell_type": "code",
      "execution_count": null,
      "id": "b1c0e861-44e0-4b87-91cd-065825474d3f",
      "metadata": {
        "id": "b1c0e861-44e0-4b87-91cd-065825474d3f",
        "outputId": "fdd4a87c-3f6b-48e6-8732-ca0f80a8a4a2"
      },
      "outputs": [
        {
          "name": "stdout",
          "output_type": "stream",
          "text": [
            "140428053242224\n",
            "140428053242224\n"
          ]
        }
      ],
      "source": [
        "str1=\"Krish\"\n",
        "str2=\"Krish\"\n",
        "print(id(str1))\n",
        "print(id(str2))"
      ]
    },
    {
      "cell_type": "code",
      "execution_count": null,
      "id": "d9967fa9-6c13-4b99-bb39-e0c0481447d4",
      "metadata": {
        "id": "d9967fa9-6c13-4b99-bb39-e0c0481447d4"
      },
      "outputs": [],
      "source": [
        "## immutable\n",
        "str1=\"Krish\"\n",
        "str2=\"Krish1\""
      ]
    },
    {
      "cell_type": "code",
      "execution_count": null,
      "id": "4310253e-a58e-44ca-81db-ccb428225e4c",
      "metadata": {
        "id": "4310253e-a58e-44ca-81db-ccb428225e4c",
        "outputId": "54786a8c-ca4d-48a4-dedc-cf7f6ef5057a"
      },
      "outputs": [
        {
          "name": "stdout",
          "output_type": "stream",
          "text": [
            "140428053242224\n",
            "140428053240112\n"
          ]
        }
      ],
      "source": [
        "print(id(str1))\n",
        "print(id(str2))"
      ]
    },
    {
      "cell_type": "code",
      "execution_count": null,
      "id": "22399a61-8f36-4eba-adeb-c7922badcc6d",
      "metadata": {
        "id": "22399a61-8f36-4eba-adeb-c7922badcc6d",
        "outputId": "ca7d8724-5a9b-4e27-a8e4-a7a04d26c037"
      },
      "outputs": [
        {
          "data": {
            "text/plain": [
              "[1, 2, 3, 4]"
            ]
          },
          "execution_count": 80,
          "metadata": {},
          "output_type": "execute_result"
        }
      ],
      "source": [
        "lst_a"
      ]
    },
    {
      "cell_type": "code",
      "execution_count": null,
      "id": "e9957786-7f2a-41ab-aef6-9805db9089c2",
      "metadata": {
        "id": "e9957786-7f2a-41ab-aef6-9805db9089c2"
      },
      "outputs": [],
      "source": [
        "lst_a[0]=10"
      ]
    },
    {
      "cell_type": "code",
      "execution_count": null,
      "id": "1268ddbb-7a3d-4c1b-9c30-0d994b8671c3",
      "metadata": {
        "id": "1268ddbb-7a3d-4c1b-9c30-0d994b8671c3",
        "outputId": "61539e5c-b578-4e72-97d8-c6feb164518e"
      },
      "outputs": [
        {
          "data": {
            "text/plain": [
              "[10, 2, 3, 4]"
            ]
          },
          "execution_count": 83,
          "metadata": {},
          "output_type": "execute_result"
        }
      ],
      "source": [
        "lst_a"
      ]
    },
    {
      "cell_type": "code",
      "execution_count": null,
      "id": "e4b3acd1-4acb-4d2d-b299-8b566ef08ac5",
      "metadata": {
        "id": "e4b3acd1-4acb-4d2d-b299-8b566ef08ac5",
        "outputId": "0bdcbc05-f0d9-47b1-f009-0b9e85d2146d"
      },
      "outputs": [
        {
          "data": {
            "text/plain": [
              "'Krish'"
            ]
          },
          "execution_count": 84,
          "metadata": {},
          "output_type": "execute_result"
        }
      ],
      "source": [
        "str1"
      ]
    },
    {
      "cell_type": "code",
      "execution_count": null,
      "id": "ddada856-1dcb-4407-a501-31849c022ce0",
      "metadata": {
        "id": "ddada856-1dcb-4407-a501-31849c022ce0",
        "outputId": "aa2cb623-0bee-4d6d-84ff-a6596ec0fc24"
      },
      "outputs": [
        {
          "ename": "TypeError",
          "evalue": "'str' object does not support item assignment",
          "output_type": "error",
          "traceback": [
            "\u001b[0;31m---------------------------------------------------------------------------\u001b[0m",
            "\u001b[0;31mTypeError\u001b[0m                                 Traceback (most recent call last)",
            "Cell \u001b[0;32mIn[86], line 1\u001b[0m\n\u001b[0;32m----> 1\u001b[0m \u001b[43mstr1\u001b[49m\u001b[43m[\u001b[49m\u001b[38;5;241;43m0\u001b[39;49m\u001b[43m]\u001b[49m\u001b[38;5;241m=\u001b[39m\u001b[38;5;124m'\u001b[39m\u001b[38;5;124mN\u001b[39m\u001b[38;5;124m'\u001b[39m\n",
            "\u001b[0;31mTypeError\u001b[0m: 'str' object does not support item assignment"
          ]
        }
      ],
      "source": [
        "str1[0]='N' ## immutable"
      ]
    },
    {
      "cell_type": "code",
      "execution_count": null,
      "id": "90dd6515-d32f-4f8b-a0b8-7573b53d5440",
      "metadata": {
        "id": "90dd6515-d32f-4f8b-a0b8-7573b53d5440"
      },
      "outputs": [],
      "source": [
        "## Comparison operation"
      ]
    },
    {
      "cell_type": "code",
      "execution_count": null,
      "id": "9b0eea3e-909f-4583-a04d-227bf5f5dad3",
      "metadata": {
        "id": "9b0eea3e-909f-4583-a04d-227bf5f5dad3"
      },
      "outputs": [],
      "source": []
    },
    {
      "cell_type": "code",
      "execution_count": null,
      "id": "a24c557a-e224-464a-8561-d30191c4aee6",
      "metadata": {
        "id": "a24c557a-e224-464a-8561-d30191c4aee6"
      },
      "outputs": [],
      "source": []
    },
    {
      "cell_type": "code",
      "execution_count": null,
      "id": "8f4ce995-096b-4797-bf7b-0f97559f3027",
      "metadata": {
        "id": "8f4ce995-096b-4797-bf7b-0f97559f3027"
      },
      "outputs": [],
      "source": []
    },
    {
      "cell_type": "code",
      "execution_count": null,
      "id": "f1bfcbc1-36c7-458d-9aac-fb2c83ea46c3",
      "metadata": {
        "id": "f1bfcbc1-36c7-458d-9aac-fb2c83ea46c3"
      },
      "outputs": [],
      "source": []
    },
    {
      "cell_type": "code",
      "execution_count": null,
      "id": "d7e3c51a-c99f-4b4d-bbf2-c135e25b7447",
      "metadata": {
        "id": "d7e3c51a-c99f-4b4d-bbf2-c135e25b7447"
      },
      "outputs": [],
      "source": []
    },
    {
      "cell_type": "markdown",
      "id": "9ff8a99c-38fb-484c-8e38-87ba3787c1ef",
      "metadata": {
        "id": "9ff8a99c-38fb-484c-8e38-87ba3787c1ef"
      },
      "source": [
        "|Operation|Meaning|\n",
        "|:-:|:-:|\n",
        "| **<** |less than|\n",
        "| **<=** |less than or equal to|\n",
        "| **>** |greater than|\n",
        "| **>=** |greater than or equal to|\n"
      ]
    },
    {
      "cell_type": "code",
      "execution_count": null,
      "id": "5d7d6339-b810-4553-9ea8-343c28ec4e6f",
      "metadata": {
        "id": "5d7d6339-b810-4553-9ea8-343c28ec4e6f",
        "outputId": "8ce26114-1dea-436b-9a13-d2d13fcf7131"
      },
      "outputs": [
        {
          "name": "stdout",
          "output_type": "stream",
          "text": [
            "bike is faster than car: False\n"
          ]
        }
      ],
      "source": [
        "maxium_speed_of_bike = 150\n",
        "max_speed_of_car = 200\n",
        "\n",
        "print(f\"bike is faster than car: {maxium_speed_of_bike >= max_speed_of_car}\")"
      ]
    },
    {
      "cell_type": "code",
      "execution_count": null,
      "id": "7a9222eb-2e57-4511-9e62-b7b07d316e78",
      "metadata": {
        "id": "7a9222eb-2e57-4511-9e62-b7b07d316e78",
        "outputId": "1b72cfe8-f66e-44f4-bc84-9f98678b0277"
      },
      "outputs": [
        {
          "name": "stdout",
          "output_type": "stream",
          "text": [
            "bike is faster than car: False\n"
          ]
        }
      ],
      "source": [
        "maxium_speed_of_bike = 200\n",
        "max_speed_of_car = 200\n",
        "\n",
        "print(f\"bike is faster than car: {maxium_speed_of_bike > max_speed_of_car}\")"
      ]
    },
    {
      "cell_type": "markdown",
      "id": "e340fd85-5946-46e6-8234-1b0caebc6c38",
      "metadata": {
        "id": "e340fd85-5946-46e6-8234-1b0caebc6c38"
      },
      "source": [
        "## Arithmethic Operations\n",
        "|Operation|Meaning|\n",
        "|:-:|:-:|\n",
        "| **+** |addition|\n",
        "| **-** |subtraction|\n",
        "| **\\*** |multiplication|\n",
        "| **/** |true division|\n",
        "| **//** |integer division|\n",
        "| **%** |the modulo operator|"
      ]
    },
    {
      "cell_type": "code",
      "execution_count": null,
      "id": "d16cd857-cb72-4bee-b830-a4f407e6ad85",
      "metadata": {
        "id": "d16cd857-cb72-4bee-b830-a4f407e6ad85"
      },
      "outputs": [],
      "source": [
        "a=25\n",
        "b=101"
      ]
    },
    {
      "cell_type": "code",
      "execution_count": null,
      "id": "7fbf03df-6cab-4130-a40a-5181cacc8962",
      "metadata": {
        "id": "7fbf03df-6cab-4130-a40a-5181cacc8962",
        "outputId": "3eb7f386-80af-45db-90a9-0470cccde834"
      },
      "outputs": [
        {
          "data": {
            "text/plain": [
              "2525"
            ]
          },
          "execution_count": 97,
          "metadata": {},
          "output_type": "execute_result"
        }
      ],
      "source": [
        "b*a"
      ]
    },
    {
      "cell_type": "code",
      "execution_count": null,
      "id": "0254f895-f20e-4004-8ea8-23ed0b4b426e",
      "metadata": {
        "id": "0254f895-f20e-4004-8ea8-23ed0b4b426e",
        "outputId": "101569ce-2d1a-4a6c-90ea-ae8940693171"
      },
      "outputs": [
        {
          "data": {
            "text/plain": [
              "126"
            ]
          },
          "execution_count": 98,
          "metadata": {},
          "output_type": "execute_result"
        }
      ],
      "source": [
        "b+a"
      ]
    },
    {
      "cell_type": "code",
      "execution_count": null,
      "id": "e7f35b01-2227-4abe-b39d-7b2b5daab2b8",
      "metadata": {
        "id": "e7f35b01-2227-4abe-b39d-7b2b5daab2b8",
        "outputId": "981f31dc-7b29-41eb-e28e-c760cdda3e7a"
      },
      "outputs": [
        {
          "data": {
            "text/plain": [
              "0.24752475247524752"
            ]
          },
          "execution_count": 100,
          "metadata": {},
          "output_type": "execute_result"
        }
      ],
      "source": [
        "a/b"
      ]
    },
    {
      "cell_type": "code",
      "execution_count": null,
      "id": "2b85f879-44fa-4876-8e4d-877924e1c98f",
      "metadata": {
        "id": "2b85f879-44fa-4876-8e4d-877924e1c98f",
        "outputId": "98b2af4a-cfe2-4ac0-b3ea-2ea8e6560b27"
      },
      "outputs": [
        {
          "data": {
            "text/plain": [
              "0"
            ]
          },
          "execution_count": 101,
          "metadata": {},
          "output_type": "execute_result"
        }
      ],
      "source": [
        "a//b"
      ]
    },
    {
      "cell_type": "code",
      "execution_count": null,
      "id": "2b2a1e74-ec45-42c8-bc25-59d9a21b26fd",
      "metadata": {
        "id": "2b2a1e74-ec45-42c8-bc25-59d9a21b26fd",
        "outputId": "217d0ca6-1368-460d-bd52-b35af1d48a48"
      },
      "outputs": [
        {
          "data": {
            "text/plain": [
              "4"
            ]
          },
          "execution_count": 102,
          "metadata": {},
          "output_type": "execute_result"
        }
      ],
      "source": [
        "b//a"
      ]
    },
    {
      "cell_type": "code",
      "execution_count": null,
      "id": "9ddd6be3-7859-43f0-be58-3762b90d5310",
      "metadata": {
        "id": "9ddd6be3-7859-43f0-be58-3762b90d5310",
        "outputId": "7075d455-811a-4925-b1d0-4653759de2a9"
      },
      "outputs": [
        {
          "data": {
            "text/plain": [
              "4.04"
            ]
          },
          "execution_count": 103,
          "metadata": {},
          "output_type": "execute_result"
        }
      ],
      "source": [
        "b/a"
      ]
    },
    {
      "cell_type": "code",
      "execution_count": null,
      "id": "3f84b5c1-f824-4880-89bd-22645cbbf5ba",
      "metadata": {
        "id": "3f84b5c1-f824-4880-89bd-22645cbbf5ba",
        "outputId": "32f40150-4d1a-4716-a2f8-e38b701b68c9"
      },
      "outputs": [
        {
          "data": {
            "text/plain": [
              "1"
            ]
          },
          "execution_count": 104,
          "metadata": {},
          "output_type": "execute_result"
        }
      ],
      "source": [
        "b%a"
      ]
    },
    {
      "cell_type": "code",
      "execution_count": null,
      "id": "cd99a92b-fc8c-4e81-bb4e-5df45764efee",
      "metadata": {
        "id": "cd99a92b-fc8c-4e81-bb4e-5df45764efee",
        "outputId": "71c91c7e-4fb7-4bc4-809b-1dbde59e31ba"
      },
      "outputs": [
        {
          "data": {
            "text/plain": [
              "25"
            ]
          },
          "execution_count": 106,
          "metadata": {},
          "output_type": "execute_result"
        }
      ],
      "source": [
        "## Display the remainder\n",
        "a%b"
      ]
    },
    {
      "cell_type": "markdown",
      "id": "7322c956-0b1c-4a1b-84b4-294752bcf3da",
      "metadata": {
        "id": "7322c956-0b1c-4a1b-84b4-294752bcf3da"
      },
      "source": [
        "### Bitwise Operators\n",
        "|Operation|Meaning|\n",
        "|:-:|:-:|\n",
        "| **∼** |bitwise complement (prefix unary operator)|\n",
        "| **&** |bitwise and|\n",
        "| **\\|** |bitwise or|\n",
        "| **^** |bitwise exclusive-or|\n",
        "| **<<** |shift bits left, filling in with zeros|\n",
        "| **>>** |shift bits right, filling in with sign bit|\n"
      ]
    },
    {
      "cell_type": "code",
      "execution_count": null,
      "id": "5d4f6dc3-9fe6-4d49-8af4-0f4d7c3bfb48",
      "metadata": {
        "id": "5d4f6dc3-9fe6-4d49-8af4-0f4d7c3bfb48",
        "outputId": "ee834934-646d-4691-e816-a6cf832376e5"
      },
      "outputs": [
        {
          "data": {
            "text/plain": [
              "'0b1010'"
            ]
          },
          "execution_count": 107,
          "metadata": {},
          "output_type": "execute_result"
        }
      ],
      "source": [
        "var=10\n",
        "bin(var)"
      ]
    },
    {
      "cell_type": "code",
      "execution_count": null,
      "id": "26b23b56-aa8f-42dc-b78c-91cd9c21eab9",
      "metadata": {
        "id": "26b23b56-aa8f-42dc-b78c-91cd9c21eab9",
        "outputId": "bb00fd3e-1e2d-49d0-afbe-a84e2fa815e1"
      },
      "outputs": [
        {
          "data": {
            "text/plain": [
              "-11"
            ]
          },
          "execution_count": 108,
          "metadata": {},
          "output_type": "execute_result"
        }
      ],
      "source": [
        "~var"
      ]
    },
    {
      "cell_type": "code",
      "execution_count": null,
      "id": "9507d38a-c76e-4405-8f12-4fb630acfb3a",
      "metadata": {
        "id": "9507d38a-c76e-4405-8f12-4fb630acfb3a",
        "outputId": "994f4551-469f-421e-ae15-7de8f5ae7242"
      },
      "outputs": [
        {
          "data": {
            "text/plain": [
              "True"
            ]
          },
          "execution_count": 110,
          "metadata": {},
          "output_type": "execute_result"
        }
      ],
      "source": [
        "True | False"
      ]
    },
    {
      "cell_type": "code",
      "execution_count": null,
      "id": "b89ed9f2-32f2-4643-9767-b0476fcb6a82",
      "metadata": {
        "id": "b89ed9f2-32f2-4643-9767-b0476fcb6a82",
        "outputId": "c25fc873-2198-4177-98a1-c0176cb66f7c"
      },
      "outputs": [
        {
          "data": {
            "text/plain": [
              "False"
            ]
          },
          "execution_count": 111,
          "metadata": {},
          "output_type": "execute_result"
        }
      ],
      "source": [
        "False & False"
      ]
    },
    {
      "cell_type": "code",
      "execution_count": null,
      "id": "fe46da9b-dc99-4acd-afe5-30f1bfbaf27e",
      "metadata": {
        "id": "fe46da9b-dc99-4acd-afe5-30f1bfbaf27e",
        "outputId": "1185154e-c031-4744-c20e-0dd70cd57596"
      },
      "outputs": [
        {
          "data": {
            "text/plain": [
              "5"
            ]
          },
          "execution_count": 113,
          "metadata": {},
          "output_type": "execute_result"
        }
      ],
      "source": [
        "var >>1"
      ]
    },
    {
      "cell_type": "code",
      "execution_count": null,
      "id": "0311e341-b687-4630-8b9a-5688d14ea56d",
      "metadata": {
        "id": "0311e341-b687-4630-8b9a-5688d14ea56d",
        "outputId": "b4509e64-e5e3-4449-dc87-270821b51301"
      },
      "outputs": [
        {
          "data": {
            "text/plain": [
              "20"
            ]
          },
          "execution_count": 114,
          "metadata": {},
          "output_type": "execute_result"
        }
      ],
      "source": [
        "var << 1"
      ]
    },
    {
      "cell_type": "markdown",
      "id": "8fa1eccd-564c-42d1-a514-ca74c0d8b072",
      "metadata": {
        "id": "8fa1eccd-564c-42d1-a514-ca74c0d8b072"
      },
      "source": [
        "## Strings"
      ]
    },
    {
      "cell_type": "code",
      "execution_count": null,
      "id": "1e322ef0-fbbd-436a-916e-aaad16fd3585",
      "metadata": {
        "id": "1e322ef0-fbbd-436a-916e-aaad16fd3585",
        "outputId": "7b79be4f-1749-4aed-f16c-16a66be9ab4a"
      },
      "outputs": [
        {
          "data": {
            "text/plain": [
              "'Welcome to the Data Science masters'"
            ]
          },
          "execution_count": 116,
          "metadata": {},
          "output_type": "execute_result"
        }
      ],
      "source": [
        "\n",
        "\"Welcome to the Data Science masters\""
      ]
    },
    {
      "cell_type": "code",
      "execution_count": null,
      "id": "06892483-dacb-4ff7-80d3-a37d3d1d2336",
      "metadata": {
        "id": "06892483-dacb-4ff7-80d3-a37d3d1d2336"
      },
      "outputs": [],
      "source": [
        "str1=\"Welcome to Data Science Masters\""
      ]
    },
    {
      "cell_type": "code",
      "execution_count": null,
      "id": "5c86d5ab-9446-4297-ad0c-c6d0825467da",
      "metadata": {
        "id": "5c86d5ab-9446-4297-ad0c-c6d0825467da",
        "outputId": "d7f72303-973f-409d-afde-1a92710a77a7"
      },
      "outputs": [
        {
          "data": {
            "text/plain": [
              "str"
            ]
          },
          "execution_count": 119,
          "metadata": {},
          "output_type": "execute_result"
        }
      ],
      "source": [
        "type(str1)"
      ]
    },
    {
      "cell_type": "code",
      "execution_count": null,
      "id": "35262123-5ae9-4a3b-ae30-dc41cc6e3f0e",
      "metadata": {
        "id": "35262123-5ae9-4a3b-ae30-dc41cc6e3f0e",
        "outputId": "a7184602-dae3-4073-eb84-7ac6fa82124d"
      },
      "outputs": [
        {
          "ename": "TypeError",
          "evalue": "'str' object does not support item assignment",
          "output_type": "error",
          "traceback": [
            "\u001b[0;31m---------------------------------------------------------------------------\u001b[0m",
            "\u001b[0;31mTypeError\u001b[0m                                 Traceback (most recent call last)",
            "Cell \u001b[0;32mIn[121], line 1\u001b[0m\n\u001b[0;32m----> 1\u001b[0m \u001b[43mstr1\u001b[49m\u001b[43m[\u001b[49m\u001b[38;5;241;43m0\u001b[39;49m\u001b[43m]\u001b[49m\u001b[38;5;241m=\u001b[39m\u001b[38;5;241m12\u001b[39m\n",
            "\u001b[0;31mTypeError\u001b[0m: 'str' object does not support item assignment"
          ]
        }
      ],
      "source": [
        "## immutable\n",
        "str1[0]=12"
      ]
    },
    {
      "cell_type": "code",
      "execution_count": null,
      "id": "e1795feb-0392-451f-b4d5-f1d16ae91131",
      "metadata": {
        "id": "e1795feb-0392-451f-b4d5-f1d16ae91131"
      },
      "outputs": [],
      "source": [
        "str1=\"Krish Naik\""
      ]
    },
    {
      "cell_type": "code",
      "execution_count": null,
      "id": "8b278a46-d548-41bf-9350-9dc4d5edc73e",
      "metadata": {
        "id": "8b278a46-d548-41bf-9350-9dc4d5edc73e",
        "outputId": "4443aae0-a23d-4ecc-9d98-effc732a47ae"
      },
      "outputs": [
        {
          "data": {
            "text/plain": [
              "'Krish Naik'"
            ]
          },
          "execution_count": 123,
          "metadata": {},
          "output_type": "execute_result"
        }
      ],
      "source": [
        "str1"
      ]
    },
    {
      "cell_type": "code",
      "execution_count": null,
      "id": "054227a4-6424-4545-9795-1ca1d11cfbb1",
      "metadata": {
        "id": "054227a4-6424-4545-9795-1ca1d11cfbb1"
      },
      "outputs": [],
      "source": [
        "welcome=\"Hello World\""
      ]
    },
    {
      "cell_type": "code",
      "execution_count": null,
      "id": "17e54429-1fb7-4efc-8f06-68aafbf09324",
      "metadata": {
        "id": "17e54429-1fb7-4efc-8f06-68aafbf09324",
        "outputId": "72014fdb-6098-436d-fdf7-9632d264b61f"
      },
      "outputs": [
        {
          "data": {
            "text/plain": [
              "['__add__',\n",
              " '__class__',\n",
              " '__contains__',\n",
              " '__delattr__',\n",
              " '__dir__',\n",
              " '__doc__',\n",
              " '__eq__',\n",
              " '__format__',\n",
              " '__ge__',\n",
              " '__getattribute__',\n",
              " '__getitem__',\n",
              " '__getnewargs__',\n",
              " '__gt__',\n",
              " '__hash__',\n",
              " '__init__',\n",
              " '__init_subclass__',\n",
              " '__iter__',\n",
              " '__le__',\n",
              " '__len__',\n",
              " '__lt__',\n",
              " '__mod__',\n",
              " '__mul__',\n",
              " '__ne__',\n",
              " '__new__',\n",
              " '__reduce__',\n",
              " '__reduce_ex__',\n",
              " '__repr__',\n",
              " '__rmod__',\n",
              " '__rmul__',\n",
              " '__setattr__',\n",
              " '__sizeof__',\n",
              " '__str__',\n",
              " '__subclasshook__',\n",
              " 'capitalize',\n",
              " 'casefold',\n",
              " 'center',\n",
              " 'count',\n",
              " 'encode',\n",
              " 'endswith',\n",
              " 'expandtabs',\n",
              " 'find',\n",
              " 'format',\n",
              " 'format_map',\n",
              " 'index',\n",
              " 'isalnum',\n",
              " 'isalpha',\n",
              " 'isascii',\n",
              " 'isdecimal',\n",
              " 'isdigit',\n",
              " 'isidentifier',\n",
              " 'islower',\n",
              " 'isnumeric',\n",
              " 'isprintable',\n",
              " 'isspace',\n",
              " 'istitle',\n",
              " 'isupper',\n",
              " 'join',\n",
              " 'ljust',\n",
              " 'lower',\n",
              " 'lstrip',\n",
              " 'maketrans',\n",
              " 'partition',\n",
              " 'removeprefix',\n",
              " 'removesuffix',\n",
              " 'replace',\n",
              " 'rfind',\n",
              " 'rindex',\n",
              " 'rjust',\n",
              " 'rpartition',\n",
              " 'rsplit',\n",
              " 'rstrip',\n",
              " 'split',\n",
              " 'splitlines',\n",
              " 'startswith',\n",
              " 'strip',\n",
              " 'swapcase',\n",
              " 'title',\n",
              " 'translate',\n",
              " 'upper',\n",
              " 'zfill']"
            ]
          },
          "execution_count": 127,
          "metadata": {},
          "output_type": "execute_result"
        }
      ],
      "source": [
        "dir(welcome)"
      ]
    },
    {
      "cell_type": "code",
      "execution_count": null,
      "id": "c68902e1-dd9b-4b27-92de-dffc41f609d9",
      "metadata": {
        "id": "c68902e1-dd9b-4b27-92de-dffc41f609d9"
      },
      "outputs": [],
      "source": [
        "string =\"Pw Skills Data Science\""
      ]
    },
    {
      "cell_type": "code",
      "execution_count": null,
      "id": "18719f50-a61e-4676-be36-3cf11b31b5d5",
      "metadata": {
        "id": "18719f50-a61e-4676-be36-3cf11b31b5d5",
        "outputId": "f8017b0b-9601-4e7a-a3a3-8abefecb57a0"
      },
      "outputs": [
        {
          "data": {
            "text/plain": [
              "'i'"
            ]
          },
          "execution_count": 131,
          "metadata": {},
          "output_type": "execute_result"
        }
      ],
      "source": [
        "string[5]"
      ]
    },
    {
      "cell_type": "code",
      "execution_count": null,
      "id": "73d391bf-b0d8-4c71-a8bb-b97f941e93df",
      "metadata": {
        "id": "73d391bf-b0d8-4c71-a8bb-b97f941e93df",
        "outputId": "cc63465e-cdae-4002-e883-51a8f91bb1e6"
      },
      "outputs": [
        {
          "data": {
            "text/plain": [
              "'ills D'"
            ]
          },
          "execution_count": 133,
          "metadata": {},
          "output_type": "execute_result"
        }
      ],
      "source": [
        "## slice operation\n",
        "string[5:11]"
      ]
    },
    {
      "cell_type": "code",
      "execution_count": null,
      "id": "3de57a01-2bef-47da-895b-44bd05b62686",
      "metadata": {
        "id": "3de57a01-2bef-47da-895b-44bd05b62686",
        "outputId": "707a1f46-11b3-447d-ecf2-962af2fe0eee"
      },
      "outputs": [
        {
          "data": {
            "text/plain": [
              "'e'"
            ]
          },
          "execution_count": 134,
          "metadata": {},
          "output_type": "execute_result"
        }
      ],
      "source": [
        "string[-1]"
      ]
    },
    {
      "cell_type": "code",
      "execution_count": null,
      "id": "55fab397-3f30-42bc-b364-f4104e96fa1e",
      "metadata": {
        "id": "55fab397-3f30-42bc-b364-f4104e96fa1e",
        "outputId": "cda7d462-5925-4739-81d6-d374cebe25f0"
      },
      "outputs": [
        {
          "data": {
            "text/plain": [
              "'nce'"
            ]
          },
          "execution_count": 136,
          "metadata": {},
          "output_type": "execute_result"
        }
      ],
      "source": [
        "string[-3:]"
      ]
    },
    {
      "cell_type": "code",
      "execution_count": null,
      "id": "caeb9b04-0e81-46c2-a375-b4d718078fe9",
      "metadata": {
        "id": "caeb9b04-0e81-46c2-a375-b4d718078fe9",
        "outputId": "a4f1e5f1-6ba1-4da3-c738-f101c18b449c"
      },
      "outputs": [
        {
          "data": {
            "text/plain": [
              "'Scie'"
            ]
          },
          "execution_count": 138,
          "metadata": {},
          "output_type": "execute_result"
        }
      ],
      "source": [
        "string[-7:-3]"
      ]
    },
    {
      "cell_type": "code",
      "execution_count": null,
      "id": "845e1900-978d-4687-a358-db61add510a0",
      "metadata": {
        "id": "845e1900-978d-4687-a358-db61add510a0",
        "outputId": "2fa7510d-13a0-4c35-c501-254e88576427"
      },
      "outputs": [
        {
          "data": {
            "text/plain": [
              "'Pw Skills Data Science'"
            ]
          },
          "execution_count": 242,
          "metadata": {},
          "output_type": "execute_result"
        }
      ],
      "source": [
        "string"
      ]
    },
    {
      "cell_type": "code",
      "execution_count": null,
      "id": "37d10dbe-788e-477b-b765-56337e9073db",
      "metadata": {
        "id": "37d10dbe-788e-477b-b765-56337e9073db",
        "outputId": "46389425-4f32-4fd3-fddb-f7eb3a8c6009"
      },
      "outputs": [
        {
          "data": {
            "text/plain": [
              "'S'"
            ]
          },
          "execution_count": 251,
          "metadata": {},
          "output_type": "execute_result"
        }
      ],
      "source": [
        "string[-7:5]"
      ]
    },
    {
      "cell_type": "code",
      "execution_count": null,
      "id": "5844b3ab-ead6-43df-98f9-59d2054ce40a",
      "metadata": {
        "id": "5844b3ab-ead6-43df-98f9-59d2054ce40a",
        "outputId": "2400f48f-3dcc-4782-e694-af700f38424c"
      },
      "outputs": [
        {
          "data": {
            "text/plain": [
              "''"
            ]
          },
          "execution_count": 140,
          "metadata": {},
          "output_type": "execute_result"
        }
      ],
      "source": [
        "string[7:5]"
      ]
    },
    {
      "cell_type": "code",
      "execution_count": null,
      "id": "154674b7-8761-4eeb-8d77-5597c676d18a",
      "metadata": {
        "id": "154674b7-8761-4eeb-8d77-5597c676d18a",
        "outputId": "e9cd2cbf-9303-47b1-8010-08895eb43117"
      },
      "outputs": [
        {
          "data": {
            "text/plain": [
              "''"
            ]
          },
          "execution_count": 141,
          "metadata": {},
          "output_type": "execute_result"
        }
      ],
      "source": [
        "string[-10:10]"
      ]
    },
    {
      "cell_type": "code",
      "execution_count": null,
      "id": "58c8e9b8-6362-4065-b34e-c5cde623078c",
      "metadata": {
        "id": "58c8e9b8-6362-4065-b34e-c5cde623078c",
        "outputId": "564ccee4-d0b3-4532-f3ef-9d394c025c48"
      },
      "outputs": [
        {
          "data": {
            "text/plain": [
              "'Pw Skills Data Scienc'"
            ]
          },
          "execution_count": 142,
          "metadata": {},
          "output_type": "execute_result"
        }
      ],
      "source": [
        "string[:-1]"
      ]
    },
    {
      "cell_type": "code",
      "execution_count": null,
      "id": "dd7134fc-2c5b-4f3e-a658-f4cd8ad2e237",
      "metadata": {
        "id": "dd7134fc-2c5b-4f3e-a658-f4cd8ad2e237",
        "outputId": "6bd80190-4607-4867-ba33-96f0e870851d"
      },
      "outputs": [
        {
          "data": {
            "text/plain": [
              "'Pw Skills Data Science'"
            ]
          },
          "execution_count": 143,
          "metadata": {},
          "output_type": "execute_result"
        }
      ],
      "source": [
        "string[:]"
      ]
    },
    {
      "cell_type": "code",
      "execution_count": null,
      "id": "3a835235-300c-409e-b716-d59454d57ef8",
      "metadata": {
        "id": "3a835235-300c-409e-b716-d59454d57ef8",
        "outputId": "1d810550-6cc4-4fc9-9eea-c001de2f106c"
      },
      "outputs": [
        {
          "data": {
            "text/plain": [
              "'Data Science Masters'"
            ]
          },
          "execution_count": 241,
          "metadata": {},
          "output_type": "execute_result"
        }
      ],
      "source": [
        "course_name"
      ]
    },
    {
      "cell_type": "code",
      "execution_count": null,
      "id": "084987c8-42ce-4cff-a46f-b0fd333b676a",
      "metadata": {
        "id": "084987c8-42ce-4cff-a46f-b0fd333b676a",
        "outputId": "73bfcb34-7832-428e-92e0-f9fd2201f53a"
      },
      "outputs": [
        {
          "data": {
            "text/plain": [
              "'rt'"
            ]
          },
          "execution_count": 240,
          "metadata": {},
          "output_type": "execute_result"
        }
      ],
      "source": [
        "name=\"Karthik\"\n",
        "name[-5:4]\n"
      ]
    },
    {
      "cell_type": "code",
      "execution_count": null,
      "id": "43d42014-4f65-496e-8e51-f411d6d3f259",
      "metadata": {
        "id": "43d42014-4f65-496e-8e51-f411d6d3f259",
        "outputId": "2377f576-c6a0-4644-cf6b-1b3970579044"
      },
      "outputs": [
        {
          "data": {
            "text/plain": [
              "'Pw Skills Data Science'"
            ]
          },
          "execution_count": 145,
          "metadata": {},
          "output_type": "execute_result"
        }
      ],
      "source": [
        "string"
      ]
    },
    {
      "cell_type": "code",
      "execution_count": null,
      "id": "f017f22e-8304-404d-84ad-a828733ecd27",
      "metadata": {
        "id": "f017f22e-8304-404d-84ad-a828733ecd27",
        "outputId": "30957bef-26b3-44b5-f1b7-0e66d8745ee5"
      },
      "outputs": [
        {
          "data": {
            "text/plain": [
              "'ecneicS ataD sllikS wP'"
            ]
          },
          "execution_count": 148,
          "metadata": {},
          "output_type": "execute_result"
        }
      ],
      "source": [
        "string[::-1]"
      ]
    },
    {
      "cell_type": "code",
      "execution_count": null,
      "id": "cc8b5cf5-0e7a-4c49-8263-4d4c170fe47f",
      "metadata": {
        "id": "cc8b5cf5-0e7a-4c49-8263-4d4c170fe47f",
        "outputId": "55545c11-ed65-4012-9334-8263615a1f25"
      },
      "outputs": [
        {
          "data": {
            "text/plain": [
              "'eniSaa liSw'"
            ]
          },
          "execution_count": 149,
          "metadata": {},
          "output_type": "execute_result"
        }
      ],
      "source": [
        "string[::-2]"
      ]
    },
    {
      "cell_type": "code",
      "execution_count": null,
      "id": "3a4e4b57-8754-4af7-8011-1f11fb8019cb",
      "metadata": {
        "id": "3a4e4b57-8754-4af7-8011-1f11fb8019cb",
        "outputId": "e92486b7-31e9-4680-e24c-2c12a4edf8e1"
      },
      "outputs": [
        {
          "data": {
            "text/plain": [
              "'ecneicS ataD sllikS wP'"
            ]
          },
          "execution_count": 156,
          "metadata": {},
          "output_type": "execute_result"
        }
      ],
      "source": [
        "string[::-1]"
      ]
    },
    {
      "cell_type": "code",
      "execution_count": null,
      "id": "48d12583-b301-4a81-b0ee-c20d078a3257",
      "metadata": {
        "id": "48d12583-b301-4a81-b0ee-c20d078a3257",
        "outputId": "37c2689b-651a-44eb-8d66-88e9cbdf098a"
      },
      "outputs": [
        {
          "data": {
            "text/plain": [
              "'eeSt lSP'"
            ]
          },
          "execution_count": 157,
          "metadata": {},
          "output_type": "execute_result"
        }
      ],
      "source": [
        "string[::-3]"
      ]
    },
    {
      "cell_type": "code",
      "execution_count": null,
      "id": "6e5cfb4a-893a-4dd3-9ab9-05355780b24e",
      "metadata": {
        "id": "6e5cfb4a-893a-4dd3-9ab9-05355780b24e",
        "outputId": "0d9d9879-580c-4ecf-adf0-3b6bcfb1af89"
      },
      "outputs": [
        {
          "data": {
            "text/plain": [
              "'PiDSc'"
            ]
          },
          "execution_count": 160,
          "metadata": {},
          "output_type": "execute_result"
        }
      ],
      "source": [
        "string[::5]"
      ]
    },
    {
      "cell_type": "code",
      "execution_count": null,
      "id": "e6e600da-fb4a-479a-828d-ec5ac8efe7ba",
      "metadata": {
        "id": "e6e600da-fb4a-479a-828d-ec5ac8efe7ba"
      },
      "outputs": [],
      "source": [
        "name=\"Krish\""
      ]
    },
    {
      "cell_type": "code",
      "execution_count": null,
      "id": "7a74fce5-6c8e-464b-9827-815ea65c00d5",
      "metadata": {
        "id": "7a74fce5-6c8e-464b-9827-815ea65c00d5",
        "outputId": "9fd996e8-ddcf-4a00-9fe8-1ee4e0b9a0e8"
      },
      "outputs": [
        {
          "data": {
            "text/plain": [
              "'hiK'"
            ]
          },
          "execution_count": 170,
          "metadata": {},
          "output_type": "execute_result"
        }
      ],
      "source": [
        "name[::-2]"
      ]
    },
    {
      "cell_type": "code",
      "execution_count": null,
      "id": "622ac4af-48ff-40b7-9df4-ee18e5900ed3",
      "metadata": {
        "id": "622ac4af-48ff-40b7-9df4-ee18e5900ed3",
        "outputId": "047ce253-ab9e-4e13-da8c-5c1e7323b326"
      },
      "outputs": [
        {
          "data": {
            "text/plain": [
              "'si'"
            ]
          },
          "execution_count": 174,
          "metadata": {},
          "output_type": "execute_result"
        }
      ],
      "source": [
        "name[3:1:-1]"
      ]
    },
    {
      "cell_type": "code",
      "execution_count": null,
      "id": "f0ccb883-0770-40f1-b1e4-58cedd2da622",
      "metadata": {
        "id": "f0ccb883-0770-40f1-b1e4-58cedd2da622"
      },
      "outputs": [],
      "source": [
        "course_name=\"Data Science Masters\""
      ]
    },
    {
      "cell_type": "code",
      "execution_count": null,
      "id": "111944a3-b563-42df-bda9-a2da78164428",
      "metadata": {
        "id": "111944a3-b563-42df-bda9-a2da78164428"
      },
      "outputs": [],
      "source": [
        "name=\"Karthik\""
      ]
    },
    {
      "cell_type": "code",
      "execution_count": null,
      "id": "855f1fa4-b360-4991-965d-21033d2634c2",
      "metadata": {
        "id": "855f1fa4-b360-4991-965d-21033d2634c2",
        "outputId": "119dfa40-a6be-4bde-ee42-da5fc7fbe315"
      },
      "outputs": [
        {
          "data": {
            "text/plain": [
              "'kihtraK'"
            ]
          },
          "execution_count": 239,
          "metadata": {},
          "output_type": "execute_result"
        }
      ],
      "source": [
        "name[::-1]"
      ]
    },
    {
      "cell_type": "code",
      "execution_count": null,
      "id": "1071790a-e65e-446d-82b6-a555831b2fd7",
      "metadata": {
        "id": "1071790a-e65e-446d-82b6-a555831b2fd7",
        "outputId": "c0a0dc24-5fac-48a3-a481-5d1316af0e31"
      },
      "outputs": [
        {
          "data": {
            "text/plain": [
              "' ecneicS'"
            ]
          },
          "execution_count": 233,
          "metadata": {},
          "output_type": "execute_result"
        }
      ],
      "source": [
        "course_name[12:4:-1]"
      ]
    },
    {
      "cell_type": "code",
      "execution_count": null,
      "id": "30e81a85-f7ee-44cc-9ab4-8fc37bef8600",
      "metadata": {
        "id": "30e81a85-f7ee-44cc-9ab4-8fc37bef8600",
        "outputId": "9f8b255f-bd88-4278-e3df-9070d981258b"
      },
      "outputs": [
        {
          "data": {
            "text/plain": [
              "'Science'"
            ]
          },
          "execution_count": 179,
          "metadata": {},
          "output_type": "execute_result"
        }
      ],
      "source": [
        "course_name[5:12]"
      ]
    },
    {
      "cell_type": "code",
      "execution_count": null,
      "id": "459f5320-d777-4669-a64e-452429908a28",
      "metadata": {
        "id": "459f5320-d777-4669-a64e-452429908a28",
        "outputId": "1cf197b2-46c2-47a7-cca3-2f389e721495"
      },
      "outputs": [
        {
          "data": {
            "text/plain": [
              "'Data Science Masters'"
            ]
          },
          "execution_count": 188,
          "metadata": {},
          "output_type": "execute_result"
        }
      ],
      "source": [
        "course_name"
      ]
    },
    {
      "cell_type": "code",
      "execution_count": null,
      "id": "e0e74ef5-e223-4263-ba98-0ff60db18f67",
      "metadata": {
        "id": "e0e74ef5-e223-4263-ba98-0ff60db18f67",
        "outputId": "63ab060c-c35a-46c4-f2dd-19d670801b91"
      },
      "outputs": [
        {
          "data": {
            "text/plain": [
              "'ecneicS'"
            ]
          },
          "execution_count": 184,
          "metadata": {},
          "output_type": "execute_result"
        }
      ],
      "source": [
        "course_name[11:4:-1]"
      ]
    },
    {
      "cell_type": "code",
      "execution_count": null,
      "id": "3d5ccf57-dcd2-49eb-9034-e3bb5d1d2bc0",
      "metadata": {
        "id": "3d5ccf57-dcd2-49eb-9034-e3bb5d1d2bc0",
        "outputId": "9c1f8800-c23f-404d-c98b-cb9fbabc3a64"
      },
      "outputs": [
        {
          "data": {
            "text/plain": [
              "' ecneicS'"
            ]
          },
          "execution_count": 185,
          "metadata": {},
          "output_type": "execute_result"
        }
      ],
      "source": [
        "course_name[12:4:-1]"
      ]
    },
    {
      "cell_type": "code",
      "execution_count": null,
      "id": "a18818d3-9bd8-4f53-b42d-8cd20e4ae75d",
      "metadata": {
        "id": "a18818d3-9bd8-4f53-b42d-8cd20e4ae75d",
        "outputId": "c0565427-2299-4c25-cb44-96714932ebd1"
      },
      "outputs": [
        {
          "data": {
            "text/plain": [
              "' ecneic'"
            ]
          },
          "execution_count": 187,
          "metadata": {},
          "output_type": "execute_result"
        }
      ],
      "source": [
        "course_name[12:5:-1]"
      ]
    },
    {
      "cell_type": "code",
      "execution_count": null,
      "id": "bc58ca47-02da-47d0-926a-6ca62aaf8b10",
      "metadata": {
        "id": "bc58ca47-02da-47d0-926a-6ca62aaf8b10",
        "outputId": "0e63a414-aa7f-44ee-ad68-a18fda9ac56c"
      },
      "outputs": [
        {
          "data": {
            "text/plain": [
              "'Data Science MastersCourse'"
            ]
          },
          "execution_count": 194,
          "metadata": {},
          "output_type": "execute_result"
        }
      ],
      "source": [
        "## concatentaion\n",
        "course_name + \"Course\""
      ]
    },
    {
      "cell_type": "code",
      "execution_count": null,
      "id": "0b3dd5fc-1fe3-416c-89ef-ab35f09a8981",
      "metadata": {
        "id": "0b3dd5fc-1fe3-416c-89ef-ab35f09a8981",
        "outputId": "89dc3ad7-ad41-43d8-f511-1cf86aed1545"
      },
      "outputs": [
        {
          "data": {
            "text/plain": [
              "' Science'"
            ]
          },
          "execution_count": 192,
          "metadata": {},
          "output_type": "execute_result"
        }
      ],
      "source": [
        "course_name[4:12:1]"
      ]
    },
    {
      "cell_type": "code",
      "execution_count": null,
      "id": "c0293d8e-9f11-4aa7-a708-af0276285752",
      "metadata": {
        "id": "c0293d8e-9f11-4aa7-a708-af0276285752",
        "outputId": "e9d38fa4-c703-47a9-822d-c309f80629b5"
      },
      "outputs": [
        {
          "name": "stdout",
          "output_type": "stream",
          "text": [
            "HelloWorlds\n"
          ]
        }
      ],
      "source": [
        "print(\"Hello\" + \"Worlds\")"
      ]
    },
    {
      "cell_type": "code",
      "execution_count": null,
      "id": "5aa2fe35-07fb-4cb8-8874-9058ac4e1172",
      "metadata": {
        "id": "5aa2fe35-07fb-4cb8-8874-9058ac4e1172",
        "outputId": "fd0c9411-e186-4162-c4f9-918240a09498"
      },
      "outputs": [
        {
          "data": {
            "text/plain": [
              "'Data Science MastersData Science MastersData Science MastersData Science MastersData Science Masters'"
            ]
          },
          "execution_count": 197,
          "metadata": {},
          "output_type": "execute_result"
        }
      ],
      "source": [
        "course_name *5"
      ]
    },
    {
      "cell_type": "code",
      "execution_count": null,
      "id": "d6499265-aba8-49bc-b644-b6f1188717ed",
      "metadata": {
        "id": "d6499265-aba8-49bc-b644-b6f1188717ed",
        "outputId": "55f0ee68-7ae1-4c3a-a4b0-342b157b71ea"
      },
      "outputs": [
        {
          "data": {
            "text/plain": [
              "20"
            ]
          },
          "execution_count": 198,
          "metadata": {},
          "output_type": "execute_result"
        }
      ],
      "source": [
        "len(course_name)"
      ]
    },
    {
      "cell_type": "code",
      "execution_count": null,
      "id": "c2fcf69e-5d14-4679-b4aa-64ae2b42166f",
      "metadata": {
        "id": "c2fcf69e-5d14-4679-b4aa-64ae2b42166f",
        "outputId": "5865f156-f305-45cf-97fc-7c4694482760"
      },
      "outputs": [
        {
          "data": {
            "text/plain": [
              "9"
            ]
          },
          "execution_count": 199,
          "metadata": {},
          "output_type": "execute_result"
        }
      ],
      "source": [
        "## find function\n",
        "course_name.find(\"n\")"
      ]
    },
    {
      "cell_type": "code",
      "execution_count": null,
      "id": "62b9d8ab-dde3-48e9-8703-a4cdf2e80b19",
      "metadata": {
        "id": "62b9d8ab-dde3-48e9-8703-a4cdf2e80b19",
        "outputId": "2b35f837-654a-467f-fcfb-6992e39bd76e"
      },
      "outputs": [
        {
          "data": {
            "text/plain": [
              "3"
            ]
          },
          "execution_count": 201,
          "metadata": {},
          "output_type": "execute_result"
        }
      ],
      "source": [
        "course_name.find(\"a\",2,10)"
      ]
    },
    {
      "cell_type": "code",
      "execution_count": null,
      "id": "58e88d61-0829-435e-a86f-24dfc0b5763d",
      "metadata": {
        "id": "58e88d61-0829-435e-a86f-24dfc0b5763d",
        "outputId": "a6b54a9e-771e-4e60-e8a0-2d42e83fdff1"
      },
      "outputs": [
        {
          "data": {
            "text/plain": [
              "-1"
            ]
          },
          "execution_count": 202,
          "metadata": {},
          "output_type": "execute_result"
        }
      ],
      "source": [
        "course_name.find(\"z\")"
      ]
    },
    {
      "cell_type": "code",
      "execution_count": null,
      "id": "b9172204-126b-4f9e-a5b1-c7abeb3993a3",
      "metadata": {
        "id": "b9172204-126b-4f9e-a5b1-c7abeb3993a3",
        "outputId": "425a5203-b03f-4781-f34a-bead45272a41"
      },
      "outputs": [
        {
          "data": {
            "text/plain": [
              "'Data Science Masters'"
            ]
          },
          "execution_count": 204,
          "metadata": {},
          "output_type": "execute_result"
        }
      ],
      "source": [
        "course_name"
      ]
    },
    {
      "cell_type": "code",
      "execution_count": null,
      "id": "4eecc160-d7d2-4643-b654-9b9873a2c25e",
      "metadata": {
        "id": "4eecc160-d7d2-4643-b654-9b9873a2c25e",
        "outputId": "2294fd2f-81fa-4b86-9cd3-ef2b8ee577ff"
      },
      "outputs": [
        {
          "data": {
            "text/plain": [
              "3"
            ]
          },
          "execution_count": 203,
          "metadata": {},
          "output_type": "execute_result"
        }
      ],
      "source": [
        "## count()\n",
        "course_name.count('a')"
      ]
    },
    {
      "cell_type": "code",
      "execution_count": null,
      "id": "9e5d8558-545b-4f18-a88c-abe4c7cf9076",
      "metadata": {
        "id": "9e5d8558-545b-4f18-a88c-abe4c7cf9076",
        "outputId": "9aaaa0e5-3622-4ad8-a57f-c5f00ac82652"
      },
      "outputs": [
        {
          "data": {
            "text/plain": [
              "2"
            ]
          },
          "execution_count": 206,
          "metadata": {},
          "output_type": "execute_result"
        }
      ],
      "source": [
        "course_name.count(' ')"
      ]
    },
    {
      "cell_type": "code",
      "execution_count": null,
      "id": "44d59c0e-9975-49f4-9ba9-caec6ed03987",
      "metadata": {
        "id": "44d59c0e-9975-49f4-9ba9-caec6ed03987",
        "outputId": "25763120-4faf-4052-a595-df209c80b8cd"
      },
      "outputs": [
        {
          "data": {
            "text/plain": [
              "21"
            ]
          },
          "execution_count": 207,
          "metadata": {},
          "output_type": "execute_result"
        }
      ],
      "source": [
        "course_name.count('')"
      ]
    },
    {
      "cell_type": "code",
      "execution_count": null,
      "id": "5defc0bf-4419-4a1f-a307-ab8e69990249",
      "metadata": {
        "id": "5defc0bf-4419-4a1f-a307-ab8e69990249",
        "outputId": "cecb56bb-dcfb-4c34-87da-c7158a9f350c"
      },
      "outputs": [
        {
          "data": {
            "text/plain": [
              "'Data Science Masters'"
            ]
          },
          "execution_count": 225,
          "metadata": {},
          "output_type": "execute_result"
        }
      ],
      "source": [
        "course_name"
      ]
    },
    {
      "cell_type": "code",
      "execution_count": null,
      "id": "60317737-6bf3-4abc-9b69-fd351045233f",
      "metadata": {
        "id": "60317737-6bf3-4abc-9b69-fd351045233f",
        "outputId": "c7de9e38-ec4d-444e-8712-10b2a0bd4e5a"
      },
      "outputs": [
        {
          "data": {
            "text/plain": [
              "'sretsaM ecneicS ataD'"
            ]
          },
          "execution_count": 227,
          "metadata": {},
          "output_type": "execute_result"
        }
      ],
      "source": [
        "course_name[::-1]"
      ]
    },
    {
      "cell_type": "code",
      "execution_count": null,
      "id": "6671a097-62c3-4830-b04a-c22259fb2b37",
      "metadata": {
        "id": "6671a097-62c3-4830-b04a-c22259fb2b37"
      },
      "outputs": [],
      "source": [
        "# string split function"
      ]
    },
    {
      "cell_type": "code",
      "execution_count": null,
      "id": "881c48a9-5f31-4f8a-b755-66d8321ff65a",
      "metadata": {
        "id": "881c48a9-5f31-4f8a-b755-66d8321ff65a",
        "outputId": "c2f8c80a-caac-4125-d4ce-01dcd04bf639"
      },
      "outputs": [
        {
          "data": {
            "text/plain": [
              "['Data', 'Science', 'Masters']"
            ]
          },
          "execution_count": 211,
          "metadata": {},
          "output_type": "execute_result"
        }
      ],
      "source": [
        "course_name.split(' ')"
      ]
    },
    {
      "cell_type": "code",
      "execution_count": null,
      "id": "e0236b25-fbba-4ede-be00-6069d36987f9",
      "metadata": {
        "id": "e0236b25-fbba-4ede-be00-6069d36987f9",
        "outputId": "30f70633-0823-404c-c776-4d0b111f65ee"
      },
      "outputs": [
        {
          "data": {
            "text/plain": [
              "'Data Science Masters'"
            ]
          },
          "execution_count": 213,
          "metadata": {},
          "output_type": "execute_result"
        }
      ],
      "source": [
        "course_name"
      ]
    },
    {
      "cell_type": "code",
      "execution_count": null,
      "id": "3c7e9daf-620c-49ce-8aa7-22f0707fe39a",
      "metadata": {
        "id": "3c7e9daf-620c-49ce-8aa7-22f0707fe39a",
        "outputId": "95cb2096-1f14-4e7a-87da-13eb5f21ab8d"
      },
      "outputs": [
        {
          "data": {
            "text/plain": [
              "['Data ', 'cience Masters']"
            ]
          },
          "execution_count": 212,
          "metadata": {},
          "output_type": "execute_result"
        }
      ],
      "source": [
        "course_name.split('S')"
      ]
    },
    {
      "cell_type": "code",
      "execution_count": null,
      "id": "3de0a6ca-5651-4ca4-9ed1-8564bbfc98a9",
      "metadata": {
        "id": "3de0a6ca-5651-4ca4-9ed1-8564bbfc98a9",
        "outputId": "f5c39bcd-14e3-45f8-e32a-976cb85f7148"
      },
      "outputs": [
        {
          "data": {
            "text/plain": [
              "['Data Science Ma', 'ter', '']"
            ]
          },
          "execution_count": 216,
          "metadata": {},
          "output_type": "execute_result"
        }
      ],
      "source": [
        "course_name.split('s')"
      ]
    },
    {
      "cell_type": "code",
      "execution_count": null,
      "id": "b927ad1b-a034-4f93-8ce6-4020957b2f5c",
      "metadata": {
        "id": "b927ad1b-a034-4f93-8ce6-4020957b2f5c",
        "outputId": "54aebc85-8c09-45bf-ebcf-615dd180d3ca"
      },
      "outputs": [
        {
          "data": {
            "text/plain": [
              "('Data Science Ma', 's', 'ters')"
            ]
          },
          "execution_count": 215,
          "metadata": {},
          "output_type": "execute_result"
        }
      ],
      "source": [
        "course_name.partition('s')"
      ]
    },
    {
      "cell_type": "code",
      "execution_count": null,
      "id": "167646c5-c071-4ae1-9c43-b3e144e668bf",
      "metadata": {
        "id": "167646c5-c071-4ae1-9c43-b3e144e668bf",
        "outputId": "0d8fa0f1-de32-4679-fc3f-b7e16eac858b"
      },
      "outputs": [
        {
          "data": {
            "text/plain": [
              "'DATA SCIENCE MASTERS'"
            ]
          },
          "execution_count": 217,
          "metadata": {},
          "output_type": "execute_result"
        }
      ],
      "source": [
        "## SString upper and lowercase\n",
        "course_name.upper()"
      ]
    },
    {
      "cell_type": "code",
      "execution_count": null,
      "id": "b16d77e5-6232-4ec4-94cc-c39cd6d388a3",
      "metadata": {
        "id": "b16d77e5-6232-4ec4-94cc-c39cd6d388a3",
        "outputId": "4bd159e1-b5bd-48b1-aa80-4736f8e1e150"
      },
      "outputs": [
        {
          "data": {
            "text/plain": [
              "'data science masters'"
            ]
          },
          "execution_count": 218,
          "metadata": {},
          "output_type": "execute_result"
        }
      ],
      "source": [
        "course_name.lower()"
      ]
    },
    {
      "cell_type": "code",
      "execution_count": null,
      "id": "9ebc066c-58bc-4cec-8283-2f7d73cf64c7",
      "metadata": {
        "id": "9ebc066c-58bc-4cec-8283-2f7d73cf64c7",
        "outputId": "e26a072f-042d-4cb7-9ca2-54ba1a22809a"
      },
      "outputs": [
        {
          "data": {
            "text/plain": [
              "'Data Science Masters'"
            ]
          },
          "execution_count": 219,
          "metadata": {},
          "output_type": "execute_result"
        }
      ],
      "source": [
        "course_name"
      ]
    },
    {
      "cell_type": "code",
      "execution_count": null,
      "id": "eaf83939-b58a-432c-a8e9-3214b9f7a0dd",
      "metadata": {
        "id": "eaf83939-b58a-432c-a8e9-3214b9f7a0dd",
        "outputId": "361f2de9-2bcc-4b47-cf58-fb80b10aed1b"
      },
      "outputs": [
        {
          "data": {
            "text/plain": [
              "'dATA sCIENCE mASTERS'"
            ]
          },
          "execution_count": 221,
          "metadata": {},
          "output_type": "execute_result"
        }
      ],
      "source": [
        "course_name.swapcase()"
      ]
    },
    {
      "cell_type": "code",
      "execution_count": null,
      "id": "15bae527-4570-4580-8aa7-f8ee21145529",
      "metadata": {
        "id": "15bae527-4570-4580-8aa7-f8ee21145529",
        "outputId": "ae394a5a-49fe-4765-b3c5-adf29f9b2bd5"
      },
      "outputs": [
        {
          "data": {
            "text/plain": [
              "'Data Science Masters'"
            ]
          },
          "execution_count": 222,
          "metadata": {},
          "output_type": "execute_result"
        }
      ],
      "source": [
        "course_name.title()"
      ]
    },
    {
      "cell_type": "code",
      "execution_count": null,
      "id": "78841045-562c-418a-a37a-a3fe877a2810",
      "metadata": {
        "id": "78841045-562c-418a-a37a-a3fe877a2810"
      },
      "outputs": [],
      "source": [
        "name=\"krish nbaik\""
      ]
    },
    {
      "cell_type": "code",
      "execution_count": null,
      "id": "a4610ea2-a6f9-4634-bbeb-cdd1cf109116",
      "metadata": {
        "id": "a4610ea2-a6f9-4634-bbeb-cdd1cf109116",
        "outputId": "0dc63b29-7bc8-4e34-c069-3e2bce411c8b"
      },
      "outputs": [
        {
          "data": {
            "text/plain": [
              "'Krish Nbaik'"
            ]
          },
          "execution_count": 224,
          "metadata": {},
          "output_type": "execute_result"
        }
      ],
      "source": [
        "name.title()"
      ]
    },
    {
      "cell_type": "code",
      "execution_count": null,
      "id": "bc900f16-2795-4e8c-86b7-59f632f28122",
      "metadata": {
        "id": "bc900f16-2795-4e8c-86b7-59f632f28122",
        "outputId": "97e65c6d-553c-40b8-b665-3a2d57611835"
      },
      "outputs": [
        {
          "data": {
            "text/plain": [
              "'-0b10'"
            ]
          },
          "execution_count": 252,
          "metadata": {},
          "output_type": "execute_result"
        }
      ],
      "source": [
        "bin(-2)"
      ]
    },
    {
      "cell_type": "code",
      "execution_count": null,
      "id": "7decf215-60bc-4170-a13a-18e5b42fc043",
      "metadata": {
        "id": "7decf215-60bc-4170-a13a-18e5b42fc043",
        "outputId": "a03eb95f-f338-4135-88de-889366d2e02f"
      },
      "outputs": [
        {
          "data": {
            "text/plain": [
              "20"
            ]
          },
          "execution_count": 253,
          "metadata": {},
          "output_type": "execute_result"
        }
      ],
      "source": [
        "len(course_name)"
      ]
    },
    {
      "cell_type": "code",
      "execution_count": null,
      "id": "4fc83c17-01b2-4fb9-a3bc-266327a9ba6c",
      "metadata": {
        "id": "4fc83c17-01b2-4fb9-a3bc-266327a9ba6c",
        "outputId": "09c0d491-9db6-4b2a-e814-20323a7e64d5"
      },
      "outputs": [
        {
          "data": {
            "text/plain": [
              "21"
            ]
          },
          "execution_count": 258,
          "metadata": {},
          "output_type": "execute_result"
        }
      ],
      "source": [
        "course_name.count('')"
      ]
    },
    {
      "cell_type": "code",
      "execution_count": null,
      "id": "ab613bff-e15a-4be4-a500-001de69a289e",
      "metadata": {
        "id": "ab613bff-e15a-4be4-a500-001de69a289e",
        "outputId": "42552842-eead-4f7c-bd7c-4871c180c315"
      },
      "outputs": [
        {
          "data": {
            "text/plain": [
              "''"
            ]
          },
          "execution_count": 266,
          "metadata": {},
          "output_type": "execute_result"
        }
      ],
      "source": [
        "course_name[-5:10]"
      ]
    },
    {
      "cell_type": "code",
      "execution_count": null,
      "id": "ae4751b9-88d1-47f1-aca2-feb299e33fcf",
      "metadata": {
        "id": "ae4751b9-88d1-47f1-aca2-feb299e33fcf",
        "outputId": "e00e15ae-6899-4181-a52b-54f6f5371983"
      },
      "outputs": [
        {
          "data": {
            "text/plain": [
              "'Data Science Masters'"
            ]
          },
          "execution_count": 262,
          "metadata": {},
          "output_type": "execute_result"
        }
      ],
      "source": [
        "course_name"
      ]
    },
    {
      "cell_type": "code",
      "execution_count": null,
      "id": "94200727-d973-4c38-957e-6da77e86017b",
      "metadata": {
        "id": "94200727-d973-4c38-957e-6da77e86017b",
        "outputId": "6402613b-5cac-4136-aaad-194c3474c2cc"
      },
      "outputs": [
        {
          "name": "stdin",
          "output_type": "stream",
          "text": [
            "Enter the triangle Length: 9\n"
          ]
        },
        {
          "name": "stdout",
          "output_type": "stream",
          "text": [
            "         *\n",
            "        **\n",
            "       ****\n",
            "      ******\n",
            "     ********\n",
            "    **********\n",
            "   ************\n",
            "  **************\n",
            " ****************\n"
          ]
        }
      ],
      "source": [
        "## Assignments\n",
        "size = int(input(\"Enter the triangle Length:\"))\n",
        "for i in range(size):\n",
        "    for j in range(size-i):\n",
        "        print(\"\",end=\" \")\n",
        "    for k in range(i+1) :\n",
        "        print(\"*\",end=\"\")\n",
        "    for m in range(k-1):\n",
        "        print(\"*\", end=\"\")\n",
        "    print()\n"
      ]
    },
    {
      "cell_type": "code",
      "execution_count": null,
      "id": "304e81cc-7705-4c69-bd42-33db96c0975b",
      "metadata": {
        "id": "304e81cc-7705-4c69-bd42-33db96c0975b",
        "outputId": "2e376ac4-b9d3-4dd3-968c-0b7304063595"
      },
      "outputs": [
        {
          "data": {
            "text/plain": [
              "1"
            ]
          },
          "execution_count": 269,
          "metadata": {},
          "output_type": "execute_result"
        }
      ],
      "source": [
        "course_name.upper()."
      ]
    },
    {
      "cell_type": "code",
      "execution_count": null,
      "id": "fda983fb-2493-4b08-bb3d-c6c16daf7a38",
      "metadata": {
        "id": "fda983fb-2493-4b08-bb3d-c6c16daf7a38",
        "outputId": "8e24bc68-cece-4acf-dd25-43a836ca571f"
      },
      "outputs": [
        {
          "name": "stdout",
          "output_type": "stream",
          "text": [
            "          *\n",
            "         ***\n",
            "        *****\n",
            "       *******\n",
            "      *********\n",
            "     ***********\n",
            "    *************\n",
            "   ***************\n",
            "  *****************\n",
            " *******************\n"
          ]
        }
      ],
      "source": [
        "## solution 2\n",
        "n = 10\n",
        "for i in range(n):\n",
        "    print(\" \"*(n-i),end='')\n",
        "    for j in range(i*2+1):\n",
        "        print(\"*\",end=\"\")\n",
        "    print()\n"
      ]
    },
    {
      "cell_type": "code",
      "execution_count": null,
      "id": "d9a15044-1702-41b7-a009-7a8aa719959e",
      "metadata": {
        "id": "d9a15044-1702-41b7-a009-7a8aa719959e",
        "outputId": "45bb8273-d668-4f8f-99f0-e68a9360f16e"
      },
      "outputs": [
        {
          "data": {
            "text/plain": [
              "'Data Science Masters'"
            ]
          },
          "execution_count": 271,
          "metadata": {},
          "output_type": "execute_result"
        }
      ],
      "source": [
        "course_name"
      ]
    },
    {
      "cell_type": "code",
      "execution_count": null,
      "id": "b411a520-9005-4268-b8cd-c29381fbebb3",
      "metadata": {
        "id": "b411a520-9005-4268-b8cd-c29381fbebb3"
      },
      "outputs": [],
      "source": []
    },
    {
      "cell_type": "code",
      "execution_count": null,
      "id": "1e3283f5-68e6-43a4-ad4e-a0d0dec00c89",
      "metadata": {
        "id": "1e3283f5-68e6-43a4-ad4e-a0d0dec00c89"
      },
      "outputs": [],
      "source": []
    }
  ],
  "metadata": {
    "kernelspec": {
      "display_name": "Python 3 (ipykernel)",
      "language": "python",
      "name": "python3"
    },
    "language_info": {
      "codemirror_mode": {
        "name": "ipython",
        "version": 3
      },
      "file_extension": ".py",
      "mimetype": "text/x-python",
      "name": "python",
      "nbconvert_exporter": "python",
      "pygments_lexer": "ipython3",
      "version": "3.10.8"
    },
    "colab": {
      "provenance": []
    }
  },
  "nbformat": 4,
  "nbformat_minor": 5
}