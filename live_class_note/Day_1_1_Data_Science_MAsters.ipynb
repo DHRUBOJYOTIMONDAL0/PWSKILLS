{
  "cells": [
    {
      "cell_type": "code",
      "execution_count": null,
      "id": "f1a32916-0b22-4891-9618-8c987c4a57f3",
      "metadata": {
        "id": "f1a32916-0b22-4891-9618-8c987c4a57f3"
      },
      "outputs": [],
      "source": [
        "a=10"
      ]
    },
    {
      "cell_type": "code",
      "execution_count": null,
      "id": "3cc780eb-77d9-49ff-8f2c-952f6d6762cd",
      "metadata": {
        "id": "3cc780eb-77d9-49ff-8f2c-952f6d6762cd",
        "outputId": "41e8e466-2255-4c66-92b7-dc6fda09af2a"
      },
      "outputs": [
        {
          "data": {
            "text/plain": [
              "10"
            ]
          },
          "execution_count": 17,
          "metadata": {},
          "output_type": "execute_result"
        }
      ],
      "source": [
        "a"
      ]
    },
    {
      "cell_type": "code",
      "execution_count": null,
      "id": "3eb5e2df-507e-4fcc-970e-51fd94d17523",
      "metadata": {
        "id": "3eb5e2df-507e-4fcc-970e-51fd94d17523",
        "outputId": "d5e5e7a7-7276-474b-8758-9c13817b717a"
      },
      "outputs": [
        {
          "data": {
            "text/plain": [
              "20"
            ]
          },
          "execution_count": 20,
          "metadata": {},
          "output_type": "execute_result"
        }
      ],
      "source": [
        "## Comments\n",
        "## for single we use ##\n",
        "## this is a function\n",
        "# this is a comment\n",
        "a=20\n",
        "a"
      ]
    },
    {
      "cell_type": "code",
      "execution_count": null,
      "id": "2389175a-cca1-4a66-acb8-84b6dd4b2801",
      "metadata": {
        "id": "2389175a-cca1-4a66-acb8-84b6dd4b2801",
        "outputId": "718835b5-322b-491a-f15f-bf6f5701d559"
      },
      "outputs": [
        {
          "data": {
            "text/plain": [
              "20"
            ]
          },
          "execution_count": 23,
          "metadata": {},
          "output_type": "execute_result"
        }
      ],
      "source": [
        "\"\"\"\n",
        "Example of multiline comments\n",
        "hello this is a example of python\n",
        "dsfsdfdfdsf\n",
        "dfsdfsdfsdfdsf\n",
        "dfdsfdsfsdf\n",
        "\"\"\"\n",
        "a=20\n",
        "a"
      ]
    },
    {
      "cell_type": "markdown",
      "id": "71fbfe47-4824-42a6-87a9-7e0c2f71adb3",
      "metadata": {
        "id": "71fbfe47-4824-42a6-87a9-7e0c2f71adb3"
      },
      "source": [
        "# hello\n",
        "## hello1\n",
        "### hello2\n",
        "\n",
        "1. hello guys how are you"
      ]
    },
    {
      "cell_type": "markdown",
      "id": "e473a53e-c6a6-4b07-9f6b-98ef306e47b1",
      "metadata": {
        "id": "e473a53e-c6a6-4b07-9f6b-98ef306e47b1"
      },
      "source": [
        "### Numbers"
      ]
    },
    {
      "cell_type": "code",
      "execution_count": null,
      "id": "e3d3ec40-acb1-4ff6-a8a9-c0d27c8ffe00",
      "metadata": {
        "id": "e3d3ec40-acb1-4ff6-a8a9-c0d27c8ffe00",
        "outputId": "69f891e1-d693-44d3-9689-2db3866bdf2b"
      },
      "outputs": [
        {
          "data": {
            "text/plain": [
              "4"
            ]
          },
          "execution_count": 26,
          "metadata": {},
          "output_type": "execute_result"
        }
      ],
      "source": [
        "1+3"
      ]
    },
    {
      "cell_type": "code",
      "execution_count": null,
      "id": "78a10e2f-7636-45e4-8ea2-1eabce896551",
      "metadata": {
        "id": "78a10e2f-7636-45e4-8ea2-1eabce896551",
        "outputId": "1d9130bf-63ca-4ec0-e329-08c9cd2d7912"
      },
      "outputs": [
        {
          "name": "stdout",
          "output_type": "stream",
          "text": [
            "4\n"
          ]
        }
      ],
      "source": [
        "print(1+3)"
      ]
    },
    {
      "cell_type": "code",
      "execution_count": null,
      "id": "beb5cced-2e48-49a7-a6d3-8b8f35670b73",
      "metadata": {
        "id": "beb5cced-2e48-49a7-a6d3-8b8f35670b73",
        "outputId": "f67ed3b7-31c3-4e05-8ed2-a375ee34f921"
      },
      "outputs": [
        {
          "name": "stdout",
          "output_type": "stream",
          "text": [
            "5\n"
          ]
        }
      ],
      "source": [
        "a=5\n",
        "print(a)"
      ]
    },
    {
      "cell_type": "markdown",
      "id": "f4d82d79-aed7-49b4-90f8-e08a332d381a",
      "metadata": {
        "id": "f4d82d79-aed7-49b4-90f8-e08a332d381a"
      },
      "source": [
        "## Variables Assignment"
      ]
    },
    {
      "cell_type": "code",
      "execution_count": null,
      "id": "d3ed327b-2923-488b-8fe8-af3270872b29",
      "metadata": {
        "id": "d3ed327b-2923-488b-8fe8-af3270872b29",
        "outputId": "69174418-88ec-45fc-9f37-7be1683ec8d5"
      },
      "outputs": [
        {
          "data": {
            "text/plain": [
              "str"
            ]
          },
          "execution_count": 45,
          "metadata": {},
          "output_type": "execute_result"
        }
      ],
      "source": [
        "type(\"sfdfdfsdf\")"
      ]
    },
    {
      "cell_type": "code",
      "execution_count": null,
      "id": "605bb551-5105-42f7-969c-2a4bca0997c2",
      "metadata": {
        "id": "605bb551-5105-42f7-969c-2a4bca0997c2"
      },
      "outputs": [],
      "source": []
    },
    {
      "cell_type": "code",
      "execution_count": null,
      "id": "ec3b5960-7990-41ae-b562-10cca4727062",
      "metadata": {
        "id": "ec3b5960-7990-41ae-b562-10cca4727062"
      },
      "outputs": [],
      "source": [
        "name=\"Bala\""
      ]
    },
    {
      "cell_type": "code",
      "execution_count": null,
      "id": "f3eaf7f2-3cea-488e-a9d8-7dbeb0bce03e",
      "metadata": {
        "id": "f3eaf7f2-3cea-488e-a9d8-7dbeb0bce03e",
        "outputId": "3a0617f7-21c5-4224-dd1b-7f80655ef5da"
      },
      "outputs": [
        {
          "data": {
            "text/plain": [
              "'Bala'"
            ]
          },
          "execution_count": 40,
          "metadata": {},
          "output_type": "execute_result"
        }
      ],
      "source": [
        "name"
      ]
    },
    {
      "cell_type": "code",
      "execution_count": null,
      "id": "127ab07b-7788-44cd-81a4-1dc95890f0b9",
      "metadata": {
        "id": "127ab07b-7788-44cd-81a4-1dc95890f0b9"
      },
      "outputs": [],
      "source": [
        "number=10"
      ]
    },
    {
      "cell_type": "code",
      "execution_count": null,
      "id": "55cc9205-c02b-4cd1-8b94-52e8228c3488",
      "metadata": {
        "id": "55cc9205-c02b-4cd1-8b94-52e8228c3488",
        "outputId": "2c643fc4-0558-479d-f041-0ba6a89b00eb"
      },
      "outputs": [
        {
          "data": {
            "text/plain": [
              "int"
            ]
          },
          "execution_count": 47,
          "metadata": {},
          "output_type": "execute_result"
        }
      ],
      "source": [
        "type(number)"
      ]
    },
    {
      "cell_type": "code",
      "execution_count": null,
      "id": "e39cea8f-8787-4204-ba53-49d4c85d553c",
      "metadata": {
        "id": "e39cea8f-8787-4204-ba53-49d4c85d553c",
        "outputId": "fb67d048-689b-4dd9-f925-02cbde4797a2"
      },
      "outputs": [
        {
          "data": {
            "text/plain": [
              "20"
            ]
          },
          "execution_count": 41,
          "metadata": {},
          "output_type": "execute_result"
        }
      ],
      "source": [
        "number=20\n",
        "number"
      ]
    },
    {
      "cell_type": "code",
      "execution_count": null,
      "id": "8e39ba66-b14d-48f1-80e9-db85a7c16ad5",
      "metadata": {
        "id": "8e39ba66-b14d-48f1-80e9-db85a7c16ad5"
      },
      "outputs": [],
      "source": [
        "decimal_num=2.5"
      ]
    },
    {
      "cell_type": "code",
      "execution_count": null,
      "id": "296f5308-8cc5-4309-922b-926178aa5380",
      "metadata": {
        "id": "296f5308-8cc5-4309-922b-926178aa5380",
        "outputId": "4f8c02d8-9c1c-4805-b0ec-9de38fbb2e3f"
      },
      "outputs": [
        {
          "data": {
            "text/plain": [
              "2.5"
            ]
          },
          "execution_count": 49,
          "metadata": {},
          "output_type": "execute_result"
        }
      ],
      "source": [
        "decimal_num"
      ]
    },
    {
      "cell_type": "code",
      "execution_count": null,
      "id": "1e8f96c4-c830-460e-98f0-384414a277f3",
      "metadata": {
        "id": "1e8f96c4-c830-460e-98f0-384414a277f3",
        "outputId": "0168181a-c992-43ab-9af6-555034b06a5a"
      },
      "outputs": [
        {
          "data": {
            "text/plain": [
              "float"
            ]
          },
          "execution_count": 50,
          "metadata": {},
          "output_type": "execute_result"
        }
      ],
      "source": [
        "type(decimal_num)"
      ]
    },
    {
      "cell_type": "code",
      "execution_count": null,
      "id": "eb82eef2-1ab0-4e4d-891c-118db4ab1253",
      "metadata": {
        "id": "eb82eef2-1ab0-4e4d-891c-118db4ab1253",
        "outputId": "1366774f-84e5-4ea3-9763-3bc89b1ba984"
      },
      "outputs": [
        {
          "data": {
            "text/plain": [
              "str"
            ]
          },
          "execution_count": 51,
          "metadata": {},
          "output_type": "execute_result"
        }
      ],
      "source": [
        "type(\"hello\")"
      ]
    },
    {
      "cell_type": "code",
      "execution_count": null,
      "id": "83faa0d6-e219-4ec8-a1d8-6f21bc06af38",
      "metadata": {
        "id": "83faa0d6-e219-4ec8-a1d8-6f21bc06af38",
        "outputId": "c6246742-0467-406e-913a-49fa6d63ecfb"
      },
      "outputs": [
        {
          "data": {
            "text/plain": [
              "complex"
            ]
          },
          "execution_count": 54,
          "metadata": {},
          "output_type": "execute_result"
        }
      ],
      "source": [
        "type(1+2j)"
      ]
    },
    {
      "cell_type": "code",
      "execution_count": null,
      "id": "6b3ebbb0-abf7-4a6f-8ef1-7f2c7dd60e2c",
      "metadata": {
        "id": "6b3ebbb0-abf7-4a6f-8ef1-7f2c7dd60e2c",
        "outputId": "8c092143-f1eb-4526-8296-a83bdddff220"
      },
      "outputs": [
        {
          "name": "stdout",
          "output_type": "stream",
          "text": [
            "hello\n",
            "hello\n"
          ]
        }
      ],
      "source": [
        "print('hello')\n",
        "print(\"hello\")"
      ]
    },
    {
      "cell_type": "code",
      "execution_count": null,
      "id": "d1544044-b8db-4445-93ad-15033b400802",
      "metadata": {
        "id": "d1544044-b8db-4445-93ad-15033b400802"
      },
      "outputs": [],
      "source": [
        "##bad way\n",
        "## dont start the variable name with numbers\n",
        "1a\n",
        "3answer"
      ]
    },
    {
      "cell_type": "code",
      "execution_count": null,
      "id": "9eda26fa-89ad-4245-ae05-4a9c5882ea52",
      "metadata": {
        "id": "9eda26fa-89ad-4245-ae05-4a9c5882ea52"
      },
      "outputs": [],
      "source": [
        "number1=23"
      ]
    },
    {
      "cell_type": "code",
      "execution_count": null,
      "id": "932358cd-5192-45ef-ab65-377df8349d0c",
      "metadata": {
        "id": "932358cd-5192-45ef-ab65-377df8349d0c",
        "outputId": "86740afb-d050-462d-a420-3859ba300ef1"
      },
      "outputs": [
        {
          "name": "stdout",
          "output_type": "stream",
          "text": [
            "ineuron\n",
            "PWSKILLS\n"
          ]
        }
      ],
      "source": [
        "## Variables are case senssitive\n",
        "company='ineuron'\n",
        "Company='PWSKILLS'\n",
        "print(company)\n",
        "print(Company)"
      ]
    },
    {
      "cell_type": "code",
      "execution_count": null,
      "id": "b6d6fb21-beb8-4cff-9626-a74b9c4c09c9",
      "metadata": {
        "id": "b6d6fb21-beb8-4cff-9626-a74b9c4c09c9"
      },
      "outputs": [],
      "source": [
        "## Reserved keywords\n",
        "'''\n",
        "int,float,len,complex,bool,str,return,yield\n",
        "'''"
      ]
    },
    {
      "cell_type": "code",
      "execution_count": null,
      "id": "6a734953-17b8-4196-90de-4b7616332766",
      "metadata": {
        "id": "6a734953-17b8-4196-90de-4b7616332766"
      },
      "outputs": [],
      "source": [
        "float=32"
      ]
    },
    {
      "cell_type": "code",
      "execution_count": null,
      "id": "8a2b871d-6451-4919-9a47-f8c858b35267",
      "metadata": {
        "id": "8a2b871d-6451-4919-9a47-f8c858b35267",
        "outputId": "5701021e-514f-467d-8e08-a14fdd0c01da"
      },
      "outputs": [
        {
          "data": {
            "text/plain": [
              "True"
            ]
          },
          "execution_count": 61,
          "metadata": {},
          "output_type": "execute_result"
        }
      ],
      "source": [
        "##Boolean\n",
        "True"
      ]
    },
    {
      "cell_type": "code",
      "execution_count": null,
      "id": "13b61e46-94d4-4ca0-bf8d-e37037e4e094",
      "metadata": {
        "id": "13b61e46-94d4-4ca0-bf8d-e37037e4e094",
        "outputId": "655508f2-b7b5-4379-f1fa-278cbdd5d38f"
      },
      "outputs": [
        {
          "data": {
            "text/plain": [
              "False"
            ]
          },
          "execution_count": 62,
          "metadata": {},
          "output_type": "execute_result"
        }
      ],
      "source": [
        "False"
      ]
    },
    {
      "cell_type": "code",
      "execution_count": null,
      "id": "5dab5101-167b-4581-a849-e0498b5c317c",
      "metadata": {
        "id": "5dab5101-167b-4581-a849-e0498b5c317c",
        "outputId": "d7ce9434-01ae-4630-e5e5-cab70fae3303"
      },
      "outputs": [
        {
          "data": {
            "text/plain": [
              "False"
            ]
          },
          "execution_count": 63,
          "metadata": {},
          "output_type": "execute_result"
        }
      ],
      "source": [
        "True and False"
      ]
    },
    {
      "cell_type": "code",
      "execution_count": null,
      "id": "fe2c1827-bfba-4267-a8e9-900c0387f019",
      "metadata": {
        "id": "fe2c1827-bfba-4267-a8e9-900c0387f019",
        "outputId": "d489c660-ce00-4dba-f166-09a2ee5e6c04"
      },
      "outputs": [
        {
          "data": {
            "text/plain": [
              "True"
            ]
          },
          "execution_count": 64,
          "metadata": {},
          "output_type": "execute_result"
        }
      ],
      "source": [
        "True or False"
      ]
    },
    {
      "cell_type": "code",
      "execution_count": null,
      "id": "c120399d-d02c-4770-bc6a-384d336daff9",
      "metadata": {
        "id": "c120399d-d02c-4770-bc6a-384d336daff9",
        "outputId": "f525401f-2d25-4fe4-e03f-f90a342ffe08"
      },
      "outputs": [
        {
          "data": {
            "text/plain": [
              "False"
            ]
          },
          "execution_count": 67,
          "metadata": {},
          "output_type": "execute_result"
        }
      ],
      "source": [
        "not True"
      ]
    },
    {
      "cell_type": "code",
      "execution_count": null,
      "id": "1351bec8-2e41-458d-9dae-c0268f28fd40",
      "metadata": {
        "id": "1351bec8-2e41-458d-9dae-c0268f28fd40",
        "outputId": "25430995-860e-4a75-8ee2-abd503cc8dad"
      },
      "outputs": [
        {
          "data": {
            "text/plain": [
              "bool"
            ]
          },
          "execution_count": 69,
          "metadata": {},
          "output_type": "execute_result"
        }
      ],
      "source": [
        "type(not False)"
      ]
    },
    {
      "cell_type": "code",
      "execution_count": null,
      "id": "53534b69-4ce1-4853-9f82-9fed89d189f1",
      "metadata": {
        "id": "53534b69-4ce1-4853-9f82-9fed89d189f1",
        "outputId": "774df345-77fa-494f-e85d-cc70a862871b"
      },
      "outputs": [
        {
          "data": {
            "text/plain": [
              "False"
            ]
          },
          "execution_count": 77,
          "metadata": {},
          "output_type": "execute_result"
        }
      ],
      "source": [
        "## Typecasting\n",
        "bool(0)"
      ]
    },
    {
      "cell_type": "code",
      "execution_count": null,
      "id": "80170bec-41e6-47f4-8175-31903d56ab07",
      "metadata": {
        "id": "80170bec-41e6-47f4-8175-31903d56ab07",
        "outputId": "c049c2fc-81ab-4a80-b0cb-7f2084761789"
      },
      "outputs": [
        {
          "data": {
            "text/plain": [
              "'23'"
            ]
          },
          "execution_count": 78,
          "metadata": {},
          "output_type": "execute_result"
        }
      ],
      "source": [
        "str(23)"
      ]
    },
    {
      "cell_type": "code",
      "execution_count": null,
      "id": "2f8b8904-63f7-4f58-9c07-33e3ed046c57",
      "metadata": {
        "id": "2f8b8904-63f7-4f58-9c07-33e3ed046c57",
        "outputId": "e0ceac04-735c-4647-a65e-af46fba11d78"
      },
      "outputs": [
        {
          "data": {
            "text/plain": [
              "23"
            ]
          },
          "execution_count": 79,
          "metadata": {},
          "output_type": "execute_result"
        }
      ],
      "source": [
        "int('23')"
      ]
    },
    {
      "cell_type": "code",
      "execution_count": null,
      "id": "f1ec5c3f-0c4b-40e1-9386-d06d7c818f36",
      "metadata": {
        "id": "f1ec5c3f-0c4b-40e1-9386-d06d7c818f36",
        "outputId": "1c337acb-1284-4e08-b65a-6e793ef26618"
      },
      "outputs": [
        {
          "data": {
            "text/plain": [
              "int"
            ]
          },
          "execution_count": 80,
          "metadata": {},
          "output_type": "execute_result"
        }
      ],
      "source": [
        "type(int('23'))"
      ]
    },
    {
      "cell_type": "code",
      "execution_count": null,
      "id": "ba88b2c8-28ef-4480-a3a5-7a6749983e86",
      "metadata": {
        "id": "ba88b2c8-28ef-4480-a3a5-7a6749983e86",
        "outputId": "a0602691-3d45-4ad4-d171-8579d483bb3e"
      },
      "outputs": [
        {
          "data": {
            "text/plain": [
              "True"
            ]
          },
          "execution_count": 71,
          "metadata": {},
          "output_type": "execute_result"
        }
      ],
      "source": [
        "bool(1)"
      ]
    },
    {
      "cell_type": "code",
      "execution_count": null,
      "id": "d640e261-2add-4bcc-863a-61720fbf9ca6",
      "metadata": {
        "id": "d640e261-2add-4bcc-863a-61720fbf9ca6",
        "outputId": "a0587aae-01a2-4892-8738-a20e672ed0d3"
      },
      "outputs": [
        {
          "name": "stdout",
          "output_type": "stream",
          "text": [
            "True\n"
          ]
        }
      ],
      "source": [
        "a=1\n",
        "if bool(a)==True:\n",
        "\n",
        "    print(\"True\")"
      ]
    },
    {
      "cell_type": "code",
      "execution_count": null,
      "id": "23ad6da2-7e44-4f8a-99f3-0f994aadbffe",
      "metadata": {
        "id": "23ad6da2-7e44-4f8a-99f3-0f994aadbffe",
        "outputId": "59bd7b60-d348-4bbe-dc07-8d355ef3700c"
      },
      "outputs": [
        {
          "data": {
            "text/plain": [
              "123"
            ]
          },
          "execution_count": 85,
          "metadata": {},
          "output_type": "execute_result"
        }
      ],
      "source": [
        "int('123')"
      ]
    },
    {
      "cell_type": "markdown",
      "id": "5e3efeb7-a315-46e7-90c3-e1a3276f0767",
      "metadata": {
        "id": "5e3efeb7-a315-46e7-90c3-e1a3276f0767"
      },
      "source": [
        "### Dynamic Typing"
      ]
    },
    {
      "cell_type": "code",
      "execution_count": null,
      "id": "a2e0d9fb-b759-4f56-aa55-6e381adbc4da",
      "metadata": {
        "id": "a2e0d9fb-b759-4f56-aa55-6e381adbc4da"
      },
      "outputs": [],
      "source": [
        "a=12\n",
        "str1=\"var1\"\n",
        "a=\"var\""
      ]
    },
    {
      "cell_type": "code",
      "execution_count": null,
      "id": "a28c8802-996d-44b0-977b-59428c76cb68",
      "metadata": {
        "id": "a28c8802-996d-44b0-977b-59428c76cb68",
        "outputId": "1b1d3ed9-3009-4610-92bc-0885380d5f80"
      },
      "outputs": [
        {
          "name": "stdout",
          "output_type": "stream",
          "text": [
            "<class 'str'>\n"
          ]
        }
      ],
      "source": [
        "print(type(a))"
      ]
    },
    {
      "cell_type": "code",
      "execution_count": null,
      "id": "cf6e3443-acd9-45a5-b020-fd4ce7430d3b",
      "metadata": {
        "id": "cf6e3443-acd9-45a5-b020-fd4ce7430d3b",
        "outputId": "068369a5-b772-4410-e668-fcb5844cf839"
      },
      "outputs": [
        {
          "data": {
            "text/plain": [
              "1"
            ]
          },
          "execution_count": 86,
          "metadata": {},
          "output_type": "execute_result"
        }
      ],
      "source": [
        "int(1.54)"
      ]
    },
    {
      "cell_type": "code",
      "execution_count": null,
      "id": "3b9500aa-2400-4bed-bd8b-888771f0682a",
      "metadata": {
        "id": "3b9500aa-2400-4bed-bd8b-888771f0682a"
      },
      "outputs": [],
      "source": [
        "## concatenation between different types"
      ]
    },
    {
      "cell_type": "code",
      "execution_count": null,
      "id": "9194b55a-dacb-4151-ba1a-55752727ed03",
      "metadata": {
        "id": "9194b55a-dacb-4151-ba1a-55752727ed03",
        "outputId": "2b550851-75e8-43d5-b539-9170d1b96139"
      },
      "outputs": [
        {
          "ename": "TypeError",
          "evalue": "unsupported operand type(s) for +: 'int' and 'str'",
          "output_type": "error",
          "traceback": [
            "\u001b[0;31m---------------------------------------------------------------------------\u001b[0m",
            "\u001b[0;31mTypeError\u001b[0m                                 Traceback (most recent call last)",
            "Cell \u001b[0;32mIn[90], line 1\u001b[0m\n\u001b[0;32m----> 1\u001b[0m \u001b[38;5;28;43mint\u001b[39;49m\u001b[43m(\u001b[49m\u001b[38;5;124;43m\"\u001b[39;49m\u001b[38;5;124;43m1\u001b[39;49m\u001b[38;5;124;43m\"\u001b[39;49m\u001b[43m)\u001b[49m\u001b[43m \u001b[49m\u001b[38;5;241;43m+\u001b[39;49m\u001b[43m \u001b[49m\u001b[38;5;124;43m\"\u001b[39;49m\u001b[38;5;124;43m1\u001b[39;49m\u001b[38;5;124;43m\"\u001b[39;49m\n",
            "\u001b[0;31mTypeError\u001b[0m: unsupported operand type(s) for +: 'int' and 'str'"
          ]
        }
      ],
      "source": [
        "int(\"1\") + \"1\""
      ]
    },
    {
      "cell_type": "code",
      "execution_count": null,
      "id": "2e3cbfe3-9e1a-43f5-8ef4-418e31a90e01",
      "metadata": {
        "id": "2e3cbfe3-9e1a-43f5-8ef4-418e31a90e01",
        "outputId": "2c551343-7095-427a-ed82-a1469a1f5c47"
      },
      "outputs": [
        {
          "data": {
            "text/plain": [
              "'1111111111111111111111111111111111111111111111111111111111111111111111111111111111111111111111111111'"
            ]
          },
          "execution_count": 92,
          "metadata": {},
          "output_type": "execute_result"
        }
      ],
      "source": [
        "\"1\" * 100"
      ]
    },
    {
      "cell_type": "code",
      "execution_count": null,
      "id": "4ece8de7-4686-4635-9735-3f95b6d3660e",
      "metadata": {
        "id": "4ece8de7-4686-4635-9735-3f95b6d3660e"
      },
      "outputs": [],
      "source": []
    },
    {
      "cell_type": "code",
      "execution_count": null,
      "id": "aaa90912-fa74-44c5-9c17-9d552c8f8a91",
      "metadata": {
        "id": "aaa90912-fa74-44c5-9c17-9d552c8f8a91"
      },
      "outputs": [],
      "source": []
    },
    {
      "cell_type": "code",
      "execution_count": null,
      "id": "b57c6cf4-667e-463d-a1fb-780f61d15d91",
      "metadata": {
        "id": "b57c6cf4-667e-463d-a1fb-780f61d15d91"
      },
      "outputs": [],
      "source": []
    },
    {
      "cell_type": "code",
      "execution_count": null,
      "id": "e8e9009c-e8cd-421b-807f-4dd923a9f708",
      "metadata": {
        "id": "e8e9009c-e8cd-421b-807f-4dd923a9f708"
      },
      "outputs": [],
      "source": []
    }
  ],
  "metadata": {
    "kernelspec": {
      "display_name": "Python 3 (ipykernel)",
      "language": "python",
      "name": "python3"
    },
    "language_info": {
      "codemirror_mode": {
        "name": "ipython",
        "version": 3
      },
      "file_extension": ".py",
      "mimetype": "text/x-python",
      "name": "python",
      "nbconvert_exporter": "python",
      "pygments_lexer": "ipython3",
      "version": "3.10.8"
    },
    "colab": {
      "provenance": []
    }
  },
  "nbformat": 4,
  "nbformat_minor": 5
}