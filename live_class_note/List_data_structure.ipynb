{
  "cells": [
    {
      "cell_type": "markdown",
      "id": "7d41d282",
      "metadata": {
        "id": "7d41d282"
      },
      "source": [
        "# Data Structures in Python"
      ]
    },
    {
      "cell_type": "markdown",
      "id": "dcc1769f",
      "metadata": {
        "id": "dcc1769f"
      },
      "source": [
        "Data Structures are a way of organizing data so that it can be accessed more efficiently depending upon the situation. Data Structures are fundamentals of any programming language around which a program is built."
      ]
    },
    {
      "cell_type": "markdown",
      "id": "28a746b8",
      "metadata": {
        "id": "28a746b8"
      },
      "source": [
        "# List"
      ]
    },
    {
      "cell_type": "markdown",
      "id": "59a6ce29",
      "metadata": {
        "id": "59a6ce29"
      },
      "source": [
        "Python Lists are just like the arrays, declared in other languages which is an ordered collection of data. It is very flexible as the items in a list do not need to be of the same type.\n",
        "\n",
        "A list is created by placing elements inside square brackets '[ ]' , separated by commas. A list can have any number of items and they may be of different types (integer, float, string, etc.). A list can also have another list as an item."
      ]
    },
    {
      "cell_type": "markdown",
      "id": "e67f4700",
      "metadata": {
        "id": "e67f4700"
      },
      "source": [
        "Access List Elements\n",
        "\n",
        "There are various ways in which we can access the elements of a list. List Index\n",
        "\n",
        "We can use the index operator '[ ]' to access an item in a list. In Python, indices start at 0. So, a list having 5 elements will have an index from 0 to 4.\n",
        "\n",
        "Trying to access indexes other than these will raise an IndexError. The index must be an integer. We can't use float or other types, this will result in TypeError.\n",
        "\n",
        "Nested lists are accessed using nested indexing."
      ]
    },
    {
      "cell_type": "code",
      "source": [
        "word = 'Hello there!'\n",
        "word[0:-2]"
      ],
      "metadata": {
        "colab": {
          "base_uri": "https://localhost:8080/",
          "height": 36
        },
        "id": "h0jmOlCjGceR",
        "outputId": "ed814695-2160-4b38-90c2-aa9510db600f"
      },
      "id": "h0jmOlCjGceR",
      "execution_count": null,
      "outputs": [
        {
          "output_type": "execute_result",
          "data": {
            "text/plain": [
              "'Hello ther'"
            ],
            "application/vnd.google.colaboratory.intrinsic+json": {
              "type": "string"
            }
          },
          "metadata": {},
          "execution_count": 1
        }
      ]
    },
    {
      "cell_type": "markdown",
      "id": "4d92236c",
      "metadata": {
        "id": "4d92236c"
      },
      "source": [
        "Python allows negative indexing for its sequences. The index of -1 refers to the last item, -2 to the second last item and so on."
      ]
    },
    {
      "cell_type": "code",
      "execution_count": 1,
      "id": "699593ee",
      "metadata": {
        "id": "699593ee"
      },
      "outputs": [],
      "source": [
        "a=['abc', 'xyz', 23, 34.5, True]            # Empty list"
      ]
    },
    {
      "cell_type": "code",
      "execution_count": 2,
      "id": "9e6ec8f6",
      "metadata": {
        "colab": {
          "base_uri": "https://localhost:8080/"
        },
        "id": "9e6ec8f6",
        "outputId": "995ea7d8-2d4b-479a-c3d1-d2a8d03d6c51"
      },
      "outputs": [
        {
          "output_type": "execute_result",
          "data": {
            "text/plain": [
              "list"
            ]
          },
          "metadata": {},
          "execution_count": 2
        }
      ],
      "source": [
        "type(a)"
      ]
    },
    {
      "cell_type": "code",
      "source": [
        "a[3]"
      ],
      "metadata": {
        "colab": {
          "base_uri": "https://localhost:8080/"
        },
        "id": "FrovOg1n4Uhc",
        "outputId": "4e822593-b907-432a-ad9f-aefd80b67d49"
      },
      "id": "FrovOg1n4Uhc",
      "execution_count": 3,
      "outputs": [
        {
          "output_type": "execute_result",
          "data": {
            "text/plain": [
              "34.5"
            ]
          },
          "metadata": {},
          "execution_count": 3
        }
      ]
    },
    {
      "cell_type": "code",
      "source": [
        "a[3] = 'Hello'\n",
        "a"
      ],
      "metadata": {
        "colab": {
          "base_uri": "https://localhost:8080/"
        },
        "id": "CWevsq0h4XUK",
        "outputId": "17380d3c-2830-4d9d-d38d-edb53089d1ce"
      },
      "id": "CWevsq0h4XUK",
      "execution_count": 4,
      "outputs": [
        {
          "output_type": "execute_result",
          "data": {
            "text/plain": [
              "['abc', 'xyz', 23, 'Hello', True]"
            ]
          },
          "metadata": {},
          "execution_count": 4
        }
      ]
    },
    {
      "cell_type": "code",
      "source": [
        "a.insert(2, 'Hi')\n",
        "a"
      ],
      "metadata": {
        "colab": {
          "base_uri": "https://localhost:8080/"
        },
        "id": "TXP5ED8i47k6",
        "outputId": "66ce8cb3-0e9f-4eca-d4a3-65952954b6ae"
      },
      "id": "TXP5ED8i47k6",
      "execution_count": null,
      "outputs": [
        {
          "output_type": "execute_result",
          "data": {
            "text/plain": [
              "['abc', 'xyz', 'Hi', 23, 'Hello', True]"
            ]
          },
          "metadata": {},
          "execution_count": 6
        }
      ]
    },
    {
      "cell_type": "code",
      "execution_count": null,
      "id": "66373cda",
      "metadata": {
        "id": "66373cda"
      },
      "outputs": [],
      "source": [
        "a.append('Ankit')       # to add element in the list use append()"
      ]
    },
    {
      "cell_type": "code",
      "execution_count": null,
      "id": "ebf0187d",
      "metadata": {
        "colab": {
          "base_uri": "https://localhost:8080/"
        },
        "id": "ebf0187d",
        "outputId": "ecf51d87-a2fd-47d9-c7ee-bf2aaf898338"
      },
      "outputs": [
        {
          "output_type": "execute_result",
          "data": {
            "text/plain": [
              "['abc', 'xyz', 'Hi', 23, 'Hello', True, 'Ankit']"
            ]
          },
          "metadata": {},
          "execution_count": 8
        }
      ],
      "source": [
        "a"
      ]
    },
    {
      "cell_type": "code",
      "execution_count": null,
      "id": "b0d397fb",
      "metadata": {
        "id": "b0d397fb"
      },
      "outputs": [],
      "source": [
        "a.append('Rakshita')"
      ]
    },
    {
      "cell_type": "code",
      "execution_count": null,
      "id": "3e6f59c9",
      "metadata": {
        "colab": {
          "base_uri": "https://localhost:8080/"
        },
        "id": "3e6f59c9",
        "outputId": "8b9eed48-ef2a-42a4-bfb7-950e69784d9c"
      },
      "outputs": [
        {
          "output_type": "execute_result",
          "data": {
            "text/plain": [
              "['abc', 'xyz', 23, 34.5, True, 'Ankit', 'Rakshita']"
            ]
          },
          "metadata": {},
          "execution_count": 7
        }
      ],
      "source": [
        "a"
      ]
    },
    {
      "cell_type": "code",
      "execution_count": null,
      "id": "e549e2ed",
      "metadata": {
        "id": "e549e2ed"
      },
      "outputs": [],
      "source": [
        "a.append('Medhir')"
      ]
    },
    {
      "cell_type": "code",
      "execution_count": null,
      "id": "3b9ec855",
      "metadata": {
        "colab": {
          "base_uri": "https://localhost:8080/"
        },
        "id": "3b9ec855",
        "outputId": "a173cd83-a26c-498f-bafd-281439791ce5"
      },
      "outputs": [
        {
          "output_type": "execute_result",
          "data": {
            "text/plain": [
              "['abc', 'xyz', 23, 34.5, True, 'Ankit', 'Rakshita', 'Medhir']"
            ]
          },
          "metadata": {},
          "execution_count": 9
        }
      ],
      "source": [
        "a"
      ]
    },
    {
      "cell_type": "code",
      "execution_count": null,
      "id": "4300b372",
      "metadata": {
        "id": "4300b372"
      },
      "outputs": [],
      "source": [
        "a=[]\n",
        "a.append('Shirt')"
      ]
    },
    {
      "cell_type": "code",
      "execution_count": null,
      "id": "d11e5fbc",
      "metadata": {
        "colab": {
          "base_uri": "https://localhost:8080/"
        },
        "id": "d11e5fbc",
        "outputId": "a5a9aaec-634d-41e3-967e-3e5bb6ee5f05"
      },
      "outputs": [
        {
          "output_type": "execute_result",
          "data": {
            "text/plain": [
              "['Shirt']"
            ]
          },
          "metadata": {},
          "execution_count": 10
        }
      ],
      "source": [
        "a"
      ]
    },
    {
      "cell_type": "code",
      "execution_count": null,
      "id": "bc19f2a9",
      "metadata": {
        "id": "bc19f2a9"
      },
      "outputs": [],
      "source": [
        "#a=a+'Pant'       # can't concatenate string to list"
      ]
    },
    {
      "cell_type": "code",
      "execution_count": null,
      "id": "53066d67",
      "metadata": {
        "id": "53066d67"
      },
      "outputs": [],
      "source": [
        "a=a+['Pant']           # concatenate list to the list"
      ]
    },
    {
      "cell_type": "code",
      "execution_count": null,
      "id": "1520f3af",
      "metadata": {
        "colab": {
          "base_uri": "https://localhost:8080/"
        },
        "id": "1520f3af",
        "outputId": "2043f697-8549-4516-a807-1f2d08f5fbc6"
      },
      "outputs": [
        {
          "output_type": "execute_result",
          "data": {
            "text/plain": [
              "['Shirt', 'Pant']"
            ]
          },
          "metadata": {},
          "execution_count": 12
        }
      ],
      "source": [
        "a"
      ]
    },
    {
      "cell_type": "code",
      "execution_count": null,
      "id": "feacb06b",
      "metadata": {
        "id": "feacb06b"
      },
      "outputs": [],
      "source": [
        "a += ['Jeans']"
      ]
    },
    {
      "cell_type": "code",
      "execution_count": null,
      "id": "cd39e078",
      "metadata": {
        "colab": {
          "base_uri": "https://localhost:8080/"
        },
        "id": "cd39e078",
        "outputId": "04ccd0cd-0104-4540-f544-a708615021bf"
      },
      "outputs": [
        {
          "output_type": "execute_result",
          "data": {
            "text/plain": [
              "['Shirt', 'Pant', 'Jeans']"
            ]
          },
          "metadata": {},
          "execution_count": 14
        }
      ],
      "source": [
        "a"
      ]
    },
    {
      "cell_type": "code",
      "execution_count": null,
      "id": "5f1a44aa",
      "metadata": {
        "id": "5f1a44aa"
      },
      "outputs": [],
      "source": [
        "a=a+[\"Shoes\",\"Tshirt\"]"
      ]
    },
    {
      "cell_type": "code",
      "execution_count": null,
      "id": "731ce051",
      "metadata": {
        "id": "731ce051",
        "outputId": "e3359b97-7934-485a-8484-ccf8114ba0bd",
        "colab": {
          "base_uri": "https://localhost:8080/"
        }
      },
      "outputs": [
        {
          "output_type": "execute_result",
          "data": {
            "text/plain": [
              "['Shirt',\n",
              " 'Pant',\n",
              " 'Jeans',\n",
              " 'Tshirt',\n",
              " '1',\n",
              " 3,\n",
              " 5,\n",
              " 'Shoes',\n",
              " 'Tshirt',\n",
              " '1',\n",
              " 3,\n",
              " 5,\n",
              " 'cat',\n",
              " ['1', 3, 5, 'cat'],\n",
              " 'Shoes',\n",
              " 'Tshirt']"
            ]
          },
          "metadata": {},
          "execution_count": 29
        }
      ],
      "source": [
        "a"
      ]
    },
    {
      "cell_type": "code",
      "source": [
        "b = ['1', 3, 5, 'cat']\n",
        "b"
      ],
      "metadata": {
        "colab": {
          "base_uri": "https://localhost:8080/"
        },
        "id": "PIkNpIYU6L8g",
        "outputId": "043e0f77-a7cd-4ab3-87f5-4064688ebfbb"
      },
      "id": "PIkNpIYU6L8g",
      "execution_count": null,
      "outputs": [
        {
          "output_type": "execute_result",
          "data": {
            "text/plain": [
              "['1', 3, 5, 'cat']"
            ]
          },
          "metadata": {},
          "execution_count": 30
        }
      ]
    },
    {
      "cell_type": "code",
      "source": [
        "a.extend(b)\n",
        "a"
      ],
      "metadata": {
        "colab": {
          "base_uri": "https://localhost:8080/"
        },
        "id": "vU3Re7gs6f-3",
        "outputId": "24355aab-2fa6-4968-bea5-b5cea8f053d7"
      },
      "id": "vU3Re7gs6f-3",
      "execution_count": null,
      "outputs": [
        {
          "output_type": "execute_result",
          "data": {
            "text/plain": [
              "['Shirt',\n",
              " 'Pant',\n",
              " 'Jeans',\n",
              " 'Tshirt',\n",
              " '1',\n",
              " 3,\n",
              " 5,\n",
              " 'Shoes',\n",
              " 'Tshirt',\n",
              " '1',\n",
              " 3,\n",
              " 5,\n",
              " 'cat',\n",
              " ['1', 3, 5, 'cat'],\n",
              " 'Shoes',\n",
              " 'Tshirt',\n",
              " '1',\n",
              " 3,\n",
              " 5,\n",
              " 'cat',\n",
              " '1',\n",
              " 3,\n",
              " 5,\n",
              " 'cat']"
            ]
          },
          "metadata": {},
          "execution_count": 32
        }
      ]
    },
    {
      "cell_type": "code",
      "execution_count": null,
      "id": "2be35a72",
      "metadata": {
        "id": "2be35a72",
        "outputId": "f9cb7c14-d9c9-414b-925a-e2e7680582e7",
        "colab": {
          "base_uri": "https://localhost:8080/",
          "height": 36
        }
      },
      "outputs": [
        {
          "output_type": "execute_result",
          "data": {
            "text/plain": [
              "'cat'"
            ],
            "application/vnd.google.colaboratory.intrinsic+json": {
              "type": "string"
            }
          },
          "metadata": {},
          "execution_count": 19
        }
      ],
      "source": [
        "a.pop()   # to remove the item from the end"
      ]
    },
    {
      "cell_type": "code",
      "execution_count": null,
      "id": "5e68f05b",
      "metadata": {
        "id": "5e68f05b",
        "outputId": "50821968-c7b4-4260-9759-e0da9994fbaf",
        "colab": {
          "base_uri": "https://localhost:8080/"
        }
      },
      "outputs": [
        {
          "output_type": "execute_result",
          "data": {
            "text/plain": [
              "['Shirt', 'Pant', 'Jeans', 'Shoes', 'Tshirt', '1', 3, 5]"
            ]
          },
          "metadata": {},
          "execution_count": 20
        }
      ],
      "source": [
        "a"
      ]
    },
    {
      "cell_type": "code",
      "execution_count": null,
      "id": "78a69080",
      "metadata": {
        "id": "78a69080",
        "outputId": "a8ce8f92-8bb8-4f87-9b50-e6a15fd3055b",
        "colab": {
          "base_uri": "https://localhost:8080/",
          "height": 36
        }
      },
      "outputs": [
        {
          "output_type": "execute_result",
          "data": {
            "text/plain": [
              "'Shoes'"
            ],
            "application/vnd.google.colaboratory.intrinsic+json": {
              "type": "string"
            }
          },
          "metadata": {},
          "execution_count": 21
        }
      ],
      "source": [
        "a.pop(3)"
      ]
    },
    {
      "cell_type": "code",
      "execution_count": null,
      "id": "a134045e",
      "metadata": {
        "id": "a134045e"
      },
      "outputs": [],
      "source": [
        "a=a+[\"Shoes\",\"Tshirt\"]          # concatenate multiple elements in the list"
      ]
    },
    {
      "cell_type": "code",
      "execution_count": null,
      "id": "fd72755e",
      "metadata": {
        "id": "fd72755e",
        "outputId": "d335dcdc-f1a1-48ff-ed7e-43ca46b5f025",
        "colab": {
          "base_uri": "https://localhost:8080/"
        }
      },
      "outputs": [
        {
          "output_type": "stream",
          "name": "stdout",
          "text": [
            "['Shirt', 'Pant', 'Jeans', 'Tshirt', '1', 3, 5, 'Shoes', 'Tshirt']\n"
          ]
        }
      ],
      "source": [
        "print(a)"
      ]
    },
    {
      "cell_type": "markdown",
      "id": "6d01b7dd",
      "metadata": {
        "id": "6d01b7dd"
      },
      "source": [
        "# List slicing and list operations"
      ]
    },
    {
      "cell_type": "code",
      "execution_count": null,
      "id": "83c8bb94",
      "metadata": {
        "colab": {
          "base_uri": "https://localhost:8080/"
        },
        "id": "83c8bb94",
        "outputId": "075f0dee-4a7d-4153-fb37-a1e101016ac3"
      },
      "outputs": [
        {
          "output_type": "execute_result",
          "data": {
            "text/plain": [
              "[1, 2, 4]"
            ]
          },
          "metadata": {},
          "execution_count": 33
        }
      ],
      "source": [
        "a= [1,2,4,6,8]\n",
        "a[:3]"
      ]
    },
    {
      "cell_type": "code",
      "execution_count": null,
      "id": "26f0bed2",
      "metadata": {
        "id": "26f0bed2",
        "outputId": "55341f0a-2926-4c28-ce62-26602e2a9563",
        "colab": {
          "base_uri": "https://localhost:8080/"
        }
      },
      "outputs": [
        {
          "output_type": "execute_result",
          "data": {
            "text/plain": [
              "2"
            ]
          },
          "metadata": {},
          "execution_count": 34
        }
      ],
      "source": [
        "a[1]"
      ]
    },
    {
      "cell_type": "code",
      "execution_count": null,
      "id": "0f7d2ce0",
      "metadata": {
        "id": "0f7d2ce0",
        "outputId": "857afd7a-90de-4460-abe9-7061c3f42e5c",
        "colab": {
          "base_uri": "https://localhost:8080/"
        }
      },
      "outputs": [
        {
          "output_type": "execute_result",
          "data": {
            "text/plain": [
              "8"
            ]
          },
          "metadata": {},
          "execution_count": 35
        }
      ],
      "source": [
        "a[-1]"
      ]
    },
    {
      "cell_type": "code",
      "execution_count": null,
      "id": "0f286e3a",
      "metadata": {
        "deletable": false,
        "editable": false,
        "id": "0f286e3a"
      },
      "outputs": [],
      "source": [
        "\n",
        "#what will be value of a at index 3 give your answer in below cell"
      ]
    },
    {
      "cell_type": "code",
      "execution_count": null,
      "id": "61796774",
      "metadata": {
        "cellId": "q4",
        "deletable": false,
        "id": "61796774"
      },
      "outputs": [],
      "source": [
        "#answer here"
      ]
    },
    {
      "cell_type": "code",
      "source": [
        "a"
      ],
      "metadata": {
        "colab": {
          "base_uri": "https://localhost:8080/"
        },
        "id": "jP9_OX348ba9",
        "outputId": "e01daf1d-1af4-4c83-a6e2-47a0f8be3fa5"
      },
      "id": "jP9_OX348ba9",
      "execution_count": null,
      "outputs": [
        {
          "output_type": "execute_result",
          "data": {
            "text/plain": [
              "[1, 2, 4, 6, 8]"
            ]
          },
          "metadata": {},
          "execution_count": 36
        }
      ]
    },
    {
      "cell_type": "code",
      "execution_count": null,
      "id": "3a2ac9e0",
      "metadata": {
        "id": "3a2ac9e0",
        "outputId": "180a5623-9619-44bf-b75b-22cd8529afc3",
        "colab": {
          "base_uri": "https://localhost:8080/"
        }
      },
      "outputs": [
        {
          "output_type": "execute_result",
          "data": {
            "text/plain": [
              "[2, 6]"
            ]
          },
          "metadata": {},
          "execution_count": 38
        }
      ],
      "source": [
        "a[1::2]    # [start: end+1: step]"
      ]
    },
    {
      "cell_type": "code",
      "execution_count": null,
      "id": "7fa6f4c3",
      "metadata": {
        "id": "7fa6f4c3"
      },
      "outputs": [],
      "source": [
        "num=[1,2,3,6,9,8,7,4,5,2,1,4,5,6,9,8,7]"
      ]
    },
    {
      "cell_type": "code",
      "execution_count": null,
      "id": "0c41365f",
      "metadata": {
        "colab": {
          "base_uri": "https://localhost:8080/"
        },
        "id": "0c41365f",
        "outputId": "583a91b7-b707-4f10-f880-e6076f177fc5"
      },
      "outputs": [
        {
          "output_type": "execute_result",
          "data": {
            "text/plain": [
              "17"
            ]
          },
          "metadata": {},
          "execution_count": 40
        }
      ],
      "source": [
        "len(num)"
      ]
    },
    {
      "cell_type": "code",
      "execution_count": null,
      "id": "4bc06143",
      "metadata": {
        "colab": {
          "base_uri": "https://localhost:8080/"
        },
        "id": "4bc06143",
        "outputId": "a3d2f75d-b059-449c-c254-c64bf0941781"
      },
      "outputs": [
        {
          "output_type": "execute_result",
          "data": {
            "text/plain": [
              "[3, 6, 9, 8, 7, 4]"
            ]
          },
          "metadata": {},
          "execution_count": 41
        }
      ],
      "source": [
        "# Elements from 2nd to 7th item\n",
        "\n",
        "num[2:8]"
      ]
    },
    {
      "cell_type": "code",
      "execution_count": null,
      "id": "e579ee8f",
      "metadata": {
        "colab": {
          "base_uri": "https://localhost:8080/"
        },
        "id": "e579ee8f",
        "outputId": "69cb7b72-dc76-4829-ef3c-ae5e46dae374"
      },
      "outputs": [
        {
          "output_type": "execute_result",
          "data": {
            "text/plain": [
              "6"
            ]
          },
          "metadata": {},
          "execution_count": 26
        }
      ],
      "source": [
        "# 4th element from end\n",
        "num[-4]"
      ]
    },
    {
      "cell_type": "code",
      "execution_count": null,
      "id": "7b0bd75a",
      "metadata": {
        "deletable": false,
        "editable": false,
        "id": "7b0bd75a"
      },
      "outputs": [],
      "source": [
        "#Find the element from 1 to 5th item in below cell"
      ]
    },
    {
      "cell_type": "code",
      "execution_count": null,
      "id": "36c610cd",
      "metadata": {
        "cellId": "w4",
        "deletable": false,
        "id": "36c610cd"
      },
      "outputs": [],
      "source": [
        "#answer here"
      ]
    },
    {
      "cell_type": "code",
      "execution_count": null,
      "id": "a3cd260c",
      "metadata": {
        "colab": {
          "base_uri": "https://localhost:8080/"
        },
        "id": "a3cd260c",
        "outputId": "4fd50784-590b-4d38-d66d-cc79b085454c"
      },
      "outputs": [
        {
          "output_type": "execute_result",
          "data": {
            "text/plain": [
              "[1, 2, 3, 6, 9, 8, 7, 4, 5, 2, 1, 4, 5, 6, 9, 8, 7]"
            ]
          },
          "metadata": {},
          "execution_count": 42
        }
      ],
      "source": [
        "# 4th  from end to last element\n",
        "\n",
        "num[:]"
      ]
    },
    {
      "cell_type": "code",
      "execution_count": null,
      "id": "6e6e784a",
      "metadata": {
        "id": "6e6e784a"
      },
      "outputs": [],
      "source": [
        "num1=num[-6:][-3]"
      ]
    },
    {
      "cell_type": "code",
      "execution_count": null,
      "id": "aa31e6d8",
      "metadata": {
        "colab": {
          "base_uri": "https://localhost:8080/"
        },
        "id": "aa31e6d8",
        "outputId": "0cfc6e9e-9fa8-4a3d-bf54-9986f74fb280"
      },
      "outputs": [
        {
          "output_type": "execute_result",
          "data": {
            "text/plain": [
              "9"
            ]
          },
          "metadata": {},
          "execution_count": 44
        }
      ],
      "source": [
        "num1"
      ]
    },
    {
      "cell_type": "code",
      "execution_count": null,
      "id": "6853f3ca",
      "metadata": {
        "colab": {
          "base_uri": "https://localhost:8080/"
        },
        "id": "6853f3ca",
        "outputId": "38cf9178-f3f8-42d0-9e6a-c839e2c18599"
      },
      "outputs": [
        {
          "output_type": "execute_result",
          "data": {
            "text/plain": [
              "[1, 2, 3, 6, 9, 8, 7, 4, 5, 2, 1, 4, 5, 6, 9, 8, 7]"
            ]
          },
          "metadata": {},
          "execution_count": 45
        }
      ],
      "source": [
        "num"
      ]
    },
    {
      "cell_type": "code",
      "execution_count": null,
      "id": "884a1aa7",
      "metadata": {
        "colab": {
          "base_uri": "https://localhost:8080/"
        },
        "id": "884a1aa7",
        "outputId": "0b949f4b-f88e-4734-f01a-d235988de271"
      },
      "outputs": [
        {
          "output_type": "stream",
          "name": "stdout",
          "text": [
            "2 6 8 4 2 4 6 8 "
          ]
        }
      ],
      "source": [
        "# find out the even numbers from the list\n",
        "\n",
        "for i in num:\n",
        "    if i%2==0:\n",
        "        print(i, end = ' ')"
      ]
    },
    {
      "cell_type": "code",
      "execution_count": null,
      "id": "60726c5e",
      "metadata": {
        "id": "60726c5e"
      },
      "outputs": [],
      "source": [
        "# find out the even unique numbers from the list\n",
        "even=[]\n",
        "for i in num:\n",
        "    if i%2==0:\n",
        "      if i not in even:\n",
        "        even.append(i)"
      ]
    },
    {
      "cell_type": "code",
      "execution_count": null,
      "id": "2f5ddb57",
      "metadata": {
        "colab": {
          "base_uri": "https://localhost:8080/"
        },
        "id": "2f5ddb57",
        "outputId": "43b0148d-50cd-4b73-fa43-3efab108b1ce"
      },
      "outputs": [
        {
          "output_type": "execute_result",
          "data": {
            "text/plain": [
              "[2, 6, 8, 4]"
            ]
          },
          "metadata": {},
          "execution_count": 50
        }
      ],
      "source": [
        "even"
      ]
    },
    {
      "cell_type": "code",
      "execution_count": null,
      "id": "01dcd3f3",
      "metadata": {
        "deletable": false,
        "editable": false,
        "id": "01dcd3f3"
      },
      "outputs": [],
      "source": [
        "# find out the unique even numbers from the list in the below cell\n",
        "num=[1,2,3,6,9,8,7,4,5,2,1,4,5,6,9,8,7]"
      ]
    },
    {
      "cell_type": "code",
      "execution_count": null,
      "id": "380928c7",
      "metadata": {
        "cellId": "E4",
        "deletable": false,
        "id": "380928c7"
      },
      "outputs": [],
      "source": [
        "#answer here"
      ]
    },
    {
      "cell_type": "code",
      "execution_count": null,
      "id": "a82d75b1",
      "metadata": {
        "id": "a82d75b1"
      },
      "outputs": [],
      "source": [
        "even.sort()       # to sort the list in ascending order"
      ]
    },
    {
      "cell_type": "code",
      "execution_count": null,
      "id": "6b41401a",
      "metadata": {
        "colab": {
          "base_uri": "https://localhost:8080/"
        },
        "id": "6b41401a",
        "outputId": "59039059-2ff6-4dc9-b23b-efc098a546c3"
      },
      "outputs": [
        {
          "output_type": "execute_result",
          "data": {
            "text/plain": [
              "[2, 4, 6, 8]"
            ]
          },
          "metadata": {},
          "execution_count": 78
        }
      ],
      "source": [
        "even"
      ]
    },
    {
      "cell_type": "code",
      "execution_count": null,
      "id": "f146f8f3",
      "metadata": {
        "id": "f146f8f3"
      },
      "outputs": [],
      "source": [
        "even.sort(reverse=True)  # sort the list in the reverse"
      ]
    },
    {
      "cell_type": "code",
      "execution_count": null,
      "id": "e9fefaf6",
      "metadata": {
        "colab": {
          "base_uri": "https://localhost:8080/"
        },
        "id": "e9fefaf6",
        "outputId": "2abdffc9-b303-4b99-bb81-a03e17614292"
      },
      "outputs": [
        {
          "output_type": "execute_result",
          "data": {
            "text/plain": [
              "[8, 6, 4, 2]"
            ]
          },
          "metadata": {},
          "execution_count": 53
        }
      ],
      "source": [
        "even"
      ]
    },
    {
      "cell_type": "code",
      "execution_count": null,
      "id": "eab27d87",
      "metadata": {
        "id": "eab27d87"
      },
      "outputs": [],
      "source": [
        "even.append([2,4,5])"
      ]
    },
    {
      "cell_type": "code",
      "source": [
        "even"
      ],
      "metadata": {
        "colab": {
          "base_uri": "https://localhost:8080/"
        },
        "id": "LMf6NFK2MomU",
        "outputId": "faf38821-0606-4872-d49e-44a748725db5"
      },
      "id": "LMf6NFK2MomU",
      "execution_count": null,
      "outputs": [
        {
          "output_type": "execute_result",
          "data": {
            "text/plain": [
              "[8, 6, 4, 2, [2, 4, 5]]"
            ]
          },
          "metadata": {},
          "execution_count": 55
        }
      ]
    },
    {
      "cell_type": "code",
      "execution_count": null,
      "id": "ef19f68c",
      "metadata": {
        "id": "ef19f68c"
      },
      "outputs": [],
      "source": [
        "even.extend({10,12,14})"
      ]
    },
    {
      "cell_type": "code",
      "execution_count": null,
      "id": "101f9f1f",
      "metadata": {
        "colab": {
          "base_uri": "https://localhost:8080/"
        },
        "id": "101f9f1f",
        "outputId": "36817fcd-b22d-42ff-b7e3-09c9ea1bc99c"
      },
      "outputs": [
        {
          "output_type": "execute_result",
          "data": {
            "text/plain": [
              "[8, 6, 4, 2, [2, 4, 5], 10, 12, 14]"
            ]
          },
          "metadata": {},
          "execution_count": 57
        }
      ],
      "source": [
        "even"
      ]
    },
    {
      "cell_type": "code",
      "execution_count": null,
      "id": "bb5ca9d1",
      "metadata": {
        "colab": {
          "base_uri": "https://localhost:8080/"
        },
        "id": "bb5ca9d1",
        "outputId": "19b5f6ab-fbdc-48fe-fa82-84d1465d3af9"
      },
      "outputs": [
        {
          "output_type": "execute_result",
          "data": {
            "text/plain": [
              "[2, 4, 5]"
            ]
          },
          "metadata": {},
          "execution_count": 58
        }
      ],
      "source": [
        "even.pop(4)   # remove element from specific index"
      ]
    },
    {
      "cell_type": "code",
      "source": [
        "even"
      ],
      "metadata": {
        "colab": {
          "base_uri": "https://localhost:8080/"
        },
        "id": "DuqpD9WBNVJh",
        "outputId": "3f4e2206-7e27-4659-cb55-3caf6f15b8ef"
      },
      "id": "DuqpD9WBNVJh",
      "execution_count": null,
      "outputs": [
        {
          "output_type": "execute_result",
          "data": {
            "text/plain": [
              "[8, 6, 4, 2, 10, 12, 14]"
            ]
          },
          "metadata": {},
          "execution_count": 59
        }
      ]
    },
    {
      "cell_type": "code",
      "execution_count": null,
      "id": "9f635b8d",
      "metadata": {
        "id": "9f635b8d"
      },
      "outputs": [],
      "source": [
        "even.remove(10)  # remove a specific element"
      ]
    },
    {
      "cell_type": "code",
      "execution_count": null,
      "id": "0399ada3",
      "metadata": {
        "colab": {
          "base_uri": "https://localhost:8080/"
        },
        "id": "0399ada3",
        "outputId": "d6de6e62-6877-451e-875a-4642f0a0b24c"
      },
      "outputs": [
        {
          "output_type": "execute_result",
          "data": {
            "text/plain": [
              "[8, 6, 4, 2, 12, 14]"
            ]
          },
          "metadata": {},
          "execution_count": 61
        }
      ],
      "source": [
        "even"
      ]
    },
    {
      "cell_type": "code",
      "execution_count": null,
      "id": "69a49078",
      "metadata": {
        "id": "69a49078"
      },
      "outputs": [],
      "source": [
        "even.insert(2,'Mango')      # to insert an element at specific elements"
      ]
    },
    {
      "cell_type": "code",
      "execution_count": null,
      "id": "07a84a4b",
      "metadata": {
        "colab": {
          "base_uri": "https://localhost:8080/"
        },
        "id": "07a84a4b",
        "outputId": "d22e87d7-37a3-42f0-dbf2-1f99c982459a"
      },
      "outputs": [
        {
          "output_type": "execute_result",
          "data": {
            "text/plain": [
              "[8, 6, 'Mango', 4, 2, 12, 14]"
            ]
          },
          "metadata": {},
          "execution_count": 63
        }
      ],
      "source": [
        "even"
      ]
    },
    {
      "cell_type": "code",
      "execution_count": null,
      "id": "932cceb7",
      "metadata": {
        "id": "932cceb7"
      },
      "outputs": [],
      "source": [
        "x=[1,2,3,4]\n",
        "y=x"
      ]
    },
    {
      "cell_type": "code",
      "execution_count": null,
      "id": "ea4fd5bc",
      "metadata": {
        "id": "ea4fd5bc",
        "outputId": "c20182f0-5b05-4c36-eb14-7b1de6a2222c",
        "colab": {
          "base_uri": "https://localhost:8080/"
        }
      },
      "outputs": [
        {
          "output_type": "execute_result",
          "data": {
            "text/plain": [
              "[1, 2, 3, 4]"
            ]
          },
          "metadata": {},
          "execution_count": 65
        }
      ],
      "source": [
        "y"
      ]
    },
    {
      "cell_type": "code",
      "execution_count": null,
      "id": "3032f2a6",
      "metadata": {
        "id": "3032f2a6"
      },
      "outputs": [],
      "source": [
        "z=y.copy()      # to copy the list"
      ]
    },
    {
      "cell_type": "code",
      "execution_count": null,
      "id": "8714003f",
      "metadata": {
        "id": "8714003f",
        "outputId": "673bb965-d1e7-4ebb-83d3-fb02f64928a6",
        "colab": {
          "base_uri": "https://localhost:8080/"
        }
      },
      "outputs": [
        {
          "output_type": "execute_result",
          "data": {
            "text/plain": [
              "[1, 2, 3, 4]"
            ]
          },
          "metadata": {},
          "execution_count": 67
        }
      ],
      "source": [
        "z"
      ]
    },
    {
      "cell_type": "code",
      "execution_count": null,
      "id": "15ebe7b0",
      "metadata": {
        "id": "15ebe7b0"
      },
      "outputs": [],
      "source": [
        "z.clear()        # to clear the list completely"
      ]
    },
    {
      "cell_type": "code",
      "execution_count": null,
      "id": "a5915126",
      "metadata": {
        "id": "a5915126",
        "outputId": "d6e31f16-4b63-4a9f-abae-f601ac7eb241",
        "colab": {
          "base_uri": "https://localhost:8080/"
        }
      },
      "outputs": [
        {
          "output_type": "execute_result",
          "data": {
            "text/plain": [
              "[]"
            ]
          },
          "metadata": {},
          "execution_count": 99
        }
      ],
      "source": [
        "z"
      ]
    },
    {
      "cell_type": "code",
      "execution_count": null,
      "id": "3f2ba84e",
      "metadata": {
        "id": "3f2ba84e"
      },
      "outputs": [],
      "source": [
        "del y          # to delete the list"
      ]
    },
    {
      "cell_type": "code",
      "execution_count": null,
      "id": "b89a4255",
      "metadata": {
        "id": "b89a4255",
        "outputId": "be6cd237-e778-4b32-8391-89b3ba377581",
        "colab": {
          "base_uri": "https://localhost:8080/"
        }
      },
      "outputs": [
        {
          "output_type": "execute_result",
          "data": {
            "text/plain": [
              "[]"
            ]
          },
          "metadata": {},
          "execution_count": 102
        }
      ],
      "source": [
        "z"
      ]
    },
    {
      "cell_type": "code",
      "execution_count": null,
      "id": "1e125eed",
      "metadata": {
        "id": "1e125eed",
        "outputId": "b78a25fc-e8cc-4419-b712-b0b5c9e8a970",
        "colab": {
          "base_uri": "https://localhost:8080/"
        }
      },
      "outputs": [
        {
          "output_type": "execute_result",
          "data": {
            "text/plain": [
              "[1, 2, 3, 4]"
            ]
          },
          "metadata": {},
          "execution_count": 68
        }
      ],
      "source": [
        "x"
      ]
    },
    {
      "cell_type": "code",
      "execution_count": null,
      "id": "eb241a47",
      "metadata": {
        "id": "eb241a47"
      },
      "outputs": [],
      "source": [
        "del x[1:3]        # to delete the portion of the list"
      ]
    },
    {
      "cell_type": "code",
      "execution_count": null,
      "id": "e99ca50f",
      "metadata": {
        "id": "e99ca50f",
        "outputId": "f9638f11-870e-43d0-da98-e7560f54046d",
        "colab": {
          "base_uri": "https://localhost:8080/"
        }
      },
      "outputs": [
        {
          "output_type": "execute_result",
          "data": {
            "text/plain": [
              "[1, 4]"
            ]
          },
          "metadata": {},
          "execution_count": 70
        }
      ],
      "source": [
        "x"
      ]
    },
    {
      "cell_type": "code",
      "execution_count": null,
      "id": "3544f0ed",
      "metadata": {
        "id": "3544f0ed"
      },
      "outputs": [],
      "source": [
        "e=[['mango','apple','cherry'],['Shirt','Pant','Tshirt']]          # to create list of the list"
      ]
    },
    {
      "cell_type": "code",
      "execution_count": null,
      "id": "124ceff4",
      "metadata": {
        "colab": {
          "base_uri": "https://localhost:8080/"
        },
        "id": "124ceff4",
        "outputId": "1640a8f4-329f-46cc-feb2-40842cf66ac1"
      },
      "outputs": [
        {
          "output_type": "execute_result",
          "data": {
            "text/plain": [
              "2"
            ]
          },
          "metadata": {},
          "execution_count": 107
        }
      ],
      "source": [
        "len(e)"
      ]
    },
    {
      "cell_type": "code",
      "execution_count": null,
      "id": "05213bd2",
      "metadata": {
        "id": "05213bd2"
      },
      "outputs": [],
      "source": [
        "fruit=e[0]"
      ]
    },
    {
      "cell_type": "code",
      "execution_count": null,
      "id": "1baa07a6",
      "metadata": {
        "colab": {
          "base_uri": "https://localhost:8080/"
        },
        "id": "1baa07a6",
        "outputId": "84dfab39-0493-4053-801e-c067863b9518"
      },
      "outputs": [
        {
          "output_type": "execute_result",
          "data": {
            "text/plain": [
              "['mango', 'apple', 'cherry']"
            ]
          },
          "metadata": {},
          "execution_count": 109
        }
      ],
      "source": [
        "fruit"
      ]
    },
    {
      "cell_type": "code",
      "execution_count": null,
      "id": "bff50cce",
      "metadata": {
        "id": "bff50cce"
      },
      "outputs": [],
      "source": [
        "fashion=e[1]"
      ]
    },
    {
      "cell_type": "code",
      "execution_count": null,
      "id": "40da9422",
      "metadata": {
        "colab": {
          "base_uri": "https://localhost:8080/"
        },
        "id": "40da9422",
        "outputId": "57bcb453-8d6a-4812-c44d-7b11ed9d6386"
      },
      "outputs": [
        {
          "output_type": "execute_result",
          "data": {
            "text/plain": [
              "['Shirt', 'Pant', 'Tshirt']"
            ]
          },
          "metadata": {},
          "execution_count": 111
        }
      ],
      "source": [
        "fashion"
      ]
    },
    {
      "cell_type": "code",
      "execution_count": null,
      "id": "ec986e78",
      "metadata": {
        "id": "ec986e78"
      },
      "outputs": [],
      "source": [
        "e[1][-1]='Shoes'"
      ]
    },
    {
      "cell_type": "code",
      "execution_count": null,
      "id": "d4b5c4b9",
      "metadata": {
        "colab": {
          "base_uri": "https://localhost:8080/"
        },
        "id": "d4b5c4b9",
        "outputId": "f408db23-6689-4e3c-8cf6-b592dffe8933"
      },
      "outputs": [
        {
          "output_type": "execute_result",
          "data": {
            "text/plain": [
              "[['mango', 'apple', 'cherry'], ['Shirt', 'Pant', 'Shoes']]"
            ]
          },
          "metadata": {},
          "execution_count": 113
        }
      ],
      "source": [
        "e"
      ]
    },
    {
      "cell_type": "markdown",
      "id": "79af2c41",
      "metadata": {
        "id": "79af2c41"
      },
      "source": [
        "# List comprehension"
      ]
    },
    {
      "cell_type": "markdown",
      "id": "123d0953",
      "metadata": {
        "id": "123d0953"
      },
      "source": [
        "A Python list comprehension consists of brackets containing the expression, which is executed for each element along with the for loop to iterate over each element in the Python list.\n",
        "\n",
        "Python List comprehension provides a much more short syntax for creating a new list based on the values of an existing list.\n",
        "\n"
      ]
    },
    {
      "cell_type": "code",
      "execution_count": null,
      "id": "c6aaa894",
      "metadata": {
        "id": "c6aaa894",
        "outputId": "75d55e7d-3a6f-409d-e0ec-3067230b5787",
        "colab": {
          "base_uri": "https://localhost:8080/"
        }
      },
      "outputs": [
        {
          "output_type": "execute_result",
          "data": {
            "text/plain": [
              "[2, 6, 8, 4, 2, 4, 6, 8]"
            ]
          },
          "metadata": {},
          "execution_count": 114
        }
      ],
      "source": [
        "num=[1,2,3,6,9,8,7,4,5,2,1,4,5,6,9,8,7]\n",
        "even=[]\n",
        "for i in num:\n",
        "    if i%2==0:\n",
        "        even.append(i)\n",
        "even\n"
      ]
    },
    {
      "cell_type": "code",
      "execution_count": null,
      "id": "19399f26",
      "metadata": {
        "colab": {
          "base_uri": "https://localhost:8080/"
        },
        "id": "19399f26",
        "outputId": "e81fcae8-7826-43ca-f266-c40e87612cd5"
      },
      "outputs": [
        {
          "output_type": "execute_result",
          "data": {
            "text/plain": [
              "[2, 6, 8, 4, 2, 4, 6, 8]"
            ]
          },
          "metadata": {},
          "execution_count": 115
        }
      ],
      "source": [
        "even1=[i for i in num if i%2==0]\n",
        "even1"
      ]
    },
    {
      "cell_type": "code",
      "execution_count": null,
      "id": "4a5c2eb4",
      "metadata": {
        "id": "4a5c2eb4"
      },
      "outputs": [],
      "source": [
        "even_square=[i**2 for i in num if i%2==0]"
      ]
    },
    {
      "cell_type": "code",
      "execution_count": null,
      "id": "c01bc4e5",
      "metadata": {
        "id": "c01bc4e5",
        "outputId": "7f2b9ad5-3d25-4aef-c451-563b4f244f48",
        "colab": {
          "base_uri": "https://localhost:8080/"
        }
      },
      "outputs": [
        {
          "output_type": "execute_result",
          "data": {
            "text/plain": [
              "[4, 36, 64, 16, 4, 16, 36, 64]"
            ]
          },
          "metadata": {},
          "execution_count": 117
        }
      ],
      "source": [
        "even_square"
      ]
    },
    {
      "cell_type": "code",
      "execution_count": null,
      "id": "d80a5c8b",
      "metadata": {
        "id": "d80a5c8b",
        "outputId": "f92315c6-47dd-4929-c80c-d512ad5f2c8f",
        "colab": {
          "base_uri": "https://localhost:8080/"
        }
      },
      "outputs": [
        {
          "output_type": "stream",
          "name": "stdout",
          "text": [
            "[[0, 1, 2, 3], [0, 1, 2, 3], [0, 1, 2, 3]]\n"
          ]
        }
      ],
      "source": [
        "# Nested list comprehension\n",
        "list_list = [[j for j in range(4)] for i in range(3)]\n",
        "\n",
        "print(list_list)"
      ]
    },
    {
      "cell_type": "code",
      "execution_count": null,
      "id": "299b9671",
      "metadata": {
        "id": "299b9671",
        "outputId": "ccd14bfc-07f4-440b-89da-deeeeb8b0336",
        "colab": {
          "base_uri": "https://localhost:8080/"
        }
      },
      "outputs": [
        {
          "output_type": "stream",
          "name": "stdout",
          "text": [
            "[0, 10, 20, 30, 40, 50, 60, 70, 80, 90]\n"
          ]
        }
      ],
      "source": [
        "# Nested IF with List Comprehension\n",
        "num_list = [y for y in range(100) if y % 2 == 0 if y % 5 == 0]\n",
        "print(num_list)"
      ]
    },
    {
      "cell_type": "code",
      "execution_count": null,
      "id": "dae21e3e",
      "metadata": {
        "colab": {
          "base_uri": "https://localhost:8080/"
        },
        "id": "dae21e3e",
        "outputId": "60fb3611-bd04-45b7-8ee5-0c8bdf6cab4f"
      },
      "outputs": [
        {
          "output_type": "stream",
          "name": "stdout",
          "text": [
            "['Even', 'Odd', 'Even', 'Odd', 'Even', 'Odd', 'Even', 'Odd', 'Even', 'Odd']\n"
          ]
        }
      ],
      "source": [
        "#  if...else With List Comprehension\n",
        "\n",
        "obj = [\"Even\" if i%2==0 else \"Odd\" for i in range(10)]\n",
        "print(obj)"
      ]
    },
    {
      "cell_type": "code",
      "execution_count": null,
      "id": "6574ee7b",
      "metadata": {
        "id": "6574ee7b",
        "colab": {
          "base_uri": "https://localhost:8080/"
        },
        "outputId": "6676a86c-2adb-4d46-9e48-c4f94c98aa90"
      },
      "outputs": [
        {
          "output_type": "execute_result",
          "data": {
            "text/plain": [
              "[23, 89, 9, 12, 56]"
            ]
          },
          "metadata": {},
          "execution_count": 73
        }
      ],
      "source": [
        "a = [23,89,9,12,56]\n",
        "a"
      ]
    },
    {
      "cell_type": "code",
      "source": [
        "a[::-1]"
      ],
      "metadata": {
        "colab": {
          "base_uri": "https://localhost:8080/"
        },
        "id": "N_oTVln2C0sD",
        "outputId": "2d31ef94-d6af-407d-e19b-36a5260c3644"
      },
      "id": "N_oTVln2C0sD",
      "execution_count": null,
      "outputs": [
        {
          "output_type": "execute_result",
          "data": {
            "text/plain": [
              "[56, 12, 9, 89, 23]"
            ]
          },
          "metadata": {},
          "execution_count": 77
        }
      ]
    },
    {
      "cell_type": "code",
      "source": [],
      "metadata": {
        "id": "w7-A614YDJgH"
      },
      "id": "w7-A614YDJgH",
      "execution_count": null,
      "outputs": []
    }
  ],
  "metadata": {
    "celltoolbar": "Edit Metadata",
    "kernelspec": {
      "display_name": "Python 3 (ipykernel)",
      "language": "python",
      "name": "python3"
    },
    "language_info": {
      "codemirror_mode": {
        "name": "ipython",
        "version": 3
      },
      "file_extension": ".py",
      "mimetype": "text/x-python",
      "name": "python",
      "nbconvert_exporter": "python",
      "pygments_lexer": "ipython3",
      "version": "3.9.12"
    },
    "colab": {
      "provenance": []
    }
  },
  "nbformat": 4,
  "nbformat_minor": 5
}