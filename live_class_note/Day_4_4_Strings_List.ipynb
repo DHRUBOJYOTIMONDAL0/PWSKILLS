{
  "cells": [
    {
      "cell_type": "code",
      "execution_count": null,
      "id": "caa311d1-f504-4e9e-9947-82156e9d9244",
      "metadata": {
        "id": "caa311d1-f504-4e9e-9947-82156e9d9244"
      },
      "outputs": [],
      "source": [
        "name=\"Data science Masters\""
      ]
    },
    {
      "cell_type": "code",
      "execution_count": null,
      "id": "83f4d6bb-0e46-4db1-8dcc-e52e7f547b0d",
      "metadata": {
        "id": "83f4d6bb-0e46-4db1-8dcc-e52e7f547b0d",
        "outputId": "40a1e88e-abb7-49ad-bf81-75dfbbb3110f"
      },
      "outputs": [
        {
          "data": {
            "text/plain": [
              "'dATA SCIENCE mASTERS'"
            ]
          },
          "execution_count": 3,
          "metadata": {},
          "output_type": "execute_result"
        }
      ],
      "source": [
        "name.swapcase()"
      ]
    },
    {
      "cell_type": "code",
      "execution_count": null,
      "id": "24e25ad5-0c75-47c5-a61f-ff066f072b73",
      "metadata": {
        "id": "24e25ad5-0c75-47c5-a61f-ff066f072b73",
        "outputId": "92380f67-d8fe-41de-bf23-7747f016c53f"
      },
      "outputs": [
        {
          "data": {
            "text/plain": [
              "'Data Science Masters'"
            ]
          },
          "execution_count": 4,
          "metadata": {},
          "output_type": "execute_result"
        }
      ],
      "source": [
        "name.title()"
      ]
    },
    {
      "cell_type": "code",
      "execution_count": null,
      "id": "9cbdc3d4-1c8a-4f60-9154-d888ccf659eb",
      "metadata": {
        "id": "9cbdc3d4-1c8a-4f60-9154-d888ccf659eb",
        "outputId": "66283e3c-1c38-407a-91e3-fe9fd19972b5"
      },
      "outputs": [
        {
          "data": {
            "text/plain": [
              "'Data science masters'"
            ]
          },
          "execution_count": 6,
          "metadata": {},
          "output_type": "execute_result"
        }
      ],
      "source": [
        "name.capitalize()"
      ]
    },
    {
      "cell_type": "markdown",
      "id": "6b2b9705-999f-4abf-b9a7-9c0de5ab6d87",
      "metadata": {
        "id": "6b2b9705-999f-4abf-b9a7-9c0de5ab6d87"
      },
      "source": [
        "## Reversing a String"
      ]
    },
    {
      "cell_type": "code",
      "execution_count": null,
      "id": "b7cba88f-804e-4fb8-969b-d074af168af6",
      "metadata": {
        "id": "b7cba88f-804e-4fb8-969b-d074af168af6",
        "outputId": "05354cd6-f5eb-40f8-bfed-bcd84eae94de"
      },
      "outputs": [
        {
          "data": {
            "text/plain": [
              "'sretsaM ecneics ataD'"
            ]
          },
          "execution_count": 7,
          "metadata": {},
          "output_type": "execute_result"
        }
      ],
      "source": [
        "name[::-1]"
      ]
    },
    {
      "cell_type": "code",
      "execution_count": null,
      "id": "0f2a87ef-4fda-402a-9511-035ee301ded8",
      "metadata": {
        "id": "0f2a87ef-4fda-402a-9511-035ee301ded8",
        "outputId": "ef4df04f-1e8f-46ad-dd76-c15d940733e6"
      },
      "outputs": [
        {
          "data": {
            "text/plain": [
              "'s r e t s a M   e c n e i c s   a t a D'"
            ]
          },
          "execution_count": 10,
          "metadata": {},
          "output_type": "execute_result"
        }
      ],
      "source": [
        "' '.join(reversed(name))"
      ]
    },
    {
      "cell_type": "code",
      "execution_count": null,
      "id": "0228a3fa-c866-40a2-8a84-96e8c905993d",
      "metadata": {
        "id": "0228a3fa-c866-40a2-8a84-96e8c905993d",
        "outputId": "cd9b29af-9b92-4518-9832-ba19190b8aeb"
      },
      "outputs": [
        {
          "data": {
            "text/plain": [
              "'a b c d'"
            ]
          },
          "execution_count": 14,
          "metadata": {},
          "output_type": "execute_result"
        }
      ],
      "source": [
        "\" \".join(\"abcd\")"
      ]
    },
    {
      "cell_type": "code",
      "execution_count": null,
      "id": "75ffa268-d723-420b-9dc9-31b01d78fe42",
      "metadata": {
        "id": "75ffa268-d723-420b-9dc9-31b01d78fe42",
        "outputId": "ed438abd-3025-4144-9bc0-fdbedbb39314"
      },
      "outputs": [
        {
          "data": {
            "text/plain": [
              "'tna'"
            ]
          },
          "execution_count": 17,
          "metadata": {},
          "output_type": "execute_result"
        }
      ],
      "source": [
        "' '.join(reversed(\"ant\"))"
      ]
    },
    {
      "cell_type": "code",
      "execution_count": null,
      "id": "66a06ae5-4cfd-4255-8ec0-08dd4359a4e0",
      "metadata": {
        "id": "66a06ae5-4cfd-4255-8ec0-08dd4359a4e0",
        "outputId": "c42ef1e6-4956-4c55-8afb-a5724de080e9"
      },
      "outputs": [
        {
          "data": {
            "text/plain": [
              "'t Pwskills n Pwskills a'"
            ]
          },
          "execution_count": 18,
          "metadata": {},
          "output_type": "execute_result"
        }
      ],
      "source": [
        "' Pwskills '.join(reversed(\"ant\"))"
      ]
    },
    {
      "cell_type": "code",
      "execution_count": null,
      "id": "24dd5fee-d069-485d-8fac-26b232fb5a38",
      "metadata": {
        "id": "24dd5fee-d069-485d-8fac-26b232fb5a38",
        "outputId": "e5ee33ac-f347-4271-ac70-857208f4ca5e"
      },
      "outputs": [
        {
          "data": {
            "text/plain": [
              "['t', 'n', 'a']"
            ]
          },
          "execution_count": 22,
          "metadata": {},
          "output_type": "execute_result"
        }
      ],
      "source": [
        "## typecasting\n",
        "list(reversed(\"ant\"))"
      ]
    },
    {
      "cell_type": "code",
      "execution_count": null,
      "id": "efc6c9e7-0e12-4c6b-87b5-0bd2e815454c",
      "metadata": {
        "id": "efc6c9e7-0e12-4c6b-87b5-0bd2e815454c"
      },
      "outputs": [],
      "source": [
        "str1=\"PW is a good company\""
      ]
    },
    {
      "cell_type": "code",
      "execution_count": null,
      "id": "1a6b0343-c0f0-4901-8030-55a421463cd5",
      "metadata": {
        "id": "1a6b0343-c0f0-4901-8030-55a421463cd5"
      },
      "outputs": [],
      "source": [
        "reversed()"
      ]
    },
    {
      "cell_type": "code",
      "execution_count": null,
      "id": "acf981d5-cf92-4fd6-b9e0-61e5026000ac",
      "metadata": {
        "id": "acf981d5-cf92-4fd6-b9e0-61e5026000ac",
        "outputId": "06ad2349-36cc-4a03-abf3-c777c8034453"
      },
      "outputs": [
        {
          "data": {
            "text/plain": [
              "['t', 'n', 'a']"
            ]
          },
          "execution_count": 25,
          "metadata": {},
          "output_type": "execute_result"
        }
      ],
      "source": [
        "## typecasting\n",
        "list(reversed(\"ant\"))"
      ]
    },
    {
      "cell_type": "code",
      "execution_count": null,
      "id": "bc219a40-680b-4ac8-b566-04f5c2442493",
      "metadata": {
        "id": "bc219a40-680b-4ac8-b566-04f5c2442493",
        "outputId": "5fe50348-1ab7-42c3-8c63-ad7a1a4ce629"
      },
      "outputs": [
        {
          "name": "stdout",
          "output_type": "stream",
          "text": [
            "sretsaM ecneics ataD"
          ]
        }
      ],
      "source": [
        "for i in list(reversed(name)):\n",
        "    print(i,end='')\n"
      ]
    },
    {
      "cell_type": "code",
      "execution_count": null,
      "id": "03a29a7f-352e-49f5-a696-24220fd51aee",
      "metadata": {
        "id": "03a29a7f-352e-49f5-a696-24220fd51aee"
      },
      "outputs": [],
      "source": [
        "## Removing character from the end of the string"
      ]
    },
    {
      "cell_type": "code",
      "execution_count": null,
      "id": "703cb830-8b53-4577-b36d-b22c142dfae8",
      "metadata": {
        "id": "703cb830-8b53-4577-b36d-b22c142dfae8"
      },
      "outputs": [],
      "source": [
        "string_a=\" pwskills \""
      ]
    },
    {
      "cell_type": "code",
      "execution_count": null,
      "id": "204f42cf-9181-4acf-a406-f536d89adf27",
      "metadata": {
        "id": "204f42cf-9181-4acf-a406-f536d89adf27",
        "outputId": "5935f419-4215-4aa1-8c9f-7bbf3bf524a9"
      },
      "outputs": [
        {
          "data": {
            "text/plain": [
              "'pwskills'"
            ]
          },
          "execution_count": 30,
          "metadata": {},
          "output_type": "execute_result"
        }
      ],
      "source": [
        "string_a.strip(\" \")"
      ]
    },
    {
      "cell_type": "code",
      "execution_count": null,
      "id": "1281312d-c012-4459-b118-41841157f762",
      "metadata": {
        "id": "1281312d-c012-4459-b118-41841157f762",
        "outputId": "9bbeb322-bf5a-4657-c53a-c2dbd098d6d1"
      },
      "outputs": [
        {
          "data": {
            "text/plain": [
              "'pwskills '"
            ]
          },
          "execution_count": 31,
          "metadata": {},
          "output_type": "execute_result"
        }
      ],
      "source": [
        "string_a.lstrip(\" \")"
      ]
    },
    {
      "cell_type": "code",
      "execution_count": null,
      "id": "2b971109-46b5-497c-b5f2-4a1c3cfb599d",
      "metadata": {
        "id": "2b971109-46b5-497c-b5f2-4a1c3cfb599d",
        "outputId": "d8be181c-2604-4855-b545-2101088113de"
      },
      "outputs": [
        {
          "data": {
            "text/plain": [
              "' pwskills'"
            ]
          },
          "execution_count": 32,
          "metadata": {},
          "output_type": "execute_result"
        }
      ],
      "source": [
        "string_a.rstrip(\" \")"
      ]
    },
    {
      "cell_type": "code",
      "execution_count": null,
      "id": "5c11eeae-6c5a-422b-8afd-520250e70754",
      "metadata": {
        "id": "5c11eeae-6c5a-422b-8afd-520250e70754",
        "outputId": "9ecade67-0a4c-452a-df64-2907482caa49"
      },
      "outputs": [
        {
          "data": {
            "text/plain": [
              "'Welcome to Pwskills'"
            ]
          },
          "execution_count": 37,
          "metadata": {},
          "output_type": "execute_result"
        }
      ],
      "source": [
        "string_n=\"Greeting to Pwskills\"\n",
        "string_n.replace(\"Greeting\",\"Welcome\")"
      ]
    },
    {
      "cell_type": "code",
      "execution_count": null,
      "id": "fa7a6df4-886c-4fe1-9df4-4393acc0a3a7",
      "metadata": {
        "id": "fa7a6df4-886c-4fe1-9df4-4393acc0a3a7"
      },
      "outputs": [],
      "source": [
        "name=\"Krish\""
      ]
    },
    {
      "cell_type": "code",
      "execution_count": null,
      "id": "d1004bba-d3f3-4554-b406-f54647aa67d1",
      "metadata": {
        "id": "d1004bba-d3f3-4554-b406-f54647aa67d1"
      },
      "outputs": [],
      "source": [
        "name=\"pwskills\""
      ]
    },
    {
      "cell_type": "code",
      "execution_count": null,
      "id": "fdb96191-9479-43cb-aac4-b0daaa628b60",
      "metadata": {
        "id": "fdb96191-9479-43cb-aac4-b0daaa628b60",
        "outputId": "c9501225-5844-4451-b027-2ac83790aec9"
      },
      "outputs": [
        {
          "ename": "TypeError",
          "evalue": "'str' object does not support item assignment",
          "output_type": "error",
          "traceback": [
            "\u001b[0;31m---------------------------------------------------------------------------\u001b[0m",
            "\u001b[0;31mTypeError\u001b[0m                                 Traceback (most recent call last)",
            "Cell \u001b[0;32mIn[36], line 1\u001b[0m\n\u001b[0;32m----> 1\u001b[0m \u001b[43mname\u001b[49m\u001b[43m[\u001b[49m\u001b[38;5;241;43m0\u001b[39;49m\u001b[43m]\u001b[49m\u001b[38;5;241m=\u001b[39m\u001b[38;5;124m\"\u001b[39m\u001b[38;5;124mk\u001b[39m\u001b[38;5;124m\"\u001b[39m\n",
            "\u001b[0;31mTypeError\u001b[0m: 'str' object does not support item assignment"
          ]
        }
      ],
      "source": [
        "name[0]=\"k\""
      ]
    },
    {
      "cell_type": "code",
      "execution_count": null,
      "id": "06337072-7e86-42a8-afe4-2aae97865ff8",
      "metadata": {
        "id": "06337072-7e86-42a8-afe4-2aae97865ff8"
      },
      "outputs": [],
      "source": [
        "string_n=\"Greeting to Pwskills\"\n",
        "var_a=string_n.replace(\"G\",\"T\")"
      ]
    },
    {
      "cell_type": "code",
      "execution_count": null,
      "id": "9453e506-abb2-40d4-890f-1c5a30cfead1",
      "metadata": {
        "id": "9453e506-abb2-40d4-890f-1c5a30cfead1",
        "outputId": "6cc2a48f-7f9c-452f-af5a-fb45eb64811c"
      },
      "outputs": [
        {
          "name": "stdout",
          "output_type": "stream",
          "text": [
            "140496513531328\n",
            "140496507478592\n"
          ]
        }
      ],
      "source": [
        "print(id(string_n))\n",
        "print(id(var_a))"
      ]
    },
    {
      "cell_type": "code",
      "execution_count": null,
      "id": "015f352e-67c8-48f3-a28e-c3dafe744286",
      "metadata": {
        "id": "015f352e-67c8-48f3-a28e-c3dafe744286",
        "outputId": "41177130-fcbe-4615-f4ef-6dd46f9f3d41"
      },
      "outputs": [
        {
          "data": {
            "text/plain": [
              "'hello world'"
            ]
          },
          "execution_count": 41,
          "metadata": {},
          "output_type": "execute_result"
        }
      ],
      "source": [
        "'hello world'"
      ]
    },
    {
      "cell_type": "code",
      "execution_count": null,
      "id": "8e8d250f-3bb1-401c-ad99-03995235a8ea",
      "metadata": {
        "id": "8e8d250f-3bb1-401c-ad99-03995235a8ea",
        "outputId": "5c741683-ad43-47bc-bb2e-352a5685ade5"
      },
      "outputs": [
        {
          "data": {
            "text/plain": [
              "'test gmail.com'"
            ]
          },
          "execution_count": 42,
          "metadata": {},
          "output_type": "execute_result"
        }
      ],
      "source": [
        "string_n=\"test@gmail.com\"\n",
        "var_a=string_n.replace(\"@\",\" \")\n",
        "var_a"
      ]
    },
    {
      "cell_type": "code",
      "execution_count": null,
      "id": "1fc572e4-b63c-47f4-b096-28091af4c69a",
      "metadata": {
        "id": "1fc572e4-b63c-47f4-b096-28091af4c69a",
        "outputId": "6db2398c-5da6-4a28-931a-fcffab3bba82"
      },
      "outputs": [
        {
          "data": {
            "text/plain": [
              "'hello   world'"
            ]
          },
          "execution_count": 46,
          "metadata": {},
          "output_type": "execute_result"
        }
      ],
      "source": [
        "'hello \\tworld'.expandtabs()"
      ]
    },
    {
      "cell_type": "code",
      "execution_count": null,
      "id": "7209b6f0-e91b-4027-8836-52767c2cc024",
      "metadata": {
        "id": "7209b6f0-e91b-4027-8836-52767c2cc024"
      },
      "outputs": [],
      "source": [
        "str1=\"Welcome to pwskills.Welcome to Dat cience Masters\""
      ]
    },
    {
      "cell_type": "code",
      "execution_count": null,
      "id": "e209c201-1db4-43de-a147-cb2eeaff9dc0",
      "metadata": {
        "id": "e209c201-1db4-43de-a147-cb2eeaff9dc0",
        "outputId": "c5b84a55-b384-4187-9c3e-260be05f4e6d"
      },
      "outputs": [
        {
          "data": {
            "text/plain": [
              "'Welcome to pwskills.Welcome to Data Science Masters'"
            ]
          },
          "execution_count": 49,
          "metadata": {},
          "output_type": "execute_result"
        }
      ],
      "source": [
        "str1.replace(\"Dat\",\"Data\").replace(\"cience\",\"Science\")"
      ]
    },
    {
      "cell_type": "code",
      "execution_count": null,
      "id": "d539fe69-8b87-4289-830c-524fec6c80e2",
      "metadata": {
        "id": "d539fe69-8b87-4289-830c-524fec6c80e2",
        "outputId": "9cd43ec9-75a2-4a30-a497-aee8d01459c8"
      },
      "outputs": [
        {
          "data": {
            "text/plain": [
              "'Welcome to pwskills.Welcome to Dat cience Masters'"
            ]
          },
          "execution_count": 51,
          "metadata": {},
          "output_type": "execute_result"
        }
      ],
      "source": [
        "str1"
      ]
    },
    {
      "cell_type": "code",
      "execution_count": null,
      "id": "63abe93f-3b7d-4ba0-83e8-4765df712b9e",
      "metadata": {
        "id": "63abe93f-3b7d-4ba0-83e8-4765df712b9e",
        "outputId": "0368e4c8-e752-4969-838e-d5e38f243a10"
      },
      "outputs": [
        {
          "data": {
            "text/plain": [
              "False"
            ]
          },
          "execution_count": 52,
          "metadata": {},
          "output_type": "execute_result"
        }
      ],
      "source": [
        "str1.isupper()"
      ]
    },
    {
      "cell_type": "code",
      "execution_count": null,
      "id": "257bbed0-3489-4d88-b5c1-4fbf33c315c9",
      "metadata": {
        "id": "257bbed0-3489-4d88-b5c1-4fbf33c315c9"
      },
      "outputs": [],
      "source": [
        "str1=\"KRISH\""
      ]
    },
    {
      "cell_type": "code",
      "execution_count": null,
      "id": "4b568c89-804b-4960-bdda-ae631e294aaf",
      "metadata": {
        "id": "4b568c89-804b-4960-bdda-ae631e294aaf",
        "outputId": "55d74a6d-679e-4fe8-a8b1-084260c3a16a"
      },
      "outputs": [
        {
          "data": {
            "text/plain": [
              "True"
            ]
          },
          "execution_count": 54,
          "metadata": {},
          "output_type": "execute_result"
        }
      ],
      "source": [
        "str1.isupper()"
      ]
    },
    {
      "cell_type": "code",
      "execution_count": null,
      "id": "97a64c1c-500c-4616-836f-b3c38f33882f",
      "metadata": {
        "id": "97a64c1c-500c-4616-836f-b3c38f33882f",
        "outputId": "5a3cea84-a8fe-4c4e-dbd8-3ef29aa1eb5b"
      },
      "outputs": [
        {
          "data": {
            "text/plain": [
              "False"
            ]
          },
          "execution_count": 55,
          "metadata": {},
          "output_type": "execute_result"
        }
      ],
      "source": [
        "str1.islower()"
      ]
    },
    {
      "cell_type": "code",
      "execution_count": null,
      "id": "f4f6f985-6a8a-4400-8964-c8c7a6fc4a46",
      "metadata": {
        "id": "f4f6f985-6a8a-4400-8964-c8c7a6fc4a46",
        "outputId": "ac3aa071-5a83-4a7b-9341-d2b6294753e8"
      },
      "outputs": [
        {
          "data": {
            "text/plain": [
              "True"
            ]
          },
          "execution_count": 57,
          "metadata": {},
          "output_type": "execute_result"
        }
      ],
      "source": [
        "' '.isspace()"
      ]
    },
    {
      "cell_type": "code",
      "execution_count": null,
      "id": "e6275e5a-2486-4a66-9e2c-b1aff8a294bc",
      "metadata": {
        "id": "e6275e5a-2486-4a66-9e2c-b1aff8a294bc",
        "outputId": "dbd349f0-405e-45e6-ada0-3d8d95ffa457"
      },
      "outputs": [
        {
          "name": "stdout",
          "output_type": "stream",
          "text": [
            "Hello\n"
          ]
        }
      ],
      "source": [
        "if \" \".isspace():\n",
        "    print(\"Hello\")"
      ]
    },
    {
      "cell_type": "code",
      "execution_count": null,
      "id": "77126e9f-dadb-4072-add6-56a93f50b9af",
      "metadata": {
        "id": "77126e9f-dadb-4072-add6-56a93f50b9af"
      },
      "outputs": [],
      "source": [
        "str2=\"pwskills\""
      ]
    },
    {
      "cell_type": "code",
      "execution_count": null,
      "id": "b35c91fa-23b3-4760-9ca9-82302ce37635",
      "metadata": {
        "id": "b35c91fa-23b3-4760-9ca9-82302ce37635",
        "outputId": "c717e93b-2784-442d-deea-10bda633b55f"
      },
      "outputs": [
        {
          "data": {
            "text/plain": [
              "True"
            ]
          },
          "execution_count": 60,
          "metadata": {},
          "output_type": "execute_result"
        }
      ],
      "source": [
        "str2.endswith('s')"
      ]
    },
    {
      "cell_type": "code",
      "execution_count": null,
      "id": "73838707-4eaf-4a2d-8faa-80ec4b86e957",
      "metadata": {
        "id": "73838707-4eaf-4a2d-8faa-80ec4b86e957",
        "outputId": "fce6cbb7-972b-4bb8-e9cf-e65955006a5d"
      },
      "outputs": [
        {
          "data": {
            "text/plain": [
              "True"
            ]
          },
          "execution_count": 61,
          "metadata": {},
          "output_type": "execute_result"
        }
      ],
      "source": [
        "str2.startswith('p')"
      ]
    },
    {
      "cell_type": "code",
      "execution_count": null,
      "id": "624435ae-fb7b-4f14-8132-89c9ccaaec4b",
      "metadata": {
        "id": "624435ae-fb7b-4f14-8132-89c9ccaaec4b",
        "outputId": "0726f22d-e284-4c80-cc80-9df5cc676569"
      },
      "outputs": [
        {
          "data": {
            "text/plain": [
              "True"
            ]
          },
          "execution_count": 62,
          "metadata": {},
          "output_type": "execute_result"
        }
      ],
      "source": [
        "## check if all the char in string are alphanumeric\n",
        "a=\"abcd1234\"\n",
        "a.isalnum()"
      ]
    },
    {
      "cell_type": "code",
      "execution_count": null,
      "id": "29f7f16e-25a2-4ddd-9e25-1c964be1e606",
      "metadata": {
        "id": "29f7f16e-25a2-4ddd-9e25-1c964be1e606"
      },
      "outputs": [],
      "source": [
        "## to count the number of character in the strings"
      ]
    },
    {
      "cell_type": "code",
      "execution_count": null,
      "id": "8e978e67-40ad-496d-bf4f-3802741c3af5",
      "metadata": {
        "id": "8e978e67-40ad-496d-bf4f-3802741c3af5",
        "outputId": "c4a4943b-a3b9-4da1-fd3f-092f7e877f60"
      },
      "outputs": [
        {
          "name": "stdout",
          "output_type": "stream",
          "text": [
            "8\n"
          ]
        }
      ],
      "source": [
        "count=0\n",
        "for i in str2:\n",
        "    count=count+1\n",
        "\n",
        "print(count)"
      ]
    },
    {
      "cell_type": "code",
      "execution_count": null,
      "id": "3a648f2a-fbbf-4db7-b46b-c2d641b66a34",
      "metadata": {
        "id": "3a648f2a-fbbf-4db7-b46b-c2d641b66a34",
        "outputId": "ebb83745-2ff8-4117-8e06-3db4dee3d0c6"
      },
      "outputs": [
        {
          "data": {
            "text/plain": [
              "8"
            ]
          },
          "execution_count": 65,
          "metadata": {},
          "output_type": "execute_result"
        }
      ],
      "source": [
        "len(str2)"
      ]
    },
    {
      "cell_type": "code",
      "execution_count": null,
      "id": "2b7bc49d-a4c8-41dd-84b5-0b680267902b",
      "metadata": {
        "id": "2b7bc49d-a4c8-41dd-84b5-0b680267902b",
        "outputId": "ace96e6a-4223-4897-d13f-d9db2f141bc0"
      },
      "outputs": [
        {
          "data": {
            "text/plain": [
              "'pwskills'"
            ]
          },
          "execution_count": 66,
          "metadata": {},
          "output_type": "execute_result"
        }
      ],
      "source": [
        "str2"
      ]
    },
    {
      "cell_type": "code",
      "execution_count": null,
      "id": "47ee2c70-9747-4dae-bbcc-8f3ac58c9a4f",
      "metadata": {
        "id": "47ee2c70-9747-4dae-bbcc-8f3ac58c9a4f",
        "outputId": "4d2216f0-cd4c-48f8-d523-6be3db929be8"
      },
      "outputs": [
        {
          "name": "stdout",
          "output_type": "stream",
          "text": [
            "p\n",
            "w\n",
            "s\n",
            "k\n",
            "i\n",
            "l\n",
            "l\n",
            "s\n"
          ]
        }
      ],
      "source": [
        "for i in str2:\n",
        "    print(i)"
      ]
    },
    {
      "cell_type": "code",
      "execution_count": null,
      "id": "459c3d34-8d7d-4203-a7c8-a8a951844d57",
      "metadata": {
        "id": "459c3d34-8d7d-4203-a7c8-a8a951844d57",
        "outputId": "ad2d71c1-ec37-4140-f116-f6cdba32a170"
      },
      "outputs": [
        {
          "data": {
            "text/plain": [
              "range(0, 8)"
            ]
          },
          "execution_count": 69,
          "metadata": {},
          "output_type": "execute_result"
        }
      ],
      "source": [
        "range(len(str2))"
      ]
    },
    {
      "cell_type": "code",
      "execution_count": null,
      "id": "3ff9c489-09e9-4e56-b81a-159022d36bca",
      "metadata": {
        "id": "3ff9c489-09e9-4e56-b81a-159022d36bca",
        "outputId": "0022b32b-81ea-4ee7-e348-eacbf283a940"
      },
      "outputs": [
        {
          "name": "stdout",
          "output_type": "stream",
          "text": [
            "0 = p\n",
            "1 = w\n",
            "2 = s\n",
            "3 = k\n",
            "4 = i\n",
            "5 = l\n",
            "6 = l\n",
            "7 = s\n"
          ]
        }
      ],
      "source": [
        "for i in range(len(str2)):\n",
        "    print(i,\"=\",str2[i])"
      ]
    },
    {
      "cell_type": "code",
      "execution_count": null,
      "id": "5986e51f-1c78-4f08-8dcf-3043b9da2e08",
      "metadata": {
        "id": "5986e51f-1c78-4f08-8dcf-3043b9da2e08"
      },
      "outputs": [],
      "source": [
        "# We can use index to iterate string reverse direction"
      ]
    },
    {
      "cell_type": "code",
      "execution_count": null,
      "id": "b2e0b9a1-036b-4138-94d4-82d0042fb64a",
      "metadata": {
        "id": "b2e0b9a1-036b-4138-94d4-82d0042fb64a",
        "outputId": "c8c7fda5-fb13-493e-a4e3-c53188b7ac2e"
      },
      "outputs": [
        {
          "data": {
            "text/plain": [
              "7"
            ]
          },
          "execution_count": 73,
          "metadata": {},
          "output_type": "execute_result"
        }
      ],
      "source": [
        "len(str2)-1"
      ]
    },
    {
      "cell_type": "code",
      "execution_count": null,
      "id": "47d3e009-4213-4c8c-bd3d-4ba6fc1a209b",
      "metadata": {
        "id": "47d3e009-4213-4c8c-bd3d-4ba6fc1a209b",
        "outputId": "5d41e933-d7a0-435f-9aa2-c796b4df6bfb"
      },
      "outputs": [
        {
          "name": "stdout",
          "output_type": "stream",
          "text": [
            "s\n",
            "l\n",
            "l\n",
            "i\n",
            "k\n",
            "s\n",
            "w\n",
            "p\n"
          ]
        }
      ],
      "source": [
        "for i in range(len(str2)-1,-1,-1):\n",
        "    print(str2[i])\n"
      ]
    },
    {
      "cell_type": "code",
      "execution_count": null,
      "id": "37fa5f0c-fae6-4b84-acc3-47c0031e2ea3",
      "metadata": {
        "id": "37fa5f0c-fae6-4b84-acc3-47c0031e2ea3",
        "outputId": "2c9c5981-7b08-4ae3-964c-1abf4da2b41a"
      },
      "outputs": [
        {
          "data": {
            "text/plain": [
              "7"
            ]
          },
          "execution_count": 77,
          "metadata": {},
          "output_type": "execute_result"
        }
      ],
      "source": [
        "string=\"pwskills\"\n",
        "ch=len(string)-1\n",
        "ch"
      ]
    },
    {
      "cell_type": "code",
      "execution_count": null,
      "id": "06e319d4-1640-4179-94be-3dc7b72bca6d",
      "metadata": {
        "id": "06e319d4-1640-4179-94be-3dc7b72bca6d",
        "outputId": "1570e012-22a2-4f2e-da8a-2d2d512c2955"
      },
      "outputs": [
        {
          "data": {
            "text/plain": [
              "('s', 'l', 'l')"
            ]
          },
          "execution_count": 80,
          "metadata": {},
          "output_type": "execute_result"
        }
      ],
      "source": [
        "string[7],string[6],string[5]"
      ]
    },
    {
      "cell_type": "code",
      "execution_count": null,
      "id": "23e15c57-3cc7-4a65-a88c-1cf30fe675f7",
      "metadata": {
        "id": "23e15c57-3cc7-4a65-a88c-1cf30fe675f7",
        "outputId": "f694a384-ef90-4ad7-af5f-977034222c95"
      },
      "outputs": [
        {
          "data": {
            "text/plain": [
              "7"
            ]
          },
          "execution_count": 75,
          "metadata": {},
          "output_type": "execute_result"
        }
      ],
      "source": [
        "while ch>=0:\n",
        "    print(string[ch])\n",
        "    ch=ch-1"
      ]
    },
    {
      "cell_type": "code",
      "execution_count": null,
      "id": "c1164220-684f-4e54-a761-be49eefbb20c",
      "metadata": {
        "id": "c1164220-684f-4e54-a761-be49eefbb20c",
        "outputId": "9facac4b-7980-4fb3-ba6a-3ad39d0a5595"
      },
      "outputs": [
        {
          "name": "stdout",
          "output_type": "stream",
          "text": [
            "sllikswp"
          ]
        }
      ],
      "source": [
        "#Best solution\n",
        "for i in range(len(string)):\n",
        "     print(string[len(string) - (i+1)],end=\"\")\n"
      ]
    },
    {
      "cell_type": "code",
      "execution_count": null,
      "id": "395e4c35-fb43-4cf0-a403-b197c9692533",
      "metadata": {
        "id": "395e4c35-fb43-4cf0-a403-b197c9692533"
      },
      "outputs": [],
      "source": [
        "Name = \"pwskills\"\n",
        "vowels = \"AaEeIiOoUu\""
      ]
    },
    {
      "cell_type": "code",
      "execution_count": null,
      "id": "97261d1b-1bac-444d-889e-476171e76b91",
      "metadata": {
        "id": "97261d1b-1bac-444d-889e-476171e76b91",
        "outputId": "7f9a17c0-43d1-43e0-b409-df67bd69a93e"
      },
      "outputs": [
        {
          "name": "stdout",
          "output_type": "stream",
          "text": [
            "p is not a vowel\n",
            "w is not a vowel\n",
            "s is not a vowel\n",
            "k is not a vowel\n",
            "i is a vowel\n",
            "l is not a vowel\n",
            "l is not a vowel\n",
            "s is not a vowel\n"
          ]
        }
      ],
      "source": [
        "for ch in Name:\n",
        "    if ch in vowels:\n",
        "        print(\"{} is a vowel\".format(ch))\n",
        "    else:\n",
        "        print(\"{} is not a vowel\".format(ch))"
      ]
    },
    {
      "cell_type": "markdown",
      "id": "5d9c75ff-73f2-4e88-95ac-d2724aabee29",
      "metadata": {
        "id": "5d9c75ff-73f2-4e88-95ac-d2724aabee29"
      },
      "source": [
        "## List"
      ]
    },
    {
      "cell_type": "code",
      "execution_count": null,
      "id": "34ea23f1-ee07-4262-b096-ed4e1a153ce8",
      "metadata": {
        "id": "34ea23f1-ee07-4262-b096-ed4e1a153ce8",
        "outputId": "08a073b3-2ee5-4721-e216-c9844dd5e740"
      },
      "outputs": [
        {
          "data": {
            "text/plain": [
              "list"
            ]
          },
          "execution_count": 89,
          "metadata": {},
          "output_type": "execute_result"
        }
      ],
      "source": [
        "type([])"
      ]
    },
    {
      "cell_type": "code",
      "execution_count": null,
      "id": "1e1f832c-f3f0-40c0-947a-70aa9e76904b",
      "metadata": {
        "id": "1e1f832c-f3f0-40c0-947a-70aa9e76904b",
        "outputId": "a75fb948-9ff3-4f0a-dd69-99c562bb39da"
      },
      "outputs": [
        {
          "data": {
            "text/plain": [
              "['Krish', 'Naik', 'Pwskills', 32]"
            ]
          },
          "execution_count": 90,
          "metadata": {},
          "output_type": "execute_result"
        }
      ],
      "source": [
        "[\"Krish\",\"Naik\",\"Pwskills\",32]"
      ]
    },
    {
      "cell_type": "code",
      "execution_count": null,
      "id": "9436cb77-e161-4046-9d42-a0a291408e91",
      "metadata": {
        "id": "9436cb77-e161-4046-9d42-a0a291408e91",
        "outputId": "aa507f3e-2e98-4030-bcee-0f6e93ffcc2e"
      },
      "outputs": [
        {
          "data": {
            "text/plain": [
              "[1, 2, 3, 4, 5]"
            ]
          },
          "execution_count": 91,
          "metadata": {},
          "output_type": "execute_result"
        }
      ],
      "source": [
        "list([1,2,3,4,5])"
      ]
    },
    {
      "cell_type": "code",
      "execution_count": null,
      "id": "396162c6-d896-4e58-84ce-33ff9c750e2d",
      "metadata": {
        "id": "396162c6-d896-4e58-84ce-33ff9c750e2d",
        "outputId": "cd3a4491-282e-4b27-845e-8268e455b4ad"
      },
      "outputs": [
        {
          "data": {
            "text/plain": [
              "'pwskills'"
            ]
          },
          "execution_count": 93,
          "metadata": {},
          "output_type": "execute_result"
        }
      ],
      "source": [
        "str2"
      ]
    },
    {
      "cell_type": "code",
      "execution_count": null,
      "id": "c80b070a-4fe5-4676-a962-d8bb57a35021",
      "metadata": {
        "id": "c80b070a-4fe5-4676-a962-d8bb57a35021",
        "outputId": "1e07d360-30db-44be-a3e1-4da6c69f3b00"
      },
      "outputs": [
        {
          "data": {
            "text/plain": [
              "['p', 'w', 's', 'k', 'i', 'l', 'l', 's']"
            ]
          },
          "execution_count": 94,
          "metadata": {},
          "output_type": "execute_result"
        }
      ],
      "source": [
        "list(str2)"
      ]
    },
    {
      "cell_type": "code",
      "execution_count": null,
      "id": "782b3916-fb13-4133-93eb-50f43eae0280",
      "metadata": {
        "id": "782b3916-fb13-4133-93eb-50f43eae0280"
      },
      "outputs": [],
      "source": [
        "str1=\"PW skills Data science masters\""
      ]
    },
    {
      "cell_type": "code",
      "execution_count": null,
      "id": "1bc366f1-ec0b-4f64-a047-ccc8554b645c",
      "metadata": {
        "id": "1bc366f1-ec0b-4f64-a047-ccc8554b645c",
        "outputId": "8056af03-a249-4714-8e8b-05fd512cfce4"
      },
      "outputs": [
        {
          "data": {
            "text/plain": [
              "['PW', 'skills', 'Data', 'science', 'masters']"
            ]
          },
          "execution_count": 96,
          "metadata": {},
          "output_type": "execute_result"
        }
      ],
      "source": [
        "list(str1.split(\" \"))"
      ]
    },
    {
      "cell_type": "code",
      "execution_count": null,
      "id": "558e7dc7-255d-4bb2-b877-b50cdc1ee9f0",
      "metadata": {
        "id": "558e7dc7-255d-4bb2-b877-b50cdc1ee9f0"
      },
      "outputs": [],
      "source": [
        "lst1=str1.split(\" \")"
      ]
    },
    {
      "cell_type": "code",
      "execution_count": null,
      "id": "2de9a3d7-1905-4ce9-b9ad-1174093f28b9",
      "metadata": {
        "id": "2de9a3d7-1905-4ce9-b9ad-1174093f28b9",
        "outputId": "fabf1daf-423f-46e7-cb97-b6f014a6574e"
      },
      "outputs": [
        {
          "data": {
            "text/plain": [
              "['skills', 'Data', 'science', 'masters']"
            ]
          },
          "execution_count": 101,
          "metadata": {},
          "output_type": "execute_result"
        }
      ],
      "source": [
        "lst1[1:]"
      ]
    },
    {
      "cell_type": "code",
      "execution_count": null,
      "id": "ab21d66b-cf2e-47bf-8766-235d37d918e8",
      "metadata": {
        "id": "ab21d66b-cf2e-47bf-8766-235d37d918e8"
      },
      "outputs": [],
      "source": [
        "lst1[2]=\"Datas\""
      ]
    },
    {
      "cell_type": "code",
      "execution_count": null,
      "id": "be2542ed-9820-4928-9d38-af351b27a56b",
      "metadata": {
        "id": "be2542ed-9820-4928-9d38-af351b27a56b",
        "outputId": "17a8c2b4-d1c0-4b15-9a6a-54320d18b57f"
      },
      "outputs": [
        {
          "data": {
            "text/plain": [
              "['PW', 'skills', 'Datas', 'science', 'masters']"
            ]
          },
          "execution_count": 104,
          "metadata": {},
          "output_type": "execute_result"
        }
      ],
      "source": [
        "lst1"
      ]
    },
    {
      "cell_type": "code",
      "execution_count": null,
      "id": "67eebcc9-97c7-4ab1-9644-7e49df22cb2e",
      "metadata": {
        "id": "67eebcc9-97c7-4ab1-9644-7e49df22cb2e",
        "outputId": "3329c67b-48d7-496d-8a64-7fa00a50bdda"
      },
      "outputs": [
        {
          "data": {
            "text/plain": [
              "['masters', 'Datas', 'PW']"
            ]
          },
          "execution_count": 108,
          "metadata": {},
          "output_type": "execute_result"
        }
      ],
      "source": [
        "lst1[::-2]"
      ]
    },
    {
      "cell_type": "code",
      "execution_count": null,
      "id": "81aa852e-fbd4-4c58-9f5b-94658abe409e",
      "metadata": {
        "id": "81aa852e-fbd4-4c58-9f5b-94658abe409e",
        "outputId": "42b078e8-18fb-406a-f927-fed417c1982a"
      },
      "outputs": [
        {
          "data": {
            "text/plain": [
              "['PW']"
            ]
          },
          "execution_count": 112,
          "metadata": {},
          "output_type": "execute_result"
        }
      ],
      "source": [
        "lst1[-5::-2]"
      ]
    },
    {
      "cell_type": "code",
      "execution_count": null,
      "id": "afff9864-9cd6-4382-af08-520707e3e4ef",
      "metadata": {
        "id": "afff9864-9cd6-4382-af08-520707e3e4ef",
        "outputId": "4e17981e-f8a2-4f35-854a-8c1339fe51ad"
      },
      "outputs": [
        {
          "data": {
            "text/plain": [
              "['PW', 'skills', 'Datas', 'science', 'masters']"
            ]
          },
          "execution_count": 114,
          "metadata": {},
          "output_type": "execute_result"
        }
      ],
      "source": [
        "lst1"
      ]
    },
    {
      "cell_type": "code",
      "execution_count": null,
      "id": "8c136007-e5c4-4286-ad01-1c298276ab9d",
      "metadata": {
        "id": "8c136007-e5c4-4286-ad01-1c298276ab9d",
        "outputId": "c1d4ed1e-9bd7-47bc-e4ea-ea028f3bcad9"
      },
      "outputs": [
        {
          "data": {
            "text/plain": [
              "['PW', 'skills', 'Datas', 'science', 'masters', 'new element', 3]"
            ]
          },
          "execution_count": 118,
          "metadata": {},
          "output_type": "execute_result"
        }
      ],
      "source": [
        "## concatenation operation\n",
        "lst1 + ['new element',3]"
      ]
    },
    {
      "cell_type": "code",
      "execution_count": null,
      "id": "f6304597-f7c8-43b7-bf77-7566353672bd",
      "metadata": {
        "id": "f6304597-f7c8-43b7-bf77-7566353672bd"
      },
      "outputs": [],
      "source": [
        "## concatenation operation\n",
        "lst2=lst1 + [['new element',3]]"
      ]
    },
    {
      "cell_type": "code",
      "execution_count": null,
      "id": "fb0db352-da0b-47b6-a4bd-f88bdef65fce",
      "metadata": {
        "id": "fb0db352-da0b-47b6-a4bd-f88bdef65fce",
        "outputId": "22f5cc36-a080-43f6-d160-d4200baff2c1"
      },
      "outputs": [
        {
          "data": {
            "text/plain": [
              "'new element'"
            ]
          },
          "execution_count": 124,
          "metadata": {},
          "output_type": "execute_result"
        }
      ],
      "source": [
        "lst2[-1][0]"
      ]
    },
    {
      "cell_type": "code",
      "execution_count": null,
      "id": "461c4c8f-23cf-41ac-a68a-8eb06adc9129",
      "metadata": {
        "id": "461c4c8f-23cf-41ac-a68a-8eb06adc9129",
        "outputId": "545eda37-d3bc-4061-b679-c5e3d9c4b476"
      },
      "outputs": [
        {
          "data": {
            "text/plain": [
              "['PW',\n",
              " 'skills',\n",
              " 'Datas',\n",
              " 'science',\n",
              " 'masters',\n",
              " 'PW',\n",
              " 'skills',\n",
              " 'Datas',\n",
              " 'science',\n",
              " 'masters']"
            ]
          },
          "execution_count": 127,
          "metadata": {},
          "output_type": "execute_result"
        }
      ],
      "source": [
        "lst1 * 2"
      ]
    },
    {
      "cell_type": "code",
      "execution_count": null,
      "id": "c68366eb-7bdf-4d47-8f61-55f4a7ec0e2d",
      "metadata": {
        "id": "c68366eb-7bdf-4d47-8f61-55f4a7ec0e2d",
        "outputId": "6efc005a-e694-4c40-e6cb-9abdb8d80ca7"
      },
      "outputs": [
        {
          "data": {
            "text/plain": [
              "['PW', 'skills', 'Datas', 'science', 'masters']"
            ]
          },
          "execution_count": 128,
          "metadata": {},
          "output_type": "execute_result"
        }
      ],
      "source": [
        "lst1"
      ]
    },
    {
      "cell_type": "code",
      "execution_count": null,
      "id": "105737df-9b9d-42f3-8ae5-3a31243169ee",
      "metadata": {
        "id": "105737df-9b9d-42f3-8ae5-3a31243169ee",
        "outputId": "5669d12f-a13b-4b1a-a891-3c3599361bb5"
      },
      "outputs": [
        {
          "name": "stdout",
          "output_type": "stream",
          "text": [
            "Present\n"
          ]
        }
      ],
      "source": [
        "if \"science\" in lst1:\n",
        "    print(\"Present\")"
      ]
    },
    {
      "cell_type": "code",
      "execution_count": null,
      "id": "7ba31690-b43f-42c8-ac7d-48298af174b6",
      "metadata": {
        "id": "7ba31690-b43f-42c8-ac7d-48298af174b6",
        "outputId": "1f3a4326-92dc-40fb-8cfd-ee4167f679c5"
      },
      "outputs": [
        {
          "name": "stdout",
          "output_type": "stream",
          "text": [
            "science\n"
          ]
        }
      ],
      "source": [
        "for elements in lst1:\n",
        "    if elements==\"science\":\n",
        "        print(elements)\n",
        "        break"
      ]
    },
    {
      "cell_type": "code",
      "execution_count": null,
      "id": "835b2e11-71d7-4dd2-9e38-25b0267d6c41",
      "metadata": {
        "id": "835b2e11-71d7-4dd2-9e38-25b0267d6c41",
        "outputId": "3a5e823a-4e03-4899-d947-15c65909fcc6"
      },
      "outputs": [
        {
          "data": {
            "text/plain": [
              "True"
            ]
          },
          "execution_count": 140,
          "metadata": {},
          "output_type": "execute_result"
        }
      ],
      "source": [
        "## check elements inside a list\n",
        "lst=[1,2,3,4]\n",
        "4 in lst"
      ]
    },
    {
      "cell_type": "code",
      "execution_count": null,
      "id": "feb232dc-57db-4ef6-9c13-b9c72ac1327e",
      "metadata": {
        "id": "feb232dc-57db-4ef6-9c13-b9c72ac1327e",
        "outputId": "0bd6d74a-a353-4eb3-c557-a01d926df451"
      },
      "outputs": [
        {
          "data": {
            "text/plain": [
              "True"
            ]
          },
          "execution_count": 141,
          "metadata": {},
          "output_type": "execute_result"
        }
      ],
      "source": [
        "2.0 in lst"
      ]
    },
    {
      "cell_type": "code",
      "execution_count": null,
      "id": "cda9674b-2ad6-4a8f-99d4-5c650f9e1bbd",
      "metadata": {
        "id": "cda9674b-2ad6-4a8f-99d4-5c650f9e1bbd"
      },
      "outputs": [],
      "source": [
        "lst1=[\"Zebra\",\"Monkey\",\"Donkey\",\"Lion\"]\n",
        "lst2=[5,6,2,9,5,8,6]"
      ]
    },
    {
      "cell_type": "code",
      "execution_count": null,
      "id": "4df177a1-9364-4040-9bf5-3a611220d8d6",
      "metadata": {
        "id": "4df177a1-9364-4040-9bf5-3a611220d8d6",
        "outputId": "aed48f17-2003-48cc-ecba-7632b8d7105d"
      },
      "outputs": [
        {
          "name": "stdout",
          "output_type": "stream",
          "text": [
            "Zebra\n"
          ]
        }
      ],
      "source": [
        "print(max(lst1))"
      ]
    },
    {
      "cell_type": "code",
      "execution_count": null,
      "id": "e3b707c6-4e1f-49a2-b599-3afb54ff5d85",
      "metadata": {
        "id": "e3b707c6-4e1f-49a2-b599-3afb54ff5d85",
        "outputId": "71570243-852b-4321-a2c0-5d45d0203561"
      },
      "outputs": [
        {
          "data": {
            "text/plain": [
              "9"
            ]
          },
          "execution_count": 144,
          "metadata": {},
          "output_type": "execute_result"
        }
      ],
      "source": [
        "max(lst2)"
      ]
    },
    {
      "cell_type": "code",
      "execution_count": null,
      "id": "4b3d7bf3-2a2d-4f71-a060-8532e18ab42b",
      "metadata": {
        "id": "4b3d7bf3-2a2d-4f71-a060-8532e18ab42b",
        "outputId": "95200560-4bf4-4757-a5ff-68d02a88251e"
      },
      "outputs": [
        {
          "data": {
            "text/plain": [
              "'Donkey'"
            ]
          },
          "execution_count": 145,
          "metadata": {},
          "output_type": "execute_result"
        }
      ],
      "source": [
        "min(lst1)"
      ]
    },
    {
      "cell_type": "code",
      "execution_count": null,
      "id": "57ba0f95-8cef-461d-8ab7-95ff0ff17525",
      "metadata": {
        "id": "57ba0f95-8cef-461d-8ab7-95ff0ff17525",
        "outputId": "8adf32a4-2c50-42f6-8472-0377151492d2"
      },
      "outputs": [
        {
          "data": {
            "text/plain": [
              "2"
            ]
          },
          "execution_count": 146,
          "metadata": {},
          "output_type": "execute_result"
        }
      ],
      "source": [
        "min(lst2)"
      ]
    },
    {
      "cell_type": "code",
      "execution_count": null,
      "id": "21a8cd16-23b1-43cb-9f67-3952d16de52d",
      "metadata": {
        "id": "21a8cd16-23b1-43cb-9f67-3952d16de52d",
        "outputId": "00d2f844-f05d-44b4-df34-9240e8abbfc7"
      },
      "outputs": [
        {
          "data": {
            "text/plain": [
              "True"
            ]
          },
          "execution_count": 149,
          "metadata": {},
          "output_type": "execute_result"
        }
      ],
      "source": [
        "1.9999999999999999 in [2, 4, 5]\n"
      ]
    },
    {
      "cell_type": "code",
      "execution_count": null,
      "id": "13e83260-7145-4dd0-8688-bb66efb198b5",
      "metadata": {
        "id": "13e83260-7145-4dd0-8688-bb66efb198b5",
        "outputId": "9a199166-b684-4892-f763-2f6bf3c89cef"
      },
      "outputs": [
        {
          "data": {
            "text/plain": [
              "True"
            ]
          },
          "execution_count": 148,
          "metadata": {},
          "output_type": "execute_result"
        }
      ],
      "source": [
        "5==5.0"
      ]
    },
    {
      "cell_type": "code",
      "execution_count": null,
      "id": "bbc8d5c0-fa87-4949-9412-8fe9251d3453",
      "metadata": {
        "id": "bbc8d5c0-fa87-4949-9412-8fe9251d3453"
      },
      "outputs": [],
      "source": [
        "lst3=[5,6,2,9,5,8,6]\n",
        "type(lst3[0])  ## output is integer\n",
        "type(5.0)  ### output is float\n",
        "5.0 in lst3 ## output is TRUE\n"
      ]
    },
    {
      "cell_type": "code",
      "execution_count": null,
      "id": "a974f5de-61d0-4d63-acd5-4be46eba2e13",
      "metadata": {
        "id": "a974f5de-61d0-4d63-acd5-4be46eba2e13"
      },
      "outputs": [],
      "source": [
        "## Append"
      ]
    },
    {
      "cell_type": "code",
      "execution_count": null,
      "id": "342379a6-dfa1-4737-ab25-64877fe131d9",
      "metadata": {
        "id": "342379a6-dfa1-4737-ab25-64877fe131d9"
      },
      "outputs": [],
      "source": [
        "lst=[1,2,3,4,5,6]"
      ]
    },
    {
      "cell_type": "code",
      "execution_count": null,
      "id": "7775d7c7-3b2c-4baf-ae12-4bec259cf987",
      "metadata": {
        "id": "7775d7c7-3b2c-4baf-ae12-4bec259cf987",
        "outputId": "c5d8a9e5-4a8c-453a-bc43-154b165e7dfa"
      },
      "outputs": [
        {
          "data": {
            "text/plain": [
              "[1, 2, 3, 4, 5, 6]"
            ]
          },
          "execution_count": 151,
          "metadata": {},
          "output_type": "execute_result"
        }
      ],
      "source": [
        "lst"
      ]
    },
    {
      "cell_type": "code",
      "execution_count": null,
      "id": "e43924c6-1a51-46b0-9130-2f8830e45e07",
      "metadata": {
        "id": "e43924c6-1a51-46b0-9130-2f8830e45e07"
      },
      "outputs": [],
      "source": [
        "lst.append(\"Pwskills\")"
      ]
    },
    {
      "cell_type": "code",
      "execution_count": null,
      "id": "cbe06e31-9079-4c79-a5aa-34d4c248a5d1",
      "metadata": {
        "id": "cbe06e31-9079-4c79-a5aa-34d4c248a5d1",
        "outputId": "04c08609-9c13-44a5-dc76-17246bfdb3a2"
      },
      "outputs": [
        {
          "data": {
            "text/plain": [
              "[1, 2, 3, 4, 5, 6, 'Pwskills']"
            ]
          },
          "execution_count": 154,
          "metadata": {},
          "output_type": "execute_result"
        }
      ],
      "source": [
        "lst"
      ]
    },
    {
      "cell_type": "code",
      "execution_count": null,
      "id": "59ee96ba-aaf3-498d-a0ab-f52b2ff3daea",
      "metadata": {
        "id": "59ee96ba-aaf3-498d-a0ab-f52b2ff3daea"
      },
      "outputs": [],
      "source": [
        "lst.append(['Data','Science','Masters'])"
      ]
    },
    {
      "cell_type": "code",
      "execution_count": null,
      "id": "ac805a18-8c1b-4609-8cab-4ed22027e552",
      "metadata": {
        "id": "ac805a18-8c1b-4609-8cab-4ed22027e552",
        "outputId": "a2458e2c-82a5-4067-cb30-d12f39e0e780"
      },
      "outputs": [
        {
          "data": {
            "text/plain": [
              "[1, 2, 3, 4, 5, 6, 'Pwskills', ['Data', 'Science', 'Masters']]"
            ]
          },
          "execution_count": 156,
          "metadata": {},
          "output_type": "execute_result"
        }
      ],
      "source": [
        "lst"
      ]
    },
    {
      "cell_type": "code",
      "execution_count": null,
      "id": "d79fff96-a3fd-4833-b01c-b82687566fc5",
      "metadata": {
        "id": "d79fff96-a3fd-4833-b01c-b82687566fc5"
      },
      "outputs": [],
      "source": [
        "lst1=[\"Zebra\",\"Monkey\",\"Donkey\",\"Lion\"]"
      ]
    },
    {
      "cell_type": "code",
      "execution_count": null,
      "id": "f32841d3-8268-421a-8e6a-d6fe2f89e597",
      "metadata": {
        "id": "f32841d3-8268-421a-8e6a-d6fe2f89e597",
        "outputId": "ebf99065-e987-466a-cca3-440a1912d939"
      },
      "outputs": [
        {
          "data": {
            "text/plain": [
              "'Lion'"
            ]
          },
          "execution_count": 159,
          "metadata": {},
          "output_type": "execute_result"
        }
      ],
      "source": [
        "lst1.pop()"
      ]
    },
    {
      "cell_type": "code",
      "execution_count": null,
      "id": "639b1fda-3948-4bda-9b0c-f8dcd1b65f93",
      "metadata": {
        "id": "639b1fda-3948-4bda-9b0c-f8dcd1b65f93",
        "outputId": "d30eafd9-59fb-4f5a-ab08-105e3e0fad92"
      },
      "outputs": [
        {
          "data": {
            "text/plain": [
              "'Donkey'"
            ]
          },
          "execution_count": 162,
          "metadata": {},
          "output_type": "execute_result"
        }
      ],
      "source": [
        "lst1.pop(2)"
      ]
    },
    {
      "cell_type": "code",
      "execution_count": null,
      "id": "5f448ae8-f06a-4901-87d4-5a589606c69d",
      "metadata": {
        "id": "5f448ae8-f06a-4901-87d4-5a589606c69d",
        "outputId": "9798f7dd-403c-473c-c45c-4859cb1ae7f8"
      },
      "outputs": [
        {
          "data": {
            "text/plain": [
              "['Zebra', 'Monkey']"
            ]
          },
          "execution_count": 163,
          "metadata": {},
          "output_type": "execute_result"
        }
      ],
      "source": [
        "lst1"
      ]
    },
    {
      "cell_type": "code",
      "execution_count": null,
      "id": "d22153fd-9e54-4c4d-aa63-2efa8961322b",
      "metadata": {
        "id": "d22153fd-9e54-4c4d-aa63-2efa8961322b"
      },
      "outputs": [],
      "source": [
        "lst1=[\"Zebra\",\"Monkey\",\"Donkey\",\"Lion\"]"
      ]
    },
    {
      "cell_type": "code",
      "execution_count": null,
      "id": "320291bf-adbf-4687-a147-94c81ac3589f",
      "metadata": {
        "id": "320291bf-adbf-4687-a147-94c81ac3589f",
        "outputId": "f0b95a81-7e58-4ce2-c4f0-a6be802c997a"
      },
      "outputs": [
        {
          "data": {
            "text/plain": [
              "'Zebra'"
            ]
          },
          "execution_count": 165,
          "metadata": {},
          "output_type": "execute_result"
        }
      ],
      "source": [
        "removed_element=lst1.pop(0)\n",
        "removed_element\n"
      ]
    },
    {
      "cell_type": "code",
      "execution_count": null,
      "id": "72260adc-9779-414a-8595-8a15e2520d0f",
      "metadata": {
        "id": "72260adc-9779-414a-8595-8a15e2520d0f",
        "outputId": "a856cd00-4668-4664-c2ec-9e3f9b64e221"
      },
      "outputs": [
        {
          "ename": "IndexError",
          "evalue": "list index out of range",
          "output_type": "error",
          "traceback": [
            "\u001b[0;31m---------------------------------------------------------------------------\u001b[0m",
            "\u001b[0;31mIndexError\u001b[0m                                Traceback (most recent call last)",
            "Cell \u001b[0;32mIn[167], line 1\u001b[0m\n\u001b[0;32m----> 1\u001b[0m \u001b[43mlst1\u001b[49m\u001b[43m[\u001b[49m\u001b[38;5;241;43m100\u001b[39;49m\u001b[43m]\u001b[49m\n",
            "\u001b[0;31mIndexError\u001b[0m: list index out of range"
          ]
        }
      ],
      "source": [
        "lst1[100]"
      ]
    },
    {
      "cell_type": "code",
      "execution_count": null,
      "id": "923b4e4d-9c33-4622-9407-e86ef507f7a3",
      "metadata": {
        "id": "923b4e4d-9c33-4622-9407-e86ef507f7a3"
      },
      "outputs": [],
      "source": [
        "## Sorting and Reverse method in list"
      ]
    },
    {
      "cell_type": "code",
      "execution_count": null,
      "id": "8dea02ce-e317-4415-a406-80db2133f00e",
      "metadata": {
        "id": "8dea02ce-e317-4415-a406-80db2133f00e",
        "outputId": "5c478fe3-06ee-43db-fdbf-967709a5b650"
      },
      "outputs": [
        {
          "data": {
            "text/plain": [
              "['q', 'e', 'f', 's', 't', 'u']"
            ]
          },
          "execution_count": 169,
          "metadata": {},
          "output_type": "execute_result"
        }
      ],
      "source": [
        "new_list=['q','e','f','s','t','u']\n",
        "new_list"
      ]
    },
    {
      "cell_type": "code",
      "execution_count": null,
      "id": "727be269-ee57-4409-8c20-c1abe48d209d",
      "metadata": {
        "id": "727be269-ee57-4409-8c20-c1abe48d209d",
        "outputId": "c3522d40-58ef-4441-b94a-c335e82b79d5"
      },
      "outputs": [
        {
          "data": {
            "text/plain": [
              "['u', 't', 's', 'f', 'e', 'q']"
            ]
          },
          "execution_count": 170,
          "metadata": {},
          "output_type": "execute_result"
        }
      ],
      "source": [
        "new_list[::-1]"
      ]
    },
    {
      "cell_type": "code",
      "execution_count": null,
      "id": "a56bee5c-a9e4-4655-8755-66325e069116",
      "metadata": {
        "id": "a56bee5c-a9e4-4655-8755-66325e069116"
      },
      "outputs": [],
      "source": [
        "## inplace\n",
        "new_list.reverse()"
      ]
    },
    {
      "cell_type": "code",
      "execution_count": null,
      "id": "1297c213-d7fe-4688-ab3a-8f071821a26b",
      "metadata": {
        "id": "1297c213-d7fe-4688-ab3a-8f071821a26b",
        "outputId": "8e14bcba-a25b-4dfa-ec07-a1f97d425ad3"
      },
      "outputs": [
        {
          "data": {
            "text/plain": [
              "['u', 't', 's', 'f', 'e', 'q']"
            ]
          },
          "execution_count": 173,
          "metadata": {},
          "output_type": "execute_result"
        }
      ],
      "source": [
        "new_list"
      ]
    },
    {
      "cell_type": "code",
      "execution_count": null,
      "id": "a2281e92-24d4-4591-bd03-2e4c5aac21c7",
      "metadata": {
        "id": "a2281e92-24d4-4591-bd03-2e4c5aac21c7"
      },
      "outputs": [],
      "source": [
        "new_list.sort()"
      ]
    },
    {
      "cell_type": "code",
      "execution_count": null,
      "id": "7a71c1ab-cf30-4fce-b6a8-c3e188aa711f",
      "metadata": {
        "id": "7a71c1ab-cf30-4fce-b6a8-c3e188aa711f",
        "outputId": "af2ed84c-b3d8-4b2e-b6c2-7cd18785777f"
      },
      "outputs": [
        {
          "data": {
            "text/plain": [
              "['e', 'f', 'q', 's', 't', 'u']"
            ]
          },
          "execution_count": 175,
          "metadata": {},
          "output_type": "execute_result"
        }
      ],
      "source": [
        "new_list"
      ]
    },
    {
      "cell_type": "code",
      "execution_count": null,
      "id": "f0c1ed7d-c39d-4734-8bdc-ce4780988df6",
      "metadata": {
        "id": "f0c1ed7d-c39d-4734-8bdc-ce4780988df6"
      },
      "outputs": [],
      "source": [
        "new_list.sort(reverse=True)"
      ]
    },
    {
      "cell_type": "code",
      "execution_count": null,
      "id": "d014df4b-2161-43c8-ae50-674dd3bb102a",
      "metadata": {
        "id": "d014df4b-2161-43c8-ae50-674dd3bb102a",
        "outputId": "ec744796-5726-4067-be7b-55724e9704bb"
      },
      "outputs": [
        {
          "data": {
            "text/plain": [
              "['u', 't', 's', 'q', 'f', 'e']"
            ]
          },
          "execution_count": 185,
          "metadata": {},
          "output_type": "execute_result"
        }
      ],
      "source": [
        "new_list"
      ]
    },
    {
      "cell_type": "code",
      "execution_count": null,
      "id": "98b794c8-cb9b-4add-bbde-10a20c427aad",
      "metadata": {
        "id": "98b794c8-cb9b-4add-bbde-10a20c427aad"
      },
      "outputs": [],
      "source": [
        "lst=[1,2,3,4,5,6]\n",
        "lst.append(10)"
      ]
    },
    {
      "cell_type": "code",
      "execution_count": null,
      "id": "ad4c6dbe-eec0-48b0-b416-60e29da852ba",
      "metadata": {
        "id": "ad4c6dbe-eec0-48b0-b416-60e29da852ba"
      },
      "outputs": [],
      "source": [
        "lst.append(['PW','Skills'])\n"
      ]
    },
    {
      "cell_type": "code",
      "execution_count": null,
      "id": "50aa1068-d051-46ee-809b-eb21f3b4e599",
      "metadata": {
        "id": "50aa1068-d051-46ee-809b-eb21f3b4e599"
      },
      "outputs": [],
      "source": [
        "lst.extend(['PW','Skills'])"
      ]
    },
    {
      "cell_type": "code",
      "execution_count": null,
      "id": "e9c387d1-6469-4ccd-b3dd-b0a6f3f8605d",
      "metadata": {
        "id": "e9c387d1-6469-4ccd-b3dd-b0a6f3f8605d",
        "outputId": "451ee0c7-cdc6-48ee-aeb2-2bd7ad77681b"
      },
      "outputs": [
        {
          "data": {
            "text/plain": [
              "[1, 2, 3, 4, 5, 6, 10, 'PW', 'Skills']"
            ]
          },
          "execution_count": 183,
          "metadata": {},
          "output_type": "execute_result"
        }
      ],
      "source": [
        "lst"
      ]
    },
    {
      "cell_type": "markdown",
      "id": "130cbd71-5c1d-4622-a4c5-2d21a252b088",
      "metadata": {
        "id": "130cbd71-5c1d-4622-a4c5-2d21a252b088"
      },
      "source": [
        "## Nested List"
      ]
    },
    {
      "cell_type": "code",
      "execution_count": null,
      "id": "c8c4097a-9e1d-4fc9-83c7-61f2a94372f3",
      "metadata": {
        "id": "c8c4097a-9e1d-4fc9-83c7-61f2a94372f3"
      },
      "outputs": [],
      "source": [
        "# Let's make three lists\n",
        "lst_1=[1,2,3]\n",
        "lst_2=[4,5,6]\n",
        "lst_3=[7,8,9]\n",
        "\n",
        "# Make a list of lists to form a matrix\n",
        "matrix = [lst_1,lst_2,lst_3]"
      ]
    },
    {
      "cell_type": "code",
      "execution_count": null,
      "id": "0b3dc20a-83a3-4e3f-8fbb-ded0afa07703",
      "metadata": {
        "id": "0b3dc20a-83a3-4e3f-8fbb-ded0afa07703",
        "outputId": "592e40b2-d8a4-489c-a219-5a35dd5e28e7"
      },
      "outputs": [
        {
          "data": {
            "text/plain": [
              "[[1, 2, 3], [4, 5, 6], [7, 8, 9]]"
            ]
          },
          "execution_count": 187,
          "metadata": {},
          "output_type": "execute_result"
        }
      ],
      "source": [
        "matrix"
      ]
    },
    {
      "cell_type": "code",
      "execution_count": null,
      "id": "98ebfcc4-83f8-436c-a631-2a7d0a73011f",
      "metadata": {
        "id": "98ebfcc4-83f8-436c-a631-2a7d0a73011f",
        "outputId": "a5669eb4-4d88-4854-8b1d-687647a20eb8"
      },
      "outputs": [
        {
          "data": {
            "text/plain": [
              "6"
            ]
          },
          "execution_count": 190,
          "metadata": {},
          "output_type": "execute_result"
        }
      ],
      "source": [
        "matrix[1][2]"
      ]
    },
    {
      "cell_type": "code",
      "execution_count": null,
      "id": "28e411da-e6c5-4ece-8003-efbcecade45d",
      "metadata": {
        "id": "28e411da-e6c5-4ece-8003-efbcecade45d",
        "outputId": "98fff740-d372-4790-d98e-793a3d7f7666"
      },
      "outputs": [
        {
          "data": {
            "text/plain": [
              "[8, 9]"
            ]
          },
          "execution_count": 191,
          "metadata": {},
          "output_type": "execute_result"
        }
      ],
      "source": [
        "matrix[2][1:]"
      ]
    },
    {
      "cell_type": "code",
      "execution_count": null,
      "id": "e6564aef-fa0a-4881-ba93-e09825f0ae96",
      "metadata": {
        "id": "e6564aef-fa0a-4881-ba93-e09825f0ae96",
        "outputId": "10a06e47-3f59-4a4b-9f33-50faa7c8bfa5"
      },
      "outputs": [
        {
          "data": {
            "text/plain": [
              "[0, 1, 2, 3, 4, 5, 6, 7, 8, 9, 10, 11, 12, 13, 14, 15, 16, 17, 18, 19]"
            ]
          },
          "execution_count": 204,
          "metadata": {},
          "output_type": "execute_result"
        }
      ],
      "source": [
        "## List Comprehension\n",
        "[i for i in range(20)]"
      ]
    },
    {
      "cell_type": "code",
      "execution_count": null,
      "id": "3447b287-75a7-4aa8-bcd3-5d82339e9c53",
      "metadata": {
        "id": "3447b287-75a7-4aa8-bcd3-5d82339e9c53",
        "outputId": "6e4795de-2b2b-49b4-dad9-1f67ee23094e"
      },
      "outputs": [
        {
          "data": {
            "text/plain": [
              "[0,\n",
              " 'ODD',\n",
              " 2,\n",
              " 'ODD',\n",
              " 4,\n",
              " 'ODD',\n",
              " 6,\n",
              " 'ODD',\n",
              " 8,\n",
              " 'ODD',\n",
              " 10,\n",
              " 'ODD',\n",
              " 12,\n",
              " 'ODD',\n",
              " 14,\n",
              " 'ODD',\n",
              " 16,\n",
              " 'ODD',\n",
              " 18,\n",
              " 'ODD']"
            ]
          },
          "execution_count": 211,
          "metadata": {},
          "output_type": "execute_result"
        }
      ],
      "source": [
        "## List Comprehension\n",
        "## Even numbers\n",
        "[i if i%2==0 else \"ODD\" for i in range(0,20)]"
      ]
    },
    {
      "cell_type": "code",
      "execution_count": null,
      "id": "4282592a-9154-423a-80c5-5b3078816eca",
      "metadata": {
        "id": "4282592a-9154-423a-80c5-5b3078816eca"
      },
      "outputs": [],
      "source": [
        "## Assignment\n",
        "## Sum of even numbers and odd numbers\n",
        "lst=[1,2,3,4,5,6,7,8]\n"
      ]
    },
    {
      "cell_type": "code",
      "execution_count": null,
      "id": "e86ab3bf-46c0-4c97-b49f-4e2e2cade2cd",
      "metadata": {
        "id": "e86ab3bf-46c0-4c97-b49f-4e2e2cade2cd",
        "outputId": "e058878e-54c1-4534-8aed-ec478886f10e"
      },
      "outputs": [
        {
          "name": "stdout",
          "output_type": "stream",
          "text": [
            "20\n",
            "16\n"
          ]
        }
      ],
      "source": [
        "lst = [1,2,3,4,5,6,7,8]\n",
        "\n",
        "even_sum = 0\n",
        "odd_sum = 0\n",
        "for i in lst:\n",
        "    if i % 2 ==0:\n",
        "        even_sum += i\n",
        "    else:\n",
        "        odd_sum += i\n",
        "\n",
        "print(even_sum)\n",
        "print(odd_sum)\n"
      ]
    },
    {
      "cell_type": "code",
      "execution_count": null,
      "id": "88e4c644-8e40-42d6-8140-870806947749",
      "metadata": {
        "id": "88e4c644-8e40-42d6-8140-870806947749"
      },
      "outputs": [],
      "source": [
        "even_sum=sum([num for num in lst if num%2==0])"
      ]
    },
    {
      "cell_type": "code",
      "execution_count": null,
      "id": "b69a4753-3fad-4085-b1c3-fae94c4849bb",
      "metadata": {
        "id": "b69a4753-3fad-4085-b1c3-fae94c4849bb",
        "outputId": "290c93de-e46c-4909-e4b1-bc79f158bea5"
      },
      "outputs": [
        {
          "data": {
            "text/plain": [
              "20"
            ]
          },
          "execution_count": 217,
          "metadata": {},
          "output_type": "execute_result"
        }
      ],
      "source": [
        "even_sum"
      ]
    },
    {
      "cell_type": "code",
      "execution_count": null,
      "id": "656a51c4-cf55-4650-bdd8-6f6418a9c445",
      "metadata": {
        "id": "656a51c4-cf55-4650-bdd8-6f6418a9c445",
        "outputId": "43f503cc-9998-4f7f-f970-e0e70f2b7820"
      },
      "outputs": [
        {
          "data": {
            "text/plain": [
              "16"
            ]
          },
          "execution_count": 218,
          "metadata": {},
          "output_type": "execute_result"
        }
      ],
      "source": [
        "odd_sum=sum([num for num in lst if num%2!=0])\n",
        "odd_sum"
      ]
    },
    {
      "cell_type": "code",
      "execution_count": null,
      "id": "9ca6fae4-d0b6-434d-a53b-7b1aa899d263",
      "metadata": {
        "id": "9ca6fae4-d0b6-434d-a53b-7b1aa899d263",
        "outputId": "07c9b6b6-eba5-4a39-d29c-4b3b7dda284d"
      },
      "outputs": [
        {
          "data": {
            "text/plain": [
              "[1, 4, 9, 16, 25, 36, 49, 64, 81, 100]"
            ]
          },
          "execution_count": 219,
          "metadata": {},
          "output_type": "execute_result"
        }
      ],
      "source": [
        "lst=[1,2,3,4,5,6,7,8,9,10]\n",
        "[num**2 for num in lst]"
      ]
    },
    {
      "cell_type": "code",
      "execution_count": null,
      "id": "f02850df-57bd-4be5-b65f-e60452c4f35d",
      "metadata": {
        "id": "f02850df-57bd-4be5-b65f-e60452c4f35d",
        "outputId": "af74291c-8717-49f3-a146-178dec54cb10"
      },
      "outputs": [
        {
          "data": {
            "text/plain": [
              "[1, 2, 3, 4]"
            ]
          },
          "execution_count": 220,
          "metadata": {},
          "output_type": "execute_result"
        }
      ],
      "source": [
        "# Example 2: Create a list of only the positive numbers from a given list\n",
        "numbers = [-2, -1, 0, 1, 2, 3, 4]\n",
        "[num for num in numbers if num > 0]"
      ]
    },
    {
      "cell_type": "code",
      "execution_count": null,
      "id": "bc3e40e6-58dd-4f3d-b35c-139f963848a5",
      "metadata": {
        "id": "bc3e40e6-58dd-4f3d-b35c-139f963848a5",
        "outputId": "3d83861a-9c53-4d06-fd61-1a8c189b8090"
      },
      "outputs": [
        {
          "data": {
            "text/plain": [
              "['a', 'b', 'c', 'd']"
            ]
          },
          "execution_count": 221,
          "metadata": {},
          "output_type": "execute_result"
        }
      ],
      "source": [
        "# Example 3: Create a list of only the first letters of words in a list\n",
        "words = ['apple', 'banana', 'cherry', 'date']\n",
        "[word[0] for word in words]"
      ]
    },
    {
      "cell_type": "code",
      "execution_count": null,
      "id": "3f16f1b6-3338-471a-9b3c-0447ae9f6d17",
      "metadata": {
        "id": "3f16f1b6-3338-471a-9b3c-0447ae9f6d17"
      },
      "outputs": [],
      "source": [
        "(9/5)*temp+32"
      ]
    },
    {
      "cell_type": "code",
      "execution_count": null,
      "id": "b930955e-f776-4b50-b1e3-a53181ab048e",
      "metadata": {
        "id": "b930955e-f776-4b50-b1e3-a53181ab048e"
      },
      "outputs": [],
      "source": [
        "# Example 4: Convert a list of temperatures from Celsius to Fahrenheit uing list comprehesnion\n",
        "celsius_temperatures = [0, 10, 20, 30, 40, 50]"
      ]
    },
    {
      "cell_type": "code",
      "execution_count": null,
      "id": "a31cca96-8f4c-49cc-86cf-1f103729d2f9",
      "metadata": {
        "id": "a31cca96-8f4c-49cc-86cf-1f103729d2f9",
        "outputId": "58532e38-a150-4e16-a706-e43b9710d4a6"
      },
      "outputs": [
        {
          "data": {
            "text/plain": [
              "[32.0, 50.0, 68.0, 86.0, 104.0, 122.0]"
            ]
          },
          "execution_count": 223,
          "metadata": {},
          "output_type": "execute_result"
        }
      ],
      "source": [
        "[(9/5)*temp + 32 for temp in celsius_temperatures]"
      ]
    },
    {
      "cell_type": "code",
      "execution_count": null,
      "id": "28fd6b8b-0680-4586-a4bc-9e2c706413c5",
      "metadata": {
        "id": "28fd6b8b-0680-4586-a4bc-9e2c706413c5"
      },
      "outputs": [],
      "source": [
        "# Example 5: Flatten a list of lists into a single list\n",
        "lists = [[1, 2, 3], [4, 5, 6], [7, 8, 9]]"
      ]
    },
    {
      "cell_type": "code",
      "execution_count": null,
      "id": "00f26d35-9cc5-4165-b6e4-5e27e795e951",
      "metadata": {
        "id": "00f26d35-9cc5-4165-b6e4-5e27e795e951",
        "outputId": "9d7638af-dbf6-4522-f1c7-79ceb6f69afe"
      },
      "outputs": [
        {
          "data": {
            "text/plain": [
              "[1, 2, 3, 4, 5, 6, 7, 8, 9]"
            ]
          },
          "execution_count": 228,
          "metadata": {},
          "output_type": "execute_result"
        }
      ],
      "source": [
        "[j for i in lists for j in i]"
      ]
    },
    {
      "cell_type": "code",
      "execution_count": null,
      "id": "6cf53d9d-ba8e-44b3-8e9b-4d994d40d6e9",
      "metadata": {
        "id": "6cf53d9d-ba8e-44b3-8e9b-4d994d40d6e9"
      },
      "outputs": [],
      "source": [
        "## Assignment\n",
        "## Using both code and list comprehesnion\n",
        "# Example 2: Create a list of only the prime numbers from a given list\n",
        "numbers = [1, 2, 3, 4, 5, 6, 7, 8, 9, 10]"
      ]
    },
    {
      "cell_type": "code",
      "execution_count": null,
      "id": "f675dd98-6908-4f39-91e8-6b4fd9f8c6cb",
      "metadata": {
        "id": "f675dd98-6908-4f39-91e8-6b4fd9f8c6cb"
      },
      "outputs": [],
      "source": [
        "# Example 3: Create a list of all the possible combinations of 2 elements from a list\n",
        "numbers = [1, 2, 3, 4, 5]"
      ]
    },
    {
      "cell_type": "code",
      "execution_count": null,
      "id": "a0ac2faa-453b-4fda-95eb-f88b0707e089",
      "metadata": {
        "id": "a0ac2faa-453b-4fda-95eb-f88b0707e089",
        "outputId": "8e5a24a2-3d85-4ea8-bcaa-551a961ae8a1"
      },
      "outputs": [
        {
          "data": {
            "text/plain": [
              "((1, 2), (1, 3))"
            ]
          },
          "execution_count": 229,
          "metadata": {},
          "output_type": "execute_result"
        }
      ],
      "source": [
        "(1,2),(1,3)"
      ]
    },
    {
      "cell_type": "code",
      "execution_count": null,
      "id": "9a7a9a8d-17bb-491b-a8e3-9e5a79b17634",
      "metadata": {
        "id": "9a7a9a8d-17bb-491b-a8e3-9e5a79b17634",
        "outputId": "29eefa24-f0cc-4d19-a16c-aa9f6fc334d0"
      },
      "outputs": [
        {
          "data": {
            "text/plain": [
              "[1, 2, 3, 4, 5, 6, 7, 8, 9, 10]"
            ]
          },
          "execution_count": 230,
          "metadata": {},
          "output_type": "execute_result"
        }
      ],
      "source": [
        "lst"
      ]
    },
    {
      "cell_type": "code",
      "execution_count": null,
      "id": "15cff215-718e-423e-9129-5dfc0c4ad40b",
      "metadata": {
        "id": "15cff215-718e-423e-9129-5dfc0c4ad40b"
      },
      "outputs": [],
      "source": [
        "lst.insert()"
      ]
    },
    {
      "cell_type": "code",
      "execution_count": null,
      "id": "a2e4d793-767b-4c68-b366-13d4fe7660a3",
      "metadata": {
        "id": "a2e4d793-767b-4c68-b366-13d4fe7660a3"
      },
      "outputs": [],
      "source": [
        "c=1+2j"
      ]
    },
    {
      "cell_type": "code",
      "execution_count": null,
      "id": "b1436805-a8aa-403c-b239-e1308a73cb4d",
      "metadata": {
        "id": "b1436805-a8aa-403c-b239-e1308a73cb4d",
        "outputId": "37809979-479a-4beb-bb2a-2f5150e1e02a"
      },
      "outputs": [
        {
          "data": {
            "text/plain": [
              "1.0"
            ]
          },
          "execution_count": 234,
          "metadata": {},
          "output_type": "execute_result"
        }
      ],
      "source": [
        "c.real"
      ]
    },
    {
      "cell_type": "code",
      "execution_count": null,
      "id": "2645f96c-fbc8-44d6-ae57-cd35e2c9a4d9",
      "metadata": {
        "id": "2645f96c-fbc8-44d6-ae57-cd35e2c9a4d9"
      },
      "outputs": [],
      "source": []
    }
  ],
  "metadata": {
    "kernelspec": {
      "display_name": "Python 3 (ipykernel)",
      "language": "python",
      "name": "python3"
    },
    "language_info": {
      "codemirror_mode": {
        "name": "ipython",
        "version": 3
      },
      "file_extension": ".py",
      "mimetype": "text/x-python",
      "name": "python",
      "nbconvert_exporter": "python",
      "pygments_lexer": "ipython3",
      "version": "3.10.8"
    },
    "colab": {
      "provenance": []
    }
  },
  "nbformat": 4,
  "nbformat_minor": 5
}