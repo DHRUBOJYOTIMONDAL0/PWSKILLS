{
 "cells": [
  {
   "cell_type": "code",
   "execution_count": 2,
   "id": "ea48c416-28f4-4d33-b758-197f3cce64a7",
   "metadata": {},
   "outputs": [
    {
     "name": "stdout",
     "output_type": "stream",
     "text": [
      "This is a issue with the code\n",
      "9\n",
      "This is my next step\n"
     ]
    }
   ],
   "source": [
    "try:\n",
    "    file = open(\"code.txt\", \"r\")\n",
    "    file.close()\n",
    "except Exception as e:\n",
    "    print(\"This is a issue with the code\")\n",
    "print(6+3)\n",
    "print(\"This is my next step\")"
   ]
  },
  {
   "cell_type": "code",
   "execution_count": 3,
   "id": "60b39d69-57e1-480c-af5e-a82541f17c91",
   "metadata": {},
   "outputs": [
    {
     "name": "stdout",
     "output_type": "stream",
     "text": [
      "division by zero\n",
      "5\n",
      "Code end\n"
     ]
    }
   ],
   "source": [
    "try:\n",
    "    5/0\n",
    "except Exception as e:\n",
    "    print(e)\n",
    "print(2+3)\n",
    "print(\"Code end\")"
   ]
  },
  {
   "cell_type": "code",
   "execution_count": 8,
   "id": "40d1119f-f3d3-42f5-9bf6-fa5eef9d3e8d",
   "metadata": {},
   "outputs": [
    {
     "name": "stdout",
     "output_type": "stream",
     "text": [
      "8\n",
      "There will be executed if try except block is executed without any exception\n"
     ]
    }
   ],
   "source": [
    "try:\n",
    "    file = open(\"code.txt\", \"r\")\n",
    "    file.close()\n",
    "except Exception as e:\n",
    "    print(\"This is a issue with the code\")\n",
    "else:\n",
    "    print(5+3)\n",
    "    print(\"There will be executed if try except block is executed without any exception\")"
   ]
  },
  {
   "cell_type": "code",
   "execution_count": 7,
   "id": "b9d6a54e-5192-40f3-9dcf-5d24ef53af16",
   "metadata": {},
   "outputs": [],
   "source": [
    "file = open(\"code.txt\", \"w\")\n",
    "file.write(\"Hello World!\")\n",
    "file.close()"
   ]
  },
  {
   "cell_type": "code",
   "execution_count": 9,
   "id": "f4940bef-b2cb-41d4-b055-d8a68f35c574",
   "metadata": {},
   "outputs": [
    {
     "name": "stdout",
     "output_type": "stream",
     "text": [
      "8\n",
      "There will be executed if try except block is executed without any exception\n"
     ]
    }
   ],
   "source": [
    "try:\n",
    "    file = open(\"code.txt\", \"w\")\n",
    "    file.write(\"What are you doing now?\")\n",
    "    file.close()\n",
    "except Exception as e:\n",
    "    print(\"This is a issue with the code\")\n",
    "else:\n",
    "    print(5+3)\n",
    "    print(\"There will be executed if try except block is executed without any exception\")"
   ]
  },
  {
   "cell_type": "code",
   "execution_count": 10,
   "id": "24bd9cd4-2bb1-497a-817f-23a6d4f7a4df",
   "metadata": {},
   "outputs": [
    {
     "name": "stdout",
     "output_type": "stream",
     "text": [
      "8\n",
      "There will be executed if try except block is executed without any exception\n",
      "This will be executed always\n"
     ]
    }
   ],
   "source": [
    "# finally block\n",
    "\n",
    "try:\n",
    "    file = open(\"code.txt\", \"w\")\n",
    "    file.write(\"What are you doing now?\")\n",
    "    file.close()\n",
    "except Exception as e:\n",
    "    print(\"This is a issue with the code\")\n",
    "else:\n",
    "    print(5+3)\n",
    "    print(\"There will be executed if try except block is executed without any exception\")\n",
    "finally:\n",
    "    print(\"This will be executed always\")"
   ]
  },
  {
   "cell_type": "code",
   "execution_count": 13,
   "id": "1892ff42-0394-4ddc-bf9a-9507bb8d5121",
   "metadata": {},
   "outputs": [
    {
     "name": "stdout",
     "output_type": "stream",
     "text": [
      "This is a issue with the code\n",
      "This will be executed always\n"
     ]
    }
   ],
   "source": [
    "\n",
    "try:\n",
    "    file = open(\"naruto.txt\", \"r\")\n",
    "    # file.write(\"What are you doing now?\")\n",
    "    file.close()\n",
    "except Exception as e:\n",
    "    print(\"This is a issue with the code\")\n",
    "else:\n",
    "    print(5+3)\n",
    "    print(\"There will be executed if try except block is executed without any exception\")\n",
    "finally:\n",
    "    print(\"This will be executed always\")"
   ]
  },
  {
   "cell_type": "code",
   "execution_count": 21,
   "id": "c048a69f-5043-4115-a27a-43dd1cc52e0c",
   "metadata": {},
   "outputs": [
    {
     "name": "stdin",
     "output_type": "stream",
     "text": [
      "Enter Your Salary 500\n"
     ]
    },
    {
     "name": "stdout",
     "output_type": "stream",
     "text": [
      "salary is vaild\n"
     ]
    }
   ],
   "source": [
    "# coustom exception\n",
    "\n",
    "# income = int(input(\"Enter Your Salary\"))\n",
    "\n",
    "def valid_salary():\n",
    "    salary = int(input(\"Enter Your Salary: \"))\n",
    "    if salary <=0:\n",
    "        print(\"Negative salary is not possible\")\n",
    "    elif salary >=30000000:\n",
    "        print(\"To much salary\")\n",
    "    else:\n",
    "        print(\"salary is vaild\")\n",
    "valid_salary()     "
   ]
  },
  {
   "cell_type": "code",
   "execution_count": null,
   "id": "a812b3bd-6598-4735-bd9d-a87e02fcca29",
   "metadata": {},
   "outputs": [],
   "source": [
    "# coustom exception\n",
    "\n",
    "# income = int(input(\"Enter Your Salary\"))\n",
    "\n",
    "def valid_salary():\n",
    "    salary = int(input(\"Enter Your Salary: \"))\n",
    "    if salary <=0:\n",
    "        print(\"Negative salary is not possible\")\n",
    "    elif salary >=30000000:\n",
    "        print(\"To much salary\")\n",
    "    else:\n",
    "        print(\"salary is vaild\")\n",
    "valid_salary()   "
   ]
  }
 ],
 "metadata": {
  "kernelspec": {
   "display_name": "Python 3 (ipykernel)",
   "language": "python",
   "name": "python3"
  },
  "language_info": {
   "codemirror_mode": {
    "name": "ipython",
    "version": 3
   },
   "file_extension": ".py",
   "mimetype": "text/x-python",
   "name": "python",
   "nbconvert_exporter": "python",
   "pygments_lexer": "ipython3",
   "version": "3.13.1"
  }
 },
 "nbformat": 4,
 "nbformat_minor": 5
}
