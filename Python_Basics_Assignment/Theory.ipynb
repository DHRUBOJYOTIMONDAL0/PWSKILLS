{
  "nbformat": 4,
  "nbformat_minor": 0,
  "metadata": {
    "colab": {
      "provenance": []
    },
    "kernelspec": {
      "name": "python3",
      "display_name": "Python 3"
    },
    "language_info": {
      "name": "python"
    }
  },
  "cells": [
    {
      "cell_type": "code",
      "execution_count": null,
      "metadata": {
        "id": "ysluMBWZY7rU"
      },
      "outputs": [],
      "source": []
    },
    {
      "cell_type": "markdown",
      "source": [
        "1. What is Python, and why is it popular?\n",
        "Ans- Python is an interpreted, object-oriented, high-level programming language. use in web devlopment, data science and machine larning.\n",
        "Popular;_\n",
        "Easy to learn- python syntax similar to english.\n",
        "open source\n"
      ],
      "metadata": {
        "id": "G-N2bUzNZA-b"
      }
    },
    {
      "cell_type": "markdown",
      "source": [
        "12.How does the elif statement work?\n",
        "Ans- sort answer\n",
        "The elif statement checks multiple conditions after the initial if. If if is False, it evaluates the elif condition. If True, it executes the associated code block."
      ],
      "metadata": {
        "id": "srE4ndr9f6WX"
      }
    },
    {
      "cell_type": "markdown",
      "source": [
        "14.Describe a scenario where a while loop is more suitable than a for loop?\n",
        "Ans- A while loop is more suitable when the number of iterations is unknown and depends on a condition that may change within the loop."
      ],
      "metadata": {
        "id": "DaBgHk9RhcC2"
      }
    },
    {
      "cell_type": "markdown",
      "source": [
        "13.What is the difference between for and while loops?\n",
        "Ans- For Loop: Iterates over a sequence a fixed number of times.\n",
        "While Loop: Repeats as long as a condition is True."
      ],
      "metadata": {
        "id": "zjTP6WcpgakE"
      }
    },
    {
      "cell_type": "markdown",
      "source": [
        "11. What is the purpose of conditional statements in Python?\n",
        "Ans- control the flow of a program by executing different code blocks based on specified conditions being True or False."
      ],
      "metadata": {
        "id": "1bLfZhHZffSk"
      }
    },
    {
      "cell_type": "markdown",
      "source": [
        "10. What is the difference between implicit and explicit type casting?\n",
        "Ans- Implicit- Automatic conversion done by Python, No need for user intervention.\n",
        "Explicit- No need for user intervention and required user define converting function."
      ],
      "metadata": {
        "id": "7eyVLaIHex98"
      }
    },
    {
      "cell_type": "markdown",
      "source": [
        "9. What is type casting in Python?\n",
        "Ans- Type casting is a process converting a veriable one data type to another data type. it's called type casting."
      ],
      "metadata": {
        "id": "vnfTyVrQeHqI"
      }
    },
    {
      "cell_type": "markdown",
      "source": [
        "8. What are logical operators in Python?\n",
        "Ans- In python logical operators are used to combine conditional statements. example- and, or, not"
      ],
      "metadata": {
        "id": "fHnM2Hwpdqhn"
      }
    },
    {
      "cell_type": "markdown",
      "source": [
        "7. What is the difference between “==” and “is” operators in Python?\n",
        "Ans- \"==\" checks for value equality,if the values of two objects are the same\n",
        "\"is\" checks for identity equality,if two references point to the same object in memory."
      ],
      "metadata": {
        "id": "M2FCN0iscxJW"
      }
    },
    {
      "cell_type": "code",
      "source": [],
      "metadata": {
        "id": "ZYO4YeD9cdWf"
      },
      "execution_count": null,
      "outputs": []
    },
    {
      "cell_type": "markdown",
      "source": [
        "6.Why are lists mutable, but tuples are immutable?\n",
        "Ans- Lists are mutable because you can change their elements after creation. Tuples are immutable because their elements cannot be changed once created."
      ],
      "metadata": {
        "id": "moCX3sNPcdw3"
      }
    },
    {
      "cell_type": "markdown",
      "source": [
        "5.What is mutability in Python?\n",
        "Ans- Suppose you can create a object then you can change the object type in this feature avaleble in python this feature is called mutability."
      ],
      "metadata": {
        "id": "bUi1lilXbj3E"
      }
    },
    {
      "cell_type": "markdown",
      "source": [
        "4. Can keywords be used as variable names?\n",
        "Ans- No, keywords cannot be used as variable names in Pytho"
      ],
      "metadata": {
        "id": "ekHMibq_bZNT"
      }
    },
    {
      "cell_type": "markdown",
      "source": [
        "3.What are pre-defined keywords in Python?\n",
        "Ans- if, else, elif, for, while, break, etc."
      ],
      "metadata": {
        "id": "fMGFlrRoa3h9"
      }
    },
    {
      "cell_type": "markdown",
      "source": [
        "2. What is an interpreter in Python?\n",
        "Ans- Python interpreter convert to high level computer programming language to machin language."
      ],
      "metadata": {
        "id": "Pty0jYcOaiN5"
      }
    }
  ]
}