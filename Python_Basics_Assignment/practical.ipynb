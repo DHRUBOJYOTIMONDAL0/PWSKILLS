{
  "nbformat": 4,
  "nbformat_minor": 0,
  "metadata": {
    "colab": {
      "provenance": []
    },
    "kernelspec": {
      "name": "python3",
      "display_name": "Python 3"
    },
    "language_info": {
      "name": "python"
    }
  },
  "cells": [
    {
      "cell_type": "code",
      "execution_count": null,
      "metadata": {
        "colab": {
          "base_uri": "https://localhost:8080/"
        },
        "id": "_hljzG6XlDbq",
        "outputId": "0d9558fe-16e8-4d70-d82f-c4c6ce7dc62e"
      },
      "outputs": [
        {
          "output_type": "stream",
          "name": "stdout",
          "text": [
            "Hello World!\n"
          ]
        }
      ],
      "source": [
        "# 1. Write a Python program to print \"Hello, World!_\n",
        "\n",
        "print(\"Hello World!\");"
      ]
    },
    {
      "cell_type": "code",
      "source": [
        "# 5. Create a list and tuple in Python, and demonstrate how attempting to change an element works differently\n",
        "my_list = [1,2,3,4,5,]\n",
        "my_list[2]=10\n",
        "print(\"modify list: \" ,my_list)\n",
        "\n",
        "my_tuple = (1, 2, 3, 4, 5)\n",
        "my_tuple [2] = 10\n",
        "print(my_tuple)"
      ],
      "metadata": {
        "colab": {
          "base_uri": "https://localhost:8080/",
          "height": 211
        },
        "id": "ckGSFJlCp4kZ",
        "outputId": "15f4cc15-c694-4e5e-ea2b-e5618cf68002"
      },
      "execution_count": null,
      "outputs": [
        {
          "output_type": "stream",
          "name": "stdout",
          "text": [
            "modify list:  [1, 2, 10, 4, 5]\n"
          ]
        },
        {
          "output_type": "error",
          "ename": "TypeError",
          "evalue": "'tuple' object does not support item assignment",
          "traceback": [
            "\u001b[0;31m---------------------------------------------------------------------------\u001b[0m",
            "\u001b[0;31mTypeError\u001b[0m                                 Traceback (most recent call last)",
            "\u001b[0;32m<ipython-input-19-64b0dbb1592f>\u001b[0m in \u001b[0;36m<cell line: 7>\u001b[0;34m()\u001b[0m\n\u001b[1;32m      5\u001b[0m \u001b[0;34m\u001b[0m\u001b[0m\n\u001b[1;32m      6\u001b[0m \u001b[0mmy_tuple\u001b[0m \u001b[0;34m=\u001b[0m \u001b[0;34m(\u001b[0m\u001b[0;36m1\u001b[0m\u001b[0;34m,\u001b[0m \u001b[0;36m2\u001b[0m\u001b[0;34m,\u001b[0m \u001b[0;36m3\u001b[0m\u001b[0;34m,\u001b[0m \u001b[0;36m4\u001b[0m\u001b[0;34m,\u001b[0m \u001b[0;36m5\u001b[0m\u001b[0;34m)\u001b[0m\u001b[0;34m\u001b[0m\u001b[0;34m\u001b[0m\u001b[0m\n\u001b[0;32m----> 7\u001b[0;31m \u001b[0mmy_tuple\u001b[0m \u001b[0;34m[\u001b[0m\u001b[0;36m2\u001b[0m\u001b[0;34m]\u001b[0m \u001b[0;34m=\u001b[0m \u001b[0;36m10\u001b[0m\u001b[0;34m\u001b[0m\u001b[0;34m\u001b[0m\u001b[0m\n\u001b[0m\u001b[1;32m      8\u001b[0m \u001b[0mprint\u001b[0m\u001b[0;34m(\u001b[0m\u001b[0mmy_tuple\u001b[0m\u001b[0;34m)\u001b[0m\u001b[0;34m\u001b[0m\u001b[0;34m\u001b[0m\u001b[0m\n",
            "\u001b[0;31mTypeError\u001b[0m: 'tuple' object does not support item assignment"
          ]
        }
      ]
    },
    {
      "cell_type": "code",
      "source": [
        "# 7. Write a program to demonstrate the use of logical operators0\n",
        "a = True\n",
        "b = False\n",
        "print(a and b)\n",
        "print(a or b)\n",
        "print(not a)\n",
        "print(not b)"
      ],
      "metadata": {
        "colab": {
          "base_uri": "https://localhost:8080/"
        },
        "id": "mVBgI679wXRY",
        "outputId": "660ac221-f23d-47a3-84fd-baa5552ad997"
      },
      "execution_count": null,
      "outputs": [
        {
          "output_type": "stream",
          "name": "stdout",
          "text": [
            "False\n",
            "True\n",
            "False\n",
            "True\n"
          ]
        }
      ]
    },
    {
      "cell_type": "code",
      "source": [
        "\n",
        "# 8. Write a Python program to convert user input from string to integer, float, and boolean types\n",
        "a = \"6\"\n",
        "b = 6.25\n",
        "c = True\n",
        "x = int(a)\n",
        "y = int(b)\n",
        "z = int(c)\n",
        "\n",
        "print(\"x:\", type(x))\n",
        "print(\"y:\", type(y))\n",
        "print(\"y:\", type(z))\n",
        "print(\"z value:\", z)\n",
        "\n"
      ],
      "metadata": {
        "colab": {
          "base_uri": "https://localhost:8080/"
        },
        "id": "QjETJH_8xABe",
        "outputId": "5ef704ad-b6a0-4f9f-b454-d52784d9cb05"
      },
      "execution_count": null,
      "outputs": [
        {
          "output_type": "stream",
          "name": "stdout",
          "text": [
            "x: <class 'int'>\n",
            "y: <class 'int'>\n",
            "y: <class 'int'>\n",
            "z value: 1\n"
          ]
        }
      ]
    },
    {
      "cell_type": "code",
      "source": [
        "# 9. Write code to demonstrate type casting with list elements\n",
        "original_list = [\"1\", \"2.5\", \"True\", \"False\", \"3\"]\n",
        "int_list = []\n",
        "for element in original_list:\n",
        "    if element.isdigit() or (element.startswith('-') and element[1:].isdigit()):\n",
        "        int_list.append(int(element))\n",
        "float_list = []\n",
        "for element in original_list:\n",
        "    if element.replace('.', '', 1).isdigit() or (element.startswith('-') and element[1:].replace('.', '', 1).isdigit()):\n",
        "        float_list.append(float(element))\n",
        "bool_list = []\n",
        "for element in original_list:\n",
        "    bool_list.append(element.lower() in ['true', '1', 't', 'yes', 'y'])\n",
        "\n",
        "print(\"Original list:\", original_list)\n",
        "print(\"Integer list:\", int_list)\n",
        "print(\"Float list:\", float_list)\n",
        "print(\"Boolean list:\", bool_list)\n"
      ],
      "metadata": {
        "colab": {
          "base_uri": "https://localhost:8080/"
        },
        "id": "RQvxzJCP1zkj",
        "outputId": "f1535e66-15a7-4770-bbd6-8140be35b9dd"
      },
      "execution_count": null,
      "outputs": [
        {
          "output_type": "stream",
          "name": "stdout",
          "text": [
            "Original list: ['1', '2.5', 'True', 'False', '3']\n",
            "Integer list: [1, 3]\n",
            "Float list: [1.0, 2.5, 3.0]\n",
            "Boolean list: [True, False, True, False, False]\n"
          ]
        }
      ]
    },
    {
      "cell_type": "code",
      "source": [
        "# 10. Write a program that checks if a number is positive, negative, or zero\n",
        "number = int(input(\"Enter the number: \"))\n",
        "if number > 0:\n",
        "  print(\"Posative Number\")\n",
        "elif number < 0:\n",
        "  print(\"Negative number\")\n",
        "else:\n",
        "  print(\"Zero\")"
      ],
      "metadata": {
        "colab": {
          "base_uri": "https://localhost:8080/"
        },
        "id": "0VOlPPPR3Htc",
        "outputId": "6fe88ec8-65d4-4f94-eb38-f4bdcbb1d90c"
      },
      "execution_count": null,
      "outputs": [
        {
          "output_type": "stream",
          "name": "stdout",
          "text": [
            "Enter the number: 9\n",
            "Posative Number\n"
          ]
        }
      ]
    },
    {
      "cell_type": "code",
      "source": [
        "# 11. Write a for loop to print numbers from 1 to 10\n",
        "num = 10\n",
        "for i in range (1,num+1):\n",
        "  print(i)"
      ],
      "metadata": {
        "colab": {
          "base_uri": "https://localhost:8080/"
        },
        "id": "QRB0P4HM4P7I",
        "outputId": "d1744f9b-b1a6-479c-d45f-d95af1ff0d61"
      },
      "execution_count": null,
      "outputs": [
        {
          "output_type": "stream",
          "name": "stdout",
          "text": [
            "1\n",
            "2\n",
            "3\n",
            "4\n",
            "5\n",
            "6\n",
            "7\n",
            "8\n",
            "9\n",
            "10\n"
          ]
        }
      ]
    },
    {
      "cell_type": "code",
      "source": [
        "# 12. Write a Python program to find the sum of all even numbers between 1 and 50\n",
        "sum = 0\n",
        "for num in range(0, 51):\n",
        "  if num %2==0:\n",
        "    sum +=num;\n",
        "print(\"Total sum is:\", sum)\n"
      ],
      "metadata": {
        "colab": {
          "base_uri": "https://localhost:8080/"
        },
        "id": "TTdC2yN87mJ9",
        "outputId": "abb8615b-a03e-4c82-9609-d47c2299c66b"
      },
      "execution_count": null,
      "outputs": [
        {
          "output_type": "stream",
          "name": "stdout",
          "text": [
            "Total sum is: 650\n"
          ]
        }
      ]
    },
    {
      "cell_type": "code",
      "source": [
        "# 13. Write a program to reverse a string using a while loop\n",
        "input_string = input(\"Enter your string: \");\n",
        "reverse_string = \"\"\n",
        "index = len(input_string) -1\n",
        "while index >=0:\n",
        "  reverse_string += input_string[index]\n",
        "  index -=1\n",
        "print(reverse_string);"
      ],
      "metadata": {
        "colab": {
          "base_uri": "https://localhost:8080/"
        },
        "id": "-rhdNUg19eXc",
        "outputId": "348a4bf3-1a52-45fd-9b9a-5eb4997e3c36"
      },
      "execution_count": null,
      "outputs": [
        {
          "output_type": "stream",
          "name": "stdout",
          "text": [
            "Enter your string: Hello\n",
            "olleH\n"
          ]
        }
      ]
    },
    {
      "cell_type": "code",
      "source": [
        "# 14. Write a Python program to calculate the factorial of a number provided by the user using a while loop\n",
        "num = int(input(\"Enter your number: \"))\n",
        "factorial = 1\n",
        "count = num\n",
        "while count > 0:\n",
        "  factorial *= count\n",
        "  count -=1\n",
        "print(factorial)\n"
      ],
      "metadata": {
        "colab": {
          "base_uri": "https://localhost:8080/"
        },
        "id": "Ibz9qc0N_pER",
        "outputId": "9f7383b4-efc3-470f-baeb-af2932dd4c38"
      },
      "execution_count": null,
      "outputs": [
        {
          "output_type": "stream",
          "name": "stdout",
          "text": [
            "Enter your number: 5\n",
            "120\n"
          ]
        }
      ]
    },
    {
      "cell_type": "code",
      "source": [
        "# 6. Write a function to demonstrate the behavior of mutable and immutable arguments\n",
        "immutable_value = 5\n",
        "mutable_value = [1,2,3,4]\n",
        "def modify(immutable_new, mutable_new):\n",
        "  immutable_new +=6\n",
        "  mutable_new.append(6)\n",
        "print(\"Before function call\");\n",
        "print(immutable_value);\n",
        "print(mutable_value);\n",
        "\n",
        "modify(immutable_value, mutable_value)\n",
        "print(\"Function call\");\n",
        "print(immutable_value);\n",
        "print(mutable_value)"
      ],
      "metadata": {
        "colab": {
          "base_uri": "https://localhost:8080/"
        },
        "id": "3ulXnas7s8M3",
        "outputId": "800bfac9-6da4-4b82-c096-5c46762fae92"
      },
      "execution_count": null,
      "outputs": [
        {
          "output_type": "stream",
          "name": "stdout",
          "text": [
            "Before function call\n",
            "5\n",
            "[1, 2, 3, 4]\n",
            "Function call\n",
            "5\n",
            "[1, 2, 3, 4, 6]\n"
          ]
        }
      ]
    },
    {
      "cell_type": "code",
      "source": [
        "# 2. Write a Python program that displays your name and age.\n",
        "name = input(\"Enter your name: \");\n",
        "age = int(input(\"Enter your age: \"));\n",
        "print(\"Name :\", name);\n",
        "print(\"Age : \", age);\n"
      ],
      "metadata": {
        "colab": {
          "base_uri": "https://localhost:8080/"
        },
        "id": "jrTnVY84lYV_",
        "outputId": "7e6bbf9e-806c-4d88-9afa-792bcd831deb"
      },
      "execution_count": null,
      "outputs": [
        {
          "output_type": "stream",
          "name": "stdout",
          "text": [
            "Enter your name: DHRUBIOJYOTI MONDAL\n",
            "Enter your age: 21\n",
            "Name : DHRUBIOJYOTI MONDAL\n",
            "Age :  21\n"
          ]
        }
      ]
    },
    {
      "cell_type": "code",
      "source": [
        "# 3. Write code to print all the pre-defined keywords in Python using the keyword library.\n",
        "import keyword\n",
        "print(\"Python Keyword\");\n",
        "for i in keyword.kwlist:\n",
        "  print(i);"
      ],
      "metadata": {
        "colab": {
          "base_uri": "https://localhost:8080/"
        },
        "id": "f5dki0m8nOhy",
        "outputId": "4d87ba25-362b-4715-d8e3-d2082c023b39"
      },
      "execution_count": null,
      "outputs": [
        {
          "output_type": "stream",
          "name": "stdout",
          "text": [
            "Python Keyword\n",
            "False\n",
            "None\n",
            "True\n",
            "and\n",
            "as\n",
            "assert\n",
            "async\n",
            "await\n",
            "break\n",
            "class\n",
            "continue\n",
            "def\n",
            "del\n",
            "elif\n",
            "else\n",
            "except\n",
            "finally\n",
            "for\n",
            "from\n",
            "global\n",
            "if\n",
            "import\n",
            "in\n",
            "is\n",
            "lambda\n",
            "nonlocal\n",
            "not\n",
            "or\n",
            "pass\n",
            "raise\n",
            "return\n",
            "try\n",
            "while\n",
            "with\n",
            "yield\n"
          ]
        }
      ]
    },
    {
      "cell_type": "code",
      "source": [
        "# 4.Write a program that checks if a given word is a Python keyword\n",
        "import keyword\n",
        "word = input(\"Enter your Keyword: \");\n",
        "if keyword.iskeyword(word):\n",
        "  print(\"Keyword is present in Python\");\n",
        "else:\n",
        "  print(\"Keyword is not present in python\");"
      ],
      "metadata": {
        "colab": {
          "base_uri": "https://localhost:8080/"
        },
        "id": "g_lmxxixoP_B",
        "outputId": "b79667b0-1711-4515-b393-5ff37cd63c98"
      },
      "execution_count": null,
      "outputs": [
        {
          "output_type": "stream",
          "name": "stdout",
          "text": [
            "Enter your Keyword: for\n",
            "Keyword is present in Python\n"
          ]
        }
      ]
    }
  ]
}